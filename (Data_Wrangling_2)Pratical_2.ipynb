{
  "cells": [
    {
      "cell_type": "markdown",
      "metadata": {
        "id": "7y6SgBaeOtdT"
      },
      "source": [
        "Data Wrangling II\n",
        "\n",
        "Create an “Academic performance” dataset of students and perform the following operations using\n",
        "Python.\n",
        "1. Scan all variables for missing values and inconsistencies. If there are missing values and/or\n",
        "inconsistencies, use any of the suitable techniques to deal with them.\n",
        "2. Scan all numeric variables for outliers. If there are outliers, use any of the suitable\n",
        "techniques to deal with them.\n",
        "3. Apply data transformations on at least one of the variables. The purpose of this\n",
        "transformation should be one of the following reasons: to change the scale for better\n",
        "understanding of the variable, to convert a non-linear relation into a linear one, or to\n",
        "decrease the skewness and convert the distribution into a normal distribution.\n",
        "Reason and document your approach properly."
      ]
    },
    {
      "cell_type": "code",
      "execution_count": 1,
      "metadata": {
        "id": "ImK8yP6DOr_t"
      },
      "outputs": [],
      "source": [
        "import pandas as pd\n",
        "import numpy as np\n",
        "import seaborn as sns\n",
        "import matplotlib.pyplot as plt"
      ]
    },
    {
      "cell_type": "code",
      "execution_count": 2,
      "metadata": {
        "colab": {
          "base_uri": "https://localhost:8080/",
          "height": 833
        },
        "id": "uhab8whjPBnM",
        "outputId": "45d565d0-fd1e-4bf0-f788-8b2276ff444c"
      },
      "outputs": [
        {
          "data": {
            "application/vnd.microsoft.datawrangler.viewer.v0+json": {
              "columns": [
                {
                  "name": "index",
                  "rawType": "int64",
                  "type": "integer"
                },
                {
                  "name": "sr no",
                  "rawType": "object",
                  "type": "string"
                },
                {
                  "name": "english",
                  "rawType": "object",
                  "type": "string"
                },
                {
                  "name": "math",
                  "rawType": "object",
                  "type": "string"
                },
                {
                  "name": "study hours",
                  "rawType": "object",
                  "type": "string"
                }
              ],
              "conversionMethod": "pd.DataFrame",
              "ref": "33d0efbd-eee6-4841-a7b5-c4809a4fcc08",
              "rows": [
                [
                  "0",
                  "1",
                  "80",
                  "31",
                  "9"
                ],
                [
                  "1",
                  "2",
                  "70",
                  "95",
                  "11"
                ],
                [
                  "2",
                  "3",
                  "45",
                  "85",
                  "12"
                ],
                [
                  "3",
                  "4",
                  "45",
                  "25",
                  "5"
                ],
                [
                  "4",
                  "5",
                  "56",
                  "35",
                  "9"
                ],
                [
                  "5",
                  "6",
                  "68",
                  "65",
                  "31"
                ],
                [
                  "6",
                  "7",
                  "77",
                  "120",
                  "21"
                ],
                [
                  "7",
                  "8",
                  "58",
                  "140",
                  "40"
                ],
                [
                  "8",
                  "9",
                  "99",
                  "75",
                  "55"
                ],
                [
                  "9",
                  "10",
                  "100",
                  "20",
                  "30"
                ],
                [
                  "10",
                  "11",
                  "19",
                  "25",
                  "26"
                ],
                [
                  "11",
                  "12",
                  "58",
                  "85",
                  "15"
                ],
                [
                  "12",
                  "13",
                  "36",
                  "45",
                  "74"
                ],
                [
                  "13",
                  "14",
                  "48",
                  "65",
                  "84"
                ],
                [
                  "14",
                  "15",
                  "50",
                  "56",
                  "25"
                ],
                [
                  "15",
                  "16",
                  "66",
                  "75",
                  "21"
                ],
                [
                  "16",
                  "17",
                  "97",
                  "41",
                  "20"
                ],
                [
                  "17",
                  "18",
                  "180",
                  "88",
                  "6"
                ],
                [
                  "18",
                  "19",
                  "87",
                  "98",
                  "12"
                ],
                [
                  "19",
                  "20",
                  "57",
                  "100",
                  "11"
                ],
                [
                  "20",
                  "21",
                  "81",
                  "32",
                  "8"
                ],
                [
                  "21",
                  "22",
                  "42",
                  "74",
                  "4"
                ],
                [
                  "22",
                  "23",
                  "83",
                  "41",
                  "5"
                ],
                [
                  "23",
                  "24",
                  "94",
                  "66",
                  "3"
                ],
                [
                  "24",
                  "25",
                  "55",
                  "77",
                  "2"
                ]
              ],
              "shape": {
                "columns": 4,
                "rows": 25
              }
            },
            "text/html": [
              "<div>\n",
              "<style scoped>\n",
              "    .dataframe tbody tr th:only-of-type {\n",
              "        vertical-align: middle;\n",
              "    }\n",
              "\n",
              "    .dataframe tbody tr th {\n",
              "        vertical-align: top;\n",
              "    }\n",
              "\n",
              "    .dataframe thead th {\n",
              "        text-align: right;\n",
              "    }\n",
              "</style>\n",
              "<table border=\"1\" class=\"dataframe\">\n",
              "  <thead>\n",
              "    <tr style=\"text-align: right;\">\n",
              "      <th></th>\n",
              "      <th>sr no</th>\n",
              "      <th>english</th>\n",
              "      <th>math</th>\n",
              "      <th>study hours</th>\n",
              "    </tr>\n",
              "  </thead>\n",
              "  <tbody>\n",
              "    <tr>\n",
              "      <th>0</th>\n",
              "      <td>1</td>\n",
              "      <td>80</td>\n",
              "      <td>31</td>\n",
              "      <td>9</td>\n",
              "    </tr>\n",
              "    <tr>\n",
              "      <th>1</th>\n",
              "      <td>2</td>\n",
              "      <td>70</td>\n",
              "      <td>95</td>\n",
              "      <td>11</td>\n",
              "    </tr>\n",
              "    <tr>\n",
              "      <th>2</th>\n",
              "      <td>3</td>\n",
              "      <td>45</td>\n",
              "      <td>85</td>\n",
              "      <td>12</td>\n",
              "    </tr>\n",
              "    <tr>\n",
              "      <th>3</th>\n",
              "      <td>4</td>\n",
              "      <td>45</td>\n",
              "      <td>25</td>\n",
              "      <td>5</td>\n",
              "    </tr>\n",
              "    <tr>\n",
              "      <th>4</th>\n",
              "      <td>5</td>\n",
              "      <td>56</td>\n",
              "      <td>35</td>\n",
              "      <td>9</td>\n",
              "    </tr>\n",
              "    <tr>\n",
              "      <th>5</th>\n",
              "      <td>6</td>\n",
              "      <td>68</td>\n",
              "      <td>65</td>\n",
              "      <td>31</td>\n",
              "    </tr>\n",
              "    <tr>\n",
              "      <th>6</th>\n",
              "      <td>7</td>\n",
              "      <td>77</td>\n",
              "      <td>120</td>\n",
              "      <td>21</td>\n",
              "    </tr>\n",
              "    <tr>\n",
              "      <th>7</th>\n",
              "      <td>8</td>\n",
              "      <td>58</td>\n",
              "      <td>140</td>\n",
              "      <td>40</td>\n",
              "    </tr>\n",
              "    <tr>\n",
              "      <th>8</th>\n",
              "      <td>9</td>\n",
              "      <td>99</td>\n",
              "      <td>75</td>\n",
              "      <td>55</td>\n",
              "    </tr>\n",
              "    <tr>\n",
              "      <th>9</th>\n",
              "      <td>10</td>\n",
              "      <td>100</td>\n",
              "      <td>20</td>\n",
              "      <td>30</td>\n",
              "    </tr>\n",
              "    <tr>\n",
              "      <th>10</th>\n",
              "      <td>11</td>\n",
              "      <td>19</td>\n",
              "      <td>25</td>\n",
              "      <td>26</td>\n",
              "    </tr>\n",
              "    <tr>\n",
              "      <th>11</th>\n",
              "      <td>12</td>\n",
              "      <td>58</td>\n",
              "      <td>85</td>\n",
              "      <td>15</td>\n",
              "    </tr>\n",
              "    <tr>\n",
              "      <th>12</th>\n",
              "      <td>13</td>\n",
              "      <td>36</td>\n",
              "      <td>45</td>\n",
              "      <td>74</td>\n",
              "    </tr>\n",
              "    <tr>\n",
              "      <th>13</th>\n",
              "      <td>14</td>\n",
              "      <td>48</td>\n",
              "      <td>65</td>\n",
              "      <td>84</td>\n",
              "    </tr>\n",
              "    <tr>\n",
              "      <th>14</th>\n",
              "      <td>15</td>\n",
              "      <td>50</td>\n",
              "      <td>56</td>\n",
              "      <td>25</td>\n",
              "    </tr>\n",
              "    <tr>\n",
              "      <th>15</th>\n",
              "      <td>16</td>\n",
              "      <td>66</td>\n",
              "      <td>75</td>\n",
              "      <td>21</td>\n",
              "    </tr>\n",
              "    <tr>\n",
              "      <th>16</th>\n",
              "      <td>17</td>\n",
              "      <td>97</td>\n",
              "      <td>41</td>\n",
              "      <td>20</td>\n",
              "    </tr>\n",
              "    <tr>\n",
              "      <th>17</th>\n",
              "      <td>18</td>\n",
              "      <td>180</td>\n",
              "      <td>88</td>\n",
              "      <td>6</td>\n",
              "    </tr>\n",
              "    <tr>\n",
              "      <th>18</th>\n",
              "      <td>19</td>\n",
              "      <td>87</td>\n",
              "      <td>98</td>\n",
              "      <td>12</td>\n",
              "    </tr>\n",
              "    <tr>\n",
              "      <th>19</th>\n",
              "      <td>20</td>\n",
              "      <td>57</td>\n",
              "      <td>100</td>\n",
              "      <td>11</td>\n",
              "    </tr>\n",
              "    <tr>\n",
              "      <th>20</th>\n",
              "      <td>21</td>\n",
              "      <td>81</td>\n",
              "      <td>32</td>\n",
              "      <td>8</td>\n",
              "    </tr>\n",
              "    <tr>\n",
              "      <th>21</th>\n",
              "      <td>22</td>\n",
              "      <td>42</td>\n",
              "      <td>74</td>\n",
              "      <td>4</td>\n",
              "    </tr>\n",
              "    <tr>\n",
              "      <th>22</th>\n",
              "      <td>23</td>\n",
              "      <td>83</td>\n",
              "      <td>41</td>\n",
              "      <td>5</td>\n",
              "    </tr>\n",
              "    <tr>\n",
              "      <th>23</th>\n",
              "      <td>24</td>\n",
              "      <td>94</td>\n",
              "      <td>66</td>\n",
              "      <td>3</td>\n",
              "    </tr>\n",
              "    <tr>\n",
              "      <th>24</th>\n",
              "      <td>25</td>\n",
              "      <td>55</td>\n",
              "      <td>77</td>\n",
              "      <td>2</td>\n",
              "    </tr>\n",
              "  </tbody>\n",
              "</table>\n",
              "</div>"
            ],
            "text/plain": [
              "   sr no english math study hours\n",
              "0      1      80   31           9\n",
              "1      2      70   95          11\n",
              "2      3      45   85          12\n",
              "3      4      45   25           5\n",
              "4      5      56   35           9\n",
              "5      6      68   65          31\n",
              "6      7      77  120          21\n",
              "7      8      58  140          40\n",
              "8      9      99   75          55\n",
              "9     10     100   20          30\n",
              "10    11      19   25          26\n",
              "11    12      58   85          15\n",
              "12    13      36   45          74\n",
              "13    14      48   65          84\n",
              "14    15      50   56          25\n",
              "15    16      66   75          21\n",
              "16    17      97   41          20\n",
              "17    18     180   88           6\n",
              "18    19      87   98          12\n",
              "19    20      57  100          11\n",
              "20    21      81   32           8\n",
              "21    22      42   74           4\n",
              "22    23      83   41           5\n",
              "23    24      94   66           3\n",
              "24    25      55   77           2"
            ]
          },
          "execution_count": 2,
          "metadata": {},
          "output_type": "execute_result"
        }
      ],
      "source": [
        "# Creating dataset\n",
        "#df = pd.read_csv(\"Academic_data.csv\")\n",
        "data = {\n",
        "    'sr no': ['1', '2', '3','4','5','6','7','8','9','10','11', '12', '13','14','15','16','17','18','19','20','21', '22', '23','24','25'],\n",
        "    'english': ['80', '70', '45','45','56','68','77','58','99','100','19', '58', '36','48','50','66','97','180','87','57','81', '42', '83','94','55'],\n",
        "    'math': ['31', '95', '85','25','35','65','120','140','75','20','25', '85', '45','65','56','75','41','88','98','100','32', '74', '41','66','77'],\n",
        "    'study hours': ['9', '11', '12','5','9','31','21','40','55','30','26', '15', '74','84','25','21','20','6','12','11','8', '4', '5','3','2']\n",
        "}\n",
        "\n",
        "df = pd.DataFrame(data)\n",
        "df"
      ]
    },
    {
      "cell_type": "code",
      "execution_count": 3,
      "metadata": {
        "colab": {
          "base_uri": "https://localhost:8080/",
          "height": 206
        },
        "id": "LW6WEIh4PPu-",
        "outputId": "fd7bd065-bfba-4c81-8a3b-87b12f5b698b"
      },
      "outputs": [
        {
          "data": {
            "application/vnd.microsoft.datawrangler.viewer.v0+json": {
              "columns": [
                {
                  "name": "index",
                  "rawType": "int64",
                  "type": "integer"
                },
                {
                  "name": "sr no",
                  "rawType": "object",
                  "type": "string"
                },
                {
                  "name": "english",
                  "rawType": "object",
                  "type": "string"
                },
                {
                  "name": "math",
                  "rawType": "object",
                  "type": "string"
                },
                {
                  "name": "study hours",
                  "rawType": "object",
                  "type": "string"
                }
              ],
              "conversionMethod": "pd.DataFrame",
              "ref": "0272c8d7-8859-46ec-b8b9-a30eccc2379c",
              "rows": [
                [
                  "0",
                  "1",
                  "80",
                  "31",
                  "9"
                ],
                [
                  "1",
                  "2",
                  "70",
                  "95",
                  "11"
                ],
                [
                  "2",
                  "3",
                  "45",
                  "85",
                  "12"
                ],
                [
                  "3",
                  "4",
                  "45",
                  "25",
                  "5"
                ],
                [
                  "4",
                  "5",
                  "56",
                  "35",
                  "9"
                ]
              ],
              "shape": {
                "columns": 4,
                "rows": 5
              }
            },
            "text/html": [
              "<div>\n",
              "<style scoped>\n",
              "    .dataframe tbody tr th:only-of-type {\n",
              "        vertical-align: middle;\n",
              "    }\n",
              "\n",
              "    .dataframe tbody tr th {\n",
              "        vertical-align: top;\n",
              "    }\n",
              "\n",
              "    .dataframe thead th {\n",
              "        text-align: right;\n",
              "    }\n",
              "</style>\n",
              "<table border=\"1\" class=\"dataframe\">\n",
              "  <thead>\n",
              "    <tr style=\"text-align: right;\">\n",
              "      <th></th>\n",
              "      <th>sr no</th>\n",
              "      <th>english</th>\n",
              "      <th>math</th>\n",
              "      <th>study hours</th>\n",
              "    </tr>\n",
              "  </thead>\n",
              "  <tbody>\n",
              "    <tr>\n",
              "      <th>0</th>\n",
              "      <td>1</td>\n",
              "      <td>80</td>\n",
              "      <td>31</td>\n",
              "      <td>9</td>\n",
              "    </tr>\n",
              "    <tr>\n",
              "      <th>1</th>\n",
              "      <td>2</td>\n",
              "      <td>70</td>\n",
              "      <td>95</td>\n",
              "      <td>11</td>\n",
              "    </tr>\n",
              "    <tr>\n",
              "      <th>2</th>\n",
              "      <td>3</td>\n",
              "      <td>45</td>\n",
              "      <td>85</td>\n",
              "      <td>12</td>\n",
              "    </tr>\n",
              "    <tr>\n",
              "      <th>3</th>\n",
              "      <td>4</td>\n",
              "      <td>45</td>\n",
              "      <td>25</td>\n",
              "      <td>5</td>\n",
              "    </tr>\n",
              "    <tr>\n",
              "      <th>4</th>\n",
              "      <td>5</td>\n",
              "      <td>56</td>\n",
              "      <td>35</td>\n",
              "      <td>9</td>\n",
              "    </tr>\n",
              "  </tbody>\n",
              "</table>\n",
              "</div>"
            ],
            "text/plain": [
              "  sr no english math study hours\n",
              "0     1      80   31           9\n",
              "1     2      70   95          11\n",
              "2     3      45   85          12\n",
              "3     4      45   25           5\n",
              "4     5      56   35           9"
            ]
          },
          "execution_count": 3,
          "metadata": {},
          "output_type": "execute_result"
        }
      ],
      "source": [
        "df.head()"
      ]
    },
    {
      "cell_type": "code",
      "execution_count": 4,
      "metadata": {
        "colab": {
          "base_uri": "https://localhost:8080/",
          "height": 206
        },
        "id": "B6jUIYMhPYYy",
        "outputId": "9a4c298c-d2c5-4225-8acc-0abff3cf1063"
      },
      "outputs": [
        {
          "data": {
            "application/vnd.microsoft.datawrangler.viewer.v0+json": {
              "columns": [
                {
                  "name": "index",
                  "rawType": "int64",
                  "type": "integer"
                },
                {
                  "name": "sr no",
                  "rawType": "object",
                  "type": "string"
                },
                {
                  "name": "english",
                  "rawType": "object",
                  "type": "string"
                },
                {
                  "name": "math",
                  "rawType": "object",
                  "type": "string"
                },
                {
                  "name": "study hours",
                  "rawType": "object",
                  "type": "string"
                }
              ],
              "conversionMethod": "pd.DataFrame",
              "ref": "2c253c3e-8ab1-4d91-9cb8-7c47e034bd52",
              "rows": [
                [
                  "20",
                  "21",
                  "81",
                  "32",
                  "8"
                ],
                [
                  "21",
                  "22",
                  "42",
                  "74",
                  "4"
                ],
                [
                  "22",
                  "23",
                  "83",
                  "41",
                  "5"
                ],
                [
                  "23",
                  "24",
                  "94",
                  "66",
                  "3"
                ],
                [
                  "24",
                  "25",
                  "55",
                  "77",
                  "2"
                ]
              ],
              "shape": {
                "columns": 4,
                "rows": 5
              }
            },
            "text/html": [
              "<div>\n",
              "<style scoped>\n",
              "    .dataframe tbody tr th:only-of-type {\n",
              "        vertical-align: middle;\n",
              "    }\n",
              "\n",
              "    .dataframe tbody tr th {\n",
              "        vertical-align: top;\n",
              "    }\n",
              "\n",
              "    .dataframe thead th {\n",
              "        text-align: right;\n",
              "    }\n",
              "</style>\n",
              "<table border=\"1\" class=\"dataframe\">\n",
              "  <thead>\n",
              "    <tr style=\"text-align: right;\">\n",
              "      <th></th>\n",
              "      <th>sr no</th>\n",
              "      <th>english</th>\n",
              "      <th>math</th>\n",
              "      <th>study hours</th>\n",
              "    </tr>\n",
              "  </thead>\n",
              "  <tbody>\n",
              "    <tr>\n",
              "      <th>20</th>\n",
              "      <td>21</td>\n",
              "      <td>81</td>\n",
              "      <td>32</td>\n",
              "      <td>8</td>\n",
              "    </tr>\n",
              "    <tr>\n",
              "      <th>21</th>\n",
              "      <td>22</td>\n",
              "      <td>42</td>\n",
              "      <td>74</td>\n",
              "      <td>4</td>\n",
              "    </tr>\n",
              "    <tr>\n",
              "      <th>22</th>\n",
              "      <td>23</td>\n",
              "      <td>83</td>\n",
              "      <td>41</td>\n",
              "      <td>5</td>\n",
              "    </tr>\n",
              "    <tr>\n",
              "      <th>23</th>\n",
              "      <td>24</td>\n",
              "      <td>94</td>\n",
              "      <td>66</td>\n",
              "      <td>3</td>\n",
              "    </tr>\n",
              "    <tr>\n",
              "      <th>24</th>\n",
              "      <td>25</td>\n",
              "      <td>55</td>\n",
              "      <td>77</td>\n",
              "      <td>2</td>\n",
              "    </tr>\n",
              "  </tbody>\n",
              "</table>\n",
              "</div>"
            ],
            "text/plain": [
              "   sr no english math study hours\n",
              "20    21      81   32           8\n",
              "21    22      42   74           4\n",
              "22    23      83   41           5\n",
              "23    24      94   66           3\n",
              "24    25      55   77           2"
            ]
          },
          "execution_count": 4,
          "metadata": {},
          "output_type": "execute_result"
        }
      ],
      "source": [
        "df.tail()"
      ]
    },
    {
      "cell_type": "code",
      "execution_count": 5,
      "metadata": {
        "colab": {
          "base_uri": "https://localhost:8080/",
          "height": 174
        },
        "id": "JMb5S34CPZ1t",
        "outputId": "fa45ee56-0629-4f7e-c0ba-9102d06b5f75"
      },
      "outputs": [
        {
          "data": {
            "application/vnd.microsoft.datawrangler.viewer.v0+json": {
              "columns": [
                {
                  "name": "index",
                  "rawType": "object",
                  "type": "string"
                },
                {
                  "name": "sr no",
                  "rawType": "object",
                  "type": "unknown"
                },
                {
                  "name": "english",
                  "rawType": "object",
                  "type": "unknown"
                },
                {
                  "name": "math",
                  "rawType": "object",
                  "type": "unknown"
                },
                {
                  "name": "study hours",
                  "rawType": "object",
                  "type": "unknown"
                }
              ],
              "conversionMethod": "pd.DataFrame",
              "ref": "f66a5604-afcc-4b6d-801b-4eefb01a7b79",
              "rows": [
                [
                  "count",
                  "25",
                  "25",
                  "25",
                  "25"
                ],
                [
                  "unique",
                  "25",
                  "23",
                  "20",
                  "20"
                ],
                [
                  "top",
                  "1",
                  "45",
                  "25",
                  "9"
                ],
                [
                  "freq",
                  "1",
                  "2",
                  "2",
                  "2"
                ]
              ],
              "shape": {
                "columns": 4,
                "rows": 4
              }
            },
            "text/html": [
              "<div>\n",
              "<style scoped>\n",
              "    .dataframe tbody tr th:only-of-type {\n",
              "        vertical-align: middle;\n",
              "    }\n",
              "\n",
              "    .dataframe tbody tr th {\n",
              "        vertical-align: top;\n",
              "    }\n",
              "\n",
              "    .dataframe thead th {\n",
              "        text-align: right;\n",
              "    }\n",
              "</style>\n",
              "<table border=\"1\" class=\"dataframe\">\n",
              "  <thead>\n",
              "    <tr style=\"text-align: right;\">\n",
              "      <th></th>\n",
              "      <th>sr no</th>\n",
              "      <th>english</th>\n",
              "      <th>math</th>\n",
              "      <th>study hours</th>\n",
              "    </tr>\n",
              "  </thead>\n",
              "  <tbody>\n",
              "    <tr>\n",
              "      <th>count</th>\n",
              "      <td>25</td>\n",
              "      <td>25</td>\n",
              "      <td>25</td>\n",
              "      <td>25</td>\n",
              "    </tr>\n",
              "    <tr>\n",
              "      <th>unique</th>\n",
              "      <td>25</td>\n",
              "      <td>23</td>\n",
              "      <td>20</td>\n",
              "      <td>20</td>\n",
              "    </tr>\n",
              "    <tr>\n",
              "      <th>top</th>\n",
              "      <td>1</td>\n",
              "      <td>45</td>\n",
              "      <td>25</td>\n",
              "      <td>9</td>\n",
              "    </tr>\n",
              "    <tr>\n",
              "      <th>freq</th>\n",
              "      <td>1</td>\n",
              "      <td>2</td>\n",
              "      <td>2</td>\n",
              "      <td>2</td>\n",
              "    </tr>\n",
              "  </tbody>\n",
              "</table>\n",
              "</div>"
            ],
            "text/plain": [
              "       sr no english math study hours\n",
              "count     25      25   25          25\n",
              "unique    25      23   20          20\n",
              "top        1      45   25           9\n",
              "freq       1       2    2           2"
            ]
          },
          "execution_count": 5,
          "metadata": {},
          "output_type": "execute_result"
        }
      ],
      "source": [
        "df.describe()"
      ]
    },
    {
      "cell_type": "code",
      "execution_count": 6,
      "metadata": {
        "colab": {
          "base_uri": "https://localhost:8080/"
        },
        "id": "sIhbiJ5uPcEa",
        "outputId": "4ad5d396-1ac4-42a9-a7a2-4b4182d2ead0"
      },
      "outputs": [
        {
          "name": "stdout",
          "output_type": "stream",
          "text": [
            "<class 'pandas.core.frame.DataFrame'>\n",
            "RangeIndex: 25 entries, 0 to 24\n",
            "Data columns (total 4 columns):\n",
            " #   Column       Non-Null Count  Dtype \n",
            "---  ------       --------------  ----- \n",
            " 0   sr no        25 non-null     object\n",
            " 1   english      25 non-null     object\n",
            " 2   math         25 non-null     object\n",
            " 3   study hours  25 non-null     object\n",
            "dtypes: object(4)\n",
            "memory usage: 932.0+ bytes\n"
          ]
        }
      ],
      "source": [
        "df.info()"
      ]
    },
    {
      "cell_type": "code",
      "execution_count": 7,
      "metadata": {
        "colab": {
          "base_uri": "https://localhost:8080/"
        },
        "id": "bf3anrYyEOrS",
        "outputId": "901e0877-99a3-40b7-a4ed-0deb86ff78ca"
      },
      "outputs": [
        {
          "data": {
            "text/plain": [
              "(25, 4)"
            ]
          },
          "execution_count": 7,
          "metadata": {},
          "output_type": "execute_result"
        }
      ],
      "source": [
        "df.shape"
      ]
    },
    {
      "cell_type": "code",
      "execution_count": 8,
      "metadata": {
        "colab": {
          "base_uri": "https://localhost:8080/",
          "height": 209
        },
        "id": "Bl-1qe2bPeya",
        "outputId": "02dd45ae-949b-4f7c-8757-1c595d6e8f4b"
      },
      "outputs": [
        {
          "data": {
            "text/plain": [
              "sr no          object\n",
              "english        object\n",
              "math           object\n",
              "study hours    object\n",
              "dtype: object"
            ]
          },
          "execution_count": 8,
          "metadata": {},
          "output_type": "execute_result"
        }
      ],
      "source": [
        "df.dtypes"
      ]
    },
    {
      "cell_type": "code",
      "execution_count": 9,
      "metadata": {
        "id": "E16w6BiMOwnI"
      },
      "outputs": [],
      "source": [
        "#Converting columns to int or float\n",
        "df['english'] = df['english'].astype(int)\n",
        "df['math'] = df['math'].astype(int)\n",
        "df['study hours'] = df['study hours'].astype(int)"
      ]
    },
    {
      "cell_type": "code",
      "execution_count": 10,
      "metadata": {
        "colab": {
          "base_uri": "https://localhost:8080/",
          "height": 596
        },
        "id": "nQrESwXvPhmk",
        "outputId": "9686deff-a9b4-41a5-8821-b94d1495ac2d"
      },
      "outputs": [
        {
          "name": "stderr",
          "output_type": "stream",
          "text": [
            "C:\\Users\\adity\\AppData\\Local\\Temp\\ipykernel_27868\\1659994782.py:3: UserWarning: Ignoring `palette` because no `hue` variable has been assigned.\n",
            "  sns.histplot(data=df,x='math',y='study hours',palette=\"Set2\")\n"
          ]
        },
        {
          "data": {
            "image/png": "[encoded data removed]",
            "text/plain": [
              "<Figure size 1000x800 with 1 Axes>"
            ]
          },
          "metadata": {},
          "output_type": "display_data"
        }
      ],
      "source": [
        "#Create a 2D Histogram\n",
        "plt.figure(figsize=(10,8))\n",
        "sns.histplot(data=df,x='math',y='study hours',palette=\"Set2\")\n",
        "plt.title(\"histogram for math\")\n",
        "plt.show()"
      ]
    },
    {
      "cell_type": "code",
      "execution_count": 11,
      "metadata": {
        "colab": {
          "base_uri": "https://localhost:8080/"
        },
        "id": "EEZMDrJa60Sx",
        "outputId": "d235b0d6-1efb-4ea1-d40b-b27b132066cb"
      },
      "outputs": [
        {
          "name": "stdout",
          "output_type": "stream",
          "text": [
            "Missing values before treatment:\n",
            " sr no          0\n",
            "english        0\n",
            "math           0\n",
            "study hours    0\n",
            "dtype: int64\n",
            "\n",
            "Missing values after treatment:\n",
            " sr no          0\n",
            "english        0\n",
            "math           0\n",
            "study hours    0\n",
            "dtype: int64\n"
          ]
        }
      ],
      "source": [
        "# 1. Handle Missing Values\n",
        "print(\"Missing values before treatment:\\n\", df.isnull().sum())  #isnull().sum() checks each column for missing values\n",
        "df.fillna(df.mean(numeric_only=True), inplace=True)         # fillna() fills missing value with the mean of column and numeric only ensures only numeric values are used\n",
        "print(\"\\nMissing values after treatment:\\n\", df.isnull().sum())"
      ]
    },
    {
      "cell_type": "code",
      "execution_count": 12,
      "metadata": {
        "id": "LlLB_kvw7z41"
      },
      "outputs": [],
      "source": [
        "# 2. Treat Outliers using Winsorization (used when we don't what to drop the outliners but to reduce the impact)\n",
        "from scipy.stats.mstats import winsorize\n",
        "\n",
        "# Apply Winsorization to numeric columns\n",
        "df['math'] = winsorize(df['math'], limits=[0.05, 0.05])\n",
        "df['english'] = winsorize(df['english'], limits=[0.05, 0.05])\n",
        "df['study hours'] = winsorize(df['study hours'], limits=[0.05, 0.05])\n",
        "\n",
        "#Winsorization limits extreme values to reduce the effect of outliers. limits=[0.05, 0.05] means the bottom and top 5% of the data will be replaced by values at those percentiles."
      ]
    },
    {
      "cell_type": "code",
      "execution_count": 13,
      "metadata": {
        "id": "tOtP4Zzi75Y5"
      },
      "outputs": [],
      "source": [
        "# 3. Apply Power Transformation to Reduce Skewness\n",
        "from sklearn.preprocessing import PowerTransformer\n",
        "\n",
        "pt = PowerTransformer()\n",
        "df['study_hours_transformed'] = pt.fit_transform(df[['study hours']])\n",
        "\n",
        "#PowerTransformer reduces skewness and attempts to make the variable's distribution more Gaussian (normal). The transformed values are stored in a new column study_hours_transformed"
      ]
    },
    {
      "cell_type": "code",
      "execution_count": 14,
      "metadata": {
        "colab": {
          "base_uri": "https://localhost:8080/",
          "height": 314
        },
        "id": "6n3mJ-Rm79mi",
        "outputId": "f1036b18-39f3-49e9-d861-249bb287658e"
      },
      "outputs": [
        {
          "data": {
            "image/png": "[encoded data removed]",
            "text/plain": [
              "<Figure size 1200x500 with 2 Axes>"
            ]
          },
          "metadata": {},
          "output_type": "display_data"
        }
      ],
      "source": [
        "# Compare distribution before and after transformation\n",
        "import matplotlib.pyplot as plt\n",
        "import seaborn as sns\n",
        "\n",
        "plt.figure(figsize=(12, 5))\n",
        "plt.subplot(1, 2, 1)\n",
        "sns.histplot(df['study hours'], kde=True) # kde=True adds a smoothed curve to see the distribution shape.\n",
        "plt.title('Before Transformation')\n",
        "\n",
        "plt.subplot(1, 2, 2)\n",
        "sns.histplot(df['study_hours_transformed'], kde=True) # kde=True adds a smoothed curve to see the distribution shape.\n",
        "plt.title('After Power Transformation')\n",
        "plt.show()"
      ]
    },
    {
      "cell_type": "code",
      "execution_count": null,
      "metadata": {
        "id": "4ti2P6XdQeuP"
      },
      "outputs": [],
      "source": []
    }
  ],
  "metadata": {
    "colab": {
      "provenance": []
    },
    "kernelspec": {
      "display_name": "Python 3",
      "name": "python3"
    },
    "language_info": {
      "codemirror_mode": {
        "name": "ipython",
        "version": 3
      },
      "file_extension": ".py",
      "mimetype": "text/x-python",
      "name": "python",
      "nbconvert_exporter": "python",
      "pygments_lexer": "ipython3",
      "version": "3.11.9"
    }
  },
  "nbformat": 4,
  "nbformat_minor": 0
}
