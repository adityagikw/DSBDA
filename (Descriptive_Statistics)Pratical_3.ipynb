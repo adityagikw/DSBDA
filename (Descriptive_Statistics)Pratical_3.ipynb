{
  "cells": [
    {
      "cell_type": "markdown",
      "metadata": {
        "id": "mJ8h9yZ39VP5"
      },
      "source": [
        "Descriptive Statistics - Measures of Central Tendency and variability\n",
        "\n",
        "Perform the following operations on any open source dataset (e.g., data.csv)\n",
        "1. Provide summary statistics (mean, median, minimum, maximum, standard deviation) for\n",
        "a dataset (age, income etc.) with numeric variables grouped by one of the qualitative\n",
        "(categorical) variable. For example, if your categorical variable is age groups and\n",
        "quantitative variable is income, then provide summary statistics of income grouped by the\n",
        "age groups. Create a list that contains a numeric value for each response to the categorical\n",
        "variable.\n",
        "2. Write a Python program to display some basic statistical details like percentile, mean,\n",
        "standard deviation etc. of the species of ‘Iris-setosa’, ‘Iris-versicolor’ and ‘Iris-versicolor’\n",
        "of iris.csv dataset.\n",
        "Provide the codes with outputs and explain everything that you do in this step.\n"
      ]
    },
    {
      "cell_type": "code",
      "execution_count": 12,
      "metadata": {
        "id": "R6vUwIFW9T6w"
      },
      "outputs": [],
      "source": [
        "import numpy as np\n",
        "import pandas as pd\n",
        "import seaborn as sns\n",
        "import matplotlib.pyplot as plt"
      ]
    },
    {
      "cell_type": "code",
      "execution_count": 13,
      "metadata": {
        "colab": {
          "base_uri": "https://localhost:8080/"
        },
        "id": "KTe4CDmN9fE2",
        "outputId": "9320b43f-bdde-44be-aa59-8ba58353e464"
      },
      "outputs": [
        {
          "name": "stdout",
          "output_type": "stream",
          "text": [
            "      Id  SepalLengthCm  SepalWidthCm  PetalLengthCm  PetalWidthCm  \\\n",
            "0      1            5.1           3.5            1.4           0.2   \n",
            "1      2            4.9           3.0            1.4           0.2   \n",
            "2      3            4.7           3.2            1.3           0.2   \n",
            "3      4            4.6           3.1            1.5           0.2   \n",
            "4      5            5.0           3.6            1.4           0.2   \n",
            "..   ...            ...           ...            ...           ...   \n",
            "145  146            6.7           3.0            5.2           2.3   \n",
            "146  147            6.3           2.5            5.0           1.9   \n",
            "147  148            6.5           3.0            5.2           2.0   \n",
            "148  149            6.2           3.4            5.4           2.3   \n",
            "149  150            5.9           3.0            5.1           1.8   \n",
            "\n",
            "            Species  \n",
            "0       Iris-setosa  \n",
            "1       Iris-setosa  \n",
            "2       Iris-setosa  \n",
            "3       Iris-setosa  \n",
            "4       Iris-setosa  \n",
            "..              ...  \n",
            "145  Iris-virginica  \n",
            "146  Iris-virginica  \n",
            "147  Iris-virginica  \n",
            "148  Iris-virginica  \n",
            "149  Iris-virginica  \n",
            "\n",
            "[150 rows x 6 columns]\n"
          ]
        }
      ],
      "source": [
        "#load dataset\n",
        "#df = sns.load_dataset('iris')\n",
        "df =pd.read_csv('Dataset/Iris.csv')\n",
        "print(df)"
      ]
    },
    {
      "cell_type": "code",
      "execution_count": 14,
      "metadata": {
        "colab": {
          "base_uri": "https://localhost:8080/",
          "height": 206
        },
        "id": "9T9SfFAxEt6o",
        "outputId": "0514f386-cd36-44fe-d407-dcf02459b2be"
      },
      "outputs": [
        {
          "data": {
            "application/vnd.microsoft.datawrangler.viewer.v0+json": {
              "columns": [
                {
                  "name": "index",
                  "rawType": "int64",
                  "type": "integer"
                },
                {
                  "name": "Id",
                  "rawType": "int64",
                  "type": "integer"
                },
                {
                  "name": "SepalLengthCm",
                  "rawType": "float64",
                  "type": "float"
                },
                {
                  "name": "SepalWidthCm",
                  "rawType": "float64",
                  "type": "float"
                },
                {
                  "name": "PetalLengthCm",
                  "rawType": "float64",
                  "type": "float"
                },
                {
                  "name": "PetalWidthCm",
                  "rawType": "float64",
                  "type": "float"
                },
                {
                  "name": "Species",
                  "rawType": "object",
                  "type": "string"
                }
              ],
              "conversionMethod": "pd.DataFrame",
              "ref": "9ef05a15-2660-4e4b-accf-87c9c9071d1e",
              "rows": [
                [
                  "0",
                  "1",
                  "5.1",
                  "3.5",
                  "1.4",
                  "0.2",
                  "Iris-setosa"
                ],
                [
                  "1",
                  "2",
                  "4.9",
                  "3.0",
                  "1.4",
                  "0.2",
                  "Iris-setosa"
                ],
                [
                  "2",
                  "3",
                  "4.7",
                  "3.2",
                  "1.3",
                  "0.2",
                  "Iris-setosa"
                ],
                [
                  "3",
                  "4",
                  "4.6",
                  "3.1",
                  "1.5",
                  "0.2",
                  "Iris-setosa"
                ],
                [
                  "4",
                  "5",
                  "5.0",
                  "3.6",
                  "1.4",
                  "0.2",
                  "Iris-setosa"
                ]
              ],
              "shape": {
                "columns": 6,
                "rows": 5
              }
            },
            "text/html": [
              "<div>\n",
              "<style scoped>\n",
              "    .dataframe tbody tr th:only-of-type {\n",
              "        vertical-align: middle;\n",
              "    }\n",
              "\n",
              "    .dataframe tbody tr th {\n",
              "        vertical-align: top;\n",
              "    }\n",
              "\n",
              "    .dataframe thead th {\n",
              "        text-align: right;\n",
              "    }\n",
              "</style>\n",
              "<table border=\"1\" class=\"dataframe\">\n",
              "  <thead>\n",
              "    <tr style=\"text-align: right;\">\n",
              "      <th></th>\n",
              "      <th>Id</th>\n",
              "      <th>SepalLengthCm</th>\n",
              "      <th>SepalWidthCm</th>\n",
              "      <th>PetalLengthCm</th>\n",
              "      <th>PetalWidthCm</th>\n",
              "      <th>Species</th>\n",
              "    </tr>\n",
              "  </thead>\n",
              "  <tbody>\n",
              "    <tr>\n",
              "      <th>0</th>\n",
              "      <td>1</td>\n",
              "      <td>5.1</td>\n",
              "      <td>3.5</td>\n",
              "      <td>1.4</td>\n",
              "      <td>0.2</td>\n",
              "      <td>Iris-setosa</td>\n",
              "    </tr>\n",
              "    <tr>\n",
              "      <th>1</th>\n",
              "      <td>2</td>\n",
              "      <td>4.9</td>\n",
              "      <td>3.0</td>\n",
              "      <td>1.4</td>\n",
              "      <td>0.2</td>\n",
              "      <td>Iris-setosa</td>\n",
              "    </tr>\n",
              "    <tr>\n",
              "      <th>2</th>\n",
              "      <td>3</td>\n",
              "      <td>4.7</td>\n",
              "      <td>3.2</td>\n",
              "      <td>1.3</td>\n",
              "      <td>0.2</td>\n",
              "      <td>Iris-setosa</td>\n",
              "    </tr>\n",
              "    <tr>\n",
              "      <th>3</th>\n",
              "      <td>4</td>\n",
              "      <td>4.6</td>\n",
              "      <td>3.1</td>\n",
              "      <td>1.5</td>\n",
              "      <td>0.2</td>\n",
              "      <td>Iris-setosa</td>\n",
              "    </tr>\n",
              "    <tr>\n",
              "      <th>4</th>\n",
              "      <td>5</td>\n",
              "      <td>5.0</td>\n",
              "      <td>3.6</td>\n",
              "      <td>1.4</td>\n",
              "      <td>0.2</td>\n",
              "      <td>Iris-setosa</td>\n",
              "    </tr>\n",
              "  </tbody>\n",
              "</table>\n",
              "</div>"
            ],
            "text/plain": [
              "   Id  SepalLengthCm  SepalWidthCm  PetalLengthCm  PetalWidthCm      Species\n",
              "0   1            5.1           3.5            1.4           0.2  Iris-setosa\n",
              "1   2            4.9           3.0            1.4           0.2  Iris-setosa\n",
              "2   3            4.7           3.2            1.3           0.2  Iris-setosa\n",
              "3   4            4.6           3.1            1.5           0.2  Iris-setosa\n",
              "4   5            5.0           3.6            1.4           0.2  Iris-setosa"
            ]
          },
          "execution_count": 14,
          "metadata": {},
          "output_type": "execute_result"
        }
      ],
      "source": [
        "df.head()"
      ]
    },
    {
      "cell_type": "code",
      "execution_count": 15,
      "metadata": {
        "colab": {
          "base_uri": "https://localhost:8080/",
          "height": 206
        },
        "id": "60kcsO7REwYH",
        "outputId": "d37b46ab-1cd8-4f59-f5d5-eaa99c3bb81b"
      },
      "outputs": [
        {
          "data": {
            "application/vnd.microsoft.datawrangler.viewer.v0+json": {
              "columns": [
                {
                  "name": "index",
                  "rawType": "int64",
                  "type": "integer"
                },
                {
                  "name": "Id",
                  "rawType": "int64",
                  "type": "integer"
                },
                {
                  "name": "SepalLengthCm",
                  "rawType": "float64",
                  "type": "float"
                },
                {
                  "name": "SepalWidthCm",
                  "rawType": "float64",
                  "type": "float"
                },
                {
                  "name": "PetalLengthCm",
                  "rawType": "float64",
                  "type": "float"
                },
                {
                  "name": "PetalWidthCm",
                  "rawType": "float64",
                  "type": "float"
                },
                {
                  "name": "Species",
                  "rawType": "object",
                  "type": "string"
                }
              ],
              "conversionMethod": "pd.DataFrame",
              "ref": "12580be0-80ca-4b56-b48d-9751d2639c44",
              "rows": [
                [
                  "145",
                  "146",
                  "6.7",
                  "3.0",
                  "5.2",
                  "2.3",
                  "Iris-virginica"
                ],
                [
                  "146",
                  "147",
                  "6.3",
                  "2.5",
                  "5.0",
                  "1.9",
                  "Iris-virginica"
                ],
                [
                  "147",
                  "148",
                  "6.5",
                  "3.0",
                  "5.2",
                  "2.0",
                  "Iris-virginica"
                ],
                [
                  "148",
                  "149",
                  "6.2",
                  "3.4",
                  "5.4",
                  "2.3",
                  "Iris-virginica"
                ],
                [
                  "149",
                  "150",
                  "5.9",
                  "3.0",
                  "5.1",
                  "1.8",
                  "Iris-virginica"
                ]
              ],
              "shape": {
                "columns": 6,
                "rows": 5
              }
            },
            "text/html": [
              "<div>\n",
              "<style scoped>\n",
              "    .dataframe tbody tr th:only-of-type {\n",
              "        vertical-align: middle;\n",
              "    }\n",
              "\n",
              "    .dataframe tbody tr th {\n",
              "        vertical-align: top;\n",
              "    }\n",
              "\n",
              "    .dataframe thead th {\n",
              "        text-align: right;\n",
              "    }\n",
              "</style>\n",
              "<table border=\"1\" class=\"dataframe\">\n",
              "  <thead>\n",
              "    <tr style=\"text-align: right;\">\n",
              "      <th></th>\n",
              "      <th>Id</th>\n",
              "      <th>SepalLengthCm</th>\n",
              "      <th>SepalWidthCm</th>\n",
              "      <th>PetalLengthCm</th>\n",
              "      <th>PetalWidthCm</th>\n",
              "      <th>Species</th>\n",
              "    </tr>\n",
              "  </thead>\n",
              "  <tbody>\n",
              "    <tr>\n",
              "      <th>145</th>\n",
              "      <td>146</td>\n",
              "      <td>6.7</td>\n",
              "      <td>3.0</td>\n",
              "      <td>5.2</td>\n",
              "      <td>2.3</td>\n",
              "      <td>Iris-virginica</td>\n",
              "    </tr>\n",
              "    <tr>\n",
              "      <th>146</th>\n",
              "      <td>147</td>\n",
              "      <td>6.3</td>\n",
              "      <td>2.5</td>\n",
              "      <td>5.0</td>\n",
              "      <td>1.9</td>\n",
              "      <td>Iris-virginica</td>\n",
              "    </tr>\n",
              "    <tr>\n",
              "      <th>147</th>\n",
              "      <td>148</td>\n",
              "      <td>6.5</td>\n",
              "      <td>3.0</td>\n",
              "      <td>5.2</td>\n",
              "      <td>2.0</td>\n",
              "      <td>Iris-virginica</td>\n",
              "    </tr>\n",
              "    <tr>\n",
              "      <th>148</th>\n",
              "      <td>149</td>\n",
              "      <td>6.2</td>\n",
              "      <td>3.4</td>\n",
              "      <td>5.4</td>\n",
              "      <td>2.3</td>\n",
              "      <td>Iris-virginica</td>\n",
              "    </tr>\n",
              "    <tr>\n",
              "      <th>149</th>\n",
              "      <td>150</td>\n",
              "      <td>5.9</td>\n",
              "      <td>3.0</td>\n",
              "      <td>5.1</td>\n",
              "      <td>1.8</td>\n",
              "      <td>Iris-virginica</td>\n",
              "    </tr>\n",
              "  </tbody>\n",
              "</table>\n",
              "</div>"
            ],
            "text/plain": [
              "      Id  SepalLengthCm  SepalWidthCm  PetalLengthCm  PetalWidthCm  \\\n",
              "145  146            6.7           3.0            5.2           2.3   \n",
              "146  147            6.3           2.5            5.0           1.9   \n",
              "147  148            6.5           3.0            5.2           2.0   \n",
              "148  149            6.2           3.4            5.4           2.3   \n",
              "149  150            5.9           3.0            5.1           1.8   \n",
              "\n",
              "            Species  \n",
              "145  Iris-virginica  \n",
              "146  Iris-virginica  \n",
              "147  Iris-virginica  \n",
              "148  Iris-virginica  \n",
              "149  Iris-virginica  "
            ]
          },
          "execution_count": 15,
          "metadata": {},
          "output_type": "execute_result"
        }
      ],
      "source": [
        "df.tail()"
      ]
    },
    {
      "cell_type": "code",
      "execution_count": 16,
      "metadata": {
        "colab": {
          "base_uri": "https://localhost:8080/",
          "height": 300
        },
        "id": "ydTYmi9uEy0P",
        "outputId": "1a4bc5c8-071c-4432-82b8-498ca4fd65b0"
      },
      "outputs": [
        {
          "data": {
            "application/vnd.microsoft.datawrangler.viewer.v0+json": {
              "columns": [
                {
                  "name": "index",
                  "rawType": "object",
                  "type": "string"
                },
                {
                  "name": "Id",
                  "rawType": "float64",
                  "type": "float"
                },
                {
                  "name": "SepalLengthCm",
                  "rawType": "float64",
                  "type": "float"
                },
                {
                  "name": "SepalWidthCm",
                  "rawType": "float64",
                  "type": "float"
                },
                {
                  "name": "PetalLengthCm",
                  "rawType": "float64",
                  "type": "float"
                },
                {
                  "name": "PetalWidthCm",
                  "rawType": "float64",
                  "type": "float"
                }
              ],
              "conversionMethod": "pd.DataFrame",
              "ref": "26782ef3-e3ef-4b04-9435-3174d754dfcf",
              "rows": [
                [
                  "count",
                  "150.0",
                  "150.0",
                  "150.0",
                  "150.0",
                  "150.0"
                ],
                [
                  "mean",
                  "75.5",
                  "5.843333333333334",
                  "3.0540000000000003",
                  "3.758666666666666",
                  "1.1986666666666668"
                ],
                [
                  "std",
                  "43.445367992456916",
                  "0.828066127977863",
                  "0.4335943113621737",
                  "1.7644204199522626",
                  "0.7631607417008411"
                ],
                [
                  "min",
                  "1.0",
                  "4.3",
                  "2.0",
                  "1.0",
                  "0.1"
                ],
                [
                  "25%",
                  "38.25",
                  "5.1",
                  "2.8",
                  "1.6",
                  "0.3"
                ],
                [
                  "50%",
                  "75.5",
                  "5.8",
                  "3.0",
                  "4.35",
                  "1.3"
                ],
                [
                  "75%",
                  "112.75",
                  "6.4",
                  "3.3",
                  "5.1",
                  "1.8"
                ],
                [
                  "max",
                  "150.0",
                  "7.9",
                  "4.4",
                  "6.9",
                  "2.5"
                ]
              ],
              "shape": {
                "columns": 5,
                "rows": 8
              }
            },
            "text/html": [
              "<div>\n",
              "<style scoped>\n",
              "    .dataframe tbody tr th:only-of-type {\n",
              "        vertical-align: middle;\n",
              "    }\n",
              "\n",
              "    .dataframe tbody tr th {\n",
              "        vertical-align: top;\n",
              "    }\n",
              "\n",
              "    .dataframe thead th {\n",
              "        text-align: right;\n",
              "    }\n",
              "</style>\n",
              "<table border=\"1\" class=\"dataframe\">\n",
              "  <thead>\n",
              "    <tr style=\"text-align: right;\">\n",
              "      <th></th>\n",
              "      <th>Id</th>\n",
              "      <th>SepalLengthCm</th>\n",
              "      <th>SepalWidthCm</th>\n",
              "      <th>PetalLengthCm</th>\n",
              "      <th>PetalWidthCm</th>\n",
              "    </tr>\n",
              "  </thead>\n",
              "  <tbody>\n",
              "    <tr>\n",
              "      <th>count</th>\n",
              "      <td>150.000000</td>\n",
              "      <td>150.000000</td>\n",
              "      <td>150.000000</td>\n",
              "      <td>150.000000</td>\n",
              "      <td>150.000000</td>\n",
              "    </tr>\n",
              "    <tr>\n",
              "      <th>mean</th>\n",
              "      <td>75.500000</td>\n",
              "      <td>5.843333</td>\n",
              "      <td>3.054000</td>\n",
              "      <td>3.758667</td>\n",
              "      <td>1.198667</td>\n",
              "    </tr>\n",
              "    <tr>\n",
              "      <th>std</th>\n",
              "      <td>43.445368</td>\n",
              "      <td>0.828066</td>\n",
              "      <td>0.433594</td>\n",
              "      <td>1.764420</td>\n",
              "      <td>0.763161</td>\n",
              "    </tr>\n",
              "    <tr>\n",
              "      <th>min</th>\n",
              "      <td>1.000000</td>\n",
              "      <td>4.300000</td>\n",
              "      <td>2.000000</td>\n",
              "      <td>1.000000</td>\n",
              "      <td>0.100000</td>\n",
              "    </tr>\n",
              "    <tr>\n",
              "      <th>25%</th>\n",
              "      <td>38.250000</td>\n",
              "      <td>5.100000</td>\n",
              "      <td>2.800000</td>\n",
              "      <td>1.600000</td>\n",
              "      <td>0.300000</td>\n",
              "    </tr>\n",
              "    <tr>\n",
              "      <th>50%</th>\n",
              "      <td>75.500000</td>\n",
              "      <td>5.800000</td>\n",
              "      <td>3.000000</td>\n",
              "      <td>4.350000</td>\n",
              "      <td>1.300000</td>\n",
              "    </tr>\n",
              "    <tr>\n",
              "      <th>75%</th>\n",
              "      <td>112.750000</td>\n",
              "      <td>6.400000</td>\n",
              "      <td>3.300000</td>\n",
              "      <td>5.100000</td>\n",
              "      <td>1.800000</td>\n",
              "    </tr>\n",
              "    <tr>\n",
              "      <th>max</th>\n",
              "      <td>150.000000</td>\n",
              "      <td>7.900000</td>\n",
              "      <td>4.400000</td>\n",
              "      <td>6.900000</td>\n",
              "      <td>2.500000</td>\n",
              "    </tr>\n",
              "  </tbody>\n",
              "</table>\n",
              "</div>"
            ],
            "text/plain": [
              "               Id  SepalLengthCm  SepalWidthCm  PetalLengthCm  PetalWidthCm\n",
              "count  150.000000     150.000000    150.000000     150.000000    150.000000\n",
              "mean    75.500000       5.843333      3.054000       3.758667      1.198667\n",
              "std     43.445368       0.828066      0.433594       1.764420      0.763161\n",
              "min      1.000000       4.300000      2.000000       1.000000      0.100000\n",
              "25%     38.250000       5.100000      2.800000       1.600000      0.300000\n",
              "50%     75.500000       5.800000      3.000000       4.350000      1.300000\n",
              "75%    112.750000       6.400000      3.300000       5.100000      1.800000\n",
              "max    150.000000       7.900000      4.400000       6.900000      2.500000"
            ]
          },
          "execution_count": 16,
          "metadata": {},
          "output_type": "execute_result"
        }
      ],
      "source": [
        "df.describe()"
      ]
    },
    {
      "cell_type": "code",
      "execution_count": 17,
      "metadata": {
        "colab": {
          "base_uri": "https://localhost:8080/"
        },
        "id": "X8LCW_ymE11e",
        "outputId": "cd553302-dace-4282-c35e-95aaa4b9973a"
      },
      "outputs": [
        {
          "name": "stdout",
          "output_type": "stream",
          "text": [
            "<class 'pandas.core.frame.DataFrame'>\n",
            "RangeIndex: 150 entries, 0 to 149\n",
            "Data columns (total 6 columns):\n",
            " #   Column         Non-Null Count  Dtype  \n",
            "---  ------         --------------  -----  \n",
            " 0   Id             150 non-null    int64  \n",
            " 1   SepalLengthCm  150 non-null    float64\n",
            " 2   SepalWidthCm   150 non-null    float64\n",
            " 3   PetalLengthCm  150 non-null    float64\n",
            " 4   PetalWidthCm   150 non-null    float64\n",
            " 5   Species        150 non-null    object \n",
            "dtypes: float64(4), int64(1), object(1)\n",
            "memory usage: 7.2+ KB\n"
          ]
        }
      ],
      "source": [
        "df.info()"
      ]
    },
    {
      "cell_type": "code",
      "execution_count": 18,
      "metadata": {
        "colab": {
          "base_uri": "https://localhost:8080/"
        },
        "id": "AhntoIrqE3tf",
        "outputId": "6360d2f0-639d-4eff-faf5-09cf7fb464f2"
      },
      "outputs": [
        {
          "data": {
            "text/plain": [
              "(150, 6)"
            ]
          },
          "execution_count": 18,
          "metadata": {},
          "output_type": "execute_result"
        }
      ],
      "source": [
        "df.shape"
      ]
    },
    {
      "cell_type": "code",
      "execution_count": 19,
      "metadata": {
        "colab": {
          "base_uri": "https://localhost:8080/",
          "height": 272
        },
        "id": "j2WFTty8E5y3",
        "outputId": "7f643cdc-8981-42d2-8b85-8140a533cdbd"
      },
      "outputs": [
        {
          "data": {
            "text/plain": [
              "Id                 int64\n",
              "SepalLengthCm    float64\n",
              "SepalWidthCm     float64\n",
              "PetalLengthCm    float64\n",
              "PetalWidthCm     float64\n",
              "Species           object\n",
              "dtype: object"
            ]
          },
          "execution_count": 19,
          "metadata": {},
          "output_type": "execute_result"
        }
      ],
      "source": [
        "df.dtypes"
      ]
    },
    {
      "cell_type": "code",
      "execution_count": 20,
      "metadata": {
        "colab": {
          "base_uri": "https://localhost:8080/"
        },
        "id": "VFMWIllF9p1g",
        "outputId": "471097fd-0a87-41ad-b380-b4ad586ee21b"
      },
      "outputs": [
        {
          "name": "stdout",
          "output_type": "stream",
          "text": [
            "                    Id                            SepalLengthCm              \\\n",
            "                  mean median  min  max       std          mean median  min   \n",
            "Species                                                                       \n",
            "Iris-setosa       25.5   25.5    1   50  14.57738         5.006    5.0  4.3   \n",
            "Iris-versicolor   75.5   75.5   51  100  14.57738         5.936    5.9  4.9   \n",
            "Iris-virginica   125.5  125.5  101  150  14.57738         6.588    6.5  4.9   \n",
            "\n",
            "                                ... PetalLengthCm                             \\\n",
            "                 max       std  ...          mean median  min  max       std   \n",
            "Species                         ...                                            \n",
            "Iris-setosa      5.8  0.352490  ...         1.464   1.50  1.0  1.9  0.173511   \n",
            "Iris-versicolor  7.0  0.516171  ...         4.260   4.35  3.0  5.1  0.469911   \n",
            "Iris-virginica   7.9  0.635880  ...         5.552   5.55  4.5  6.9  0.551895   \n",
            "\n",
            "                PetalWidthCm                             \n",
            "                        mean median  min  max       std  \n",
            "Species                                                  \n",
            "Iris-setosa            0.244    0.2  0.1  0.6  0.107210  \n",
            "Iris-versicolor        1.326    1.3  1.0  1.8  0.197753  \n",
            "Iris-virginica         2.026    2.0  1.4  2.5  0.274650  \n",
            "\n",
            "[3 rows x 25 columns]\n"
          ]
        }
      ],
      "source": [
        "group_summary = df.groupby('Species').agg(['mean',\"median\",\"min\",\"max\",\"std\"])\n",
        "print(group_summary)\n",
        "\n",
        "# Groups data by the Species column. For each numeric column (sepal/petal measurements), it calculates: mean, median, min, max, std. This gives descriptive statistics per species."
      ]
    },
    {
      "cell_type": "code",
      "execution_count": 21,
      "metadata": {
        "colab": {
          "base_uri": "https://localhost:8080/"
        },
        "id": "UyZ_KGka9t-s",
        "outputId": "a5bd35a4-8514-4325-abb5-0f343ce7f4a9"
      },
      "outputs": [
        {
          "name": "stdout",
          "output_type": "stream",
          "text": [
            "        Id  SepalLengthCm  SepalWidthCm  PetalLengthCm  PetalWidthCm\n",
            "count  0.0            0.0           0.0            0.0           0.0\n",
            "mean   NaN            NaN           NaN            NaN           NaN\n",
            "std    NaN            NaN           NaN            NaN           NaN\n",
            "min    NaN            NaN           NaN            NaN           NaN\n",
            "25%    NaN            NaN           NaN            NaN           NaN\n",
            "50%    NaN            NaN           NaN            NaN           NaN\n",
            "75%    NaN            NaN           NaN            NaN           NaN\n",
            "max    NaN            NaN           NaN            NaN           NaN\n"
          ]
        }
      ],
      "source": [
        "setosa = df[df['Species']=='setosa'].describe()\n",
        "print(setosa)\n",
        "\n",
        "# Filters rows where Species is 'setosa'. Runs describe() on just that subset — gives count, mean, std, min, etc., for Setosa."
      ]
    },
    {
      "cell_type": "code",
      "execution_count": 22,
      "metadata": {
        "colab": {
          "base_uri": "https://localhost:8080/",
          "height": 423
        },
        "id": "rqKU7_fz92wr",
        "outputId": "e004d777-855b-4029-e447-6e4d7f73c18b"
      },
      "outputs": [
        {
          "data": {
            "application/vnd.microsoft.datawrangler.viewer.v0+json": {
              "columns": [
                {
                  "name": "index",
                  "rawType": "int64",
                  "type": "integer"
                },
                {
                  "name": "total_bill",
                  "rawType": "float64",
                  "type": "float"
                },
                {
                  "name": "tip",
                  "rawType": "float64",
                  "type": "float"
                },
                {
                  "name": "sex",
                  "rawType": "object",
                  "type": "string"
                },
                {
                  "name": "smoker",
                  "rawType": "object",
                  "type": "string"
                },
                {
                  "name": "day",
                  "rawType": "object",
                  "type": "string"
                },
                {
                  "name": "time",
                  "rawType": "object",
                  "type": "string"
                },
                {
                  "name": "size",
                  "rawType": "int64",
                  "type": "integer"
                }
              ],
              "conversionMethod": "pd.DataFrame",
              "ref": "48c64ef7-7da7-4d8b-add4-415c3aaf35ad",
              "rows": [
                [
                  "0",
                  "16.99",
                  "1.01",
                  "Female",
                  "No",
                  "Sun",
                  "Dinner",
                  "2"
                ],
                [
                  "1",
                  "10.34",
                  "1.66",
                  "Male",
                  "No",
                  "Sun",
                  "Dinner",
                  "3"
                ],
                [
                  "2",
                  "21.01",
                  "3.5",
                  "Male",
                  "No",
                  "Sun",
                  "Dinner",
                  "3"
                ],
                [
                  "3",
                  "23.68",
                  "3.31",
                  "Male",
                  "No",
                  "Sun",
                  "Dinner",
                  "2"
                ],
                [
                  "4",
                  "24.59",
                  "3.61",
                  "Female",
                  "No",
                  "Sun",
                  "Dinner",
                  "4"
                ],
                [
                  "5",
                  "25.29",
                  "4.71",
                  "Male",
                  "No",
                  "Sun",
                  "Dinner",
                  "4"
                ],
                [
                  "6",
                  "8.77",
                  "2.0",
                  "Male",
                  "No",
                  "Sun",
                  "Dinner",
                  "2"
                ],
                [
                  "7",
                  "26.88",
                  "3.12",
                  "Male",
                  "No",
                  "Sun",
                  "Dinner",
                  "4"
                ],
                [
                  "8",
                  "15.04",
                  "1.96",
                  "Male",
                  "No",
                  "Sun",
                  "Dinner",
                  "2"
                ],
                [
                  "9",
                  "14.78",
                  "3.23",
                  "Male",
                  "No",
                  "Sun",
                  "Dinner",
                  "2"
                ],
                [
                  "10",
                  "10.27",
                  "1.71",
                  "Male",
                  "No",
                  "Sun",
                  "Dinner",
                  "2"
                ],
                [
                  "11",
                  "35.26",
                  "5.0",
                  "Female",
                  "No",
                  "Sun",
                  "Dinner",
                  "4"
                ],
                [
                  "12",
                  "15.42",
                  "1.57",
                  "Male",
                  "No",
                  "Sun",
                  "Dinner",
                  "2"
                ],
                [
                  "13",
                  "18.43",
                  "3.0",
                  "Male",
                  "No",
                  "Sun",
                  "Dinner",
                  "4"
                ],
                [
                  "14",
                  "14.83",
                  "3.02",
                  "Female",
                  "No",
                  "Sun",
                  "Dinner",
                  "2"
                ],
                [
                  "15",
                  "21.58",
                  "3.92",
                  "Male",
                  "No",
                  "Sun",
                  "Dinner",
                  "2"
                ],
                [
                  "16",
                  "10.33",
                  "1.67",
                  "Female",
                  "No",
                  "Sun",
                  "Dinner",
                  "3"
                ],
                [
                  "17",
                  "16.29",
                  "3.71",
                  "Male",
                  "No",
                  "Sun",
                  "Dinner",
                  "3"
                ],
                [
                  "18",
                  "16.97",
                  "3.5",
                  "Female",
                  "No",
                  "Sun",
                  "Dinner",
                  "3"
                ],
                [
                  "19",
                  "20.65",
                  "3.35",
                  "Male",
                  "No",
                  "Sat",
                  "Dinner",
                  "3"
                ],
                [
                  "20",
                  "17.92",
                  "4.08",
                  "Male",
                  "No",
                  "Sat",
                  "Dinner",
                  "2"
                ],
                [
                  "21",
                  "20.29",
                  "2.75",
                  "Female",
                  "No",
                  "Sat",
                  "Dinner",
                  "2"
                ],
                [
                  "22",
                  "15.77",
                  "2.23",
                  "Female",
                  "No",
                  "Sat",
                  "Dinner",
                  "2"
                ],
                [
                  "23",
                  "39.42",
                  "7.58",
                  "Male",
                  "No",
                  "Sat",
                  "Dinner",
                  "4"
                ],
                [
                  "24",
                  "19.82",
                  "3.18",
                  "Male",
                  "No",
                  "Sat",
                  "Dinner",
                  "2"
                ],
                [
                  "25",
                  "17.81",
                  "2.34",
                  "Male",
                  "No",
                  "Sat",
                  "Dinner",
                  "4"
                ],
                [
                  "26",
                  "13.37",
                  "2.0",
                  "Male",
                  "No",
                  "Sat",
                  "Dinner",
                  "2"
                ],
                [
                  "27",
                  "12.69",
                  "2.0",
                  "Male",
                  "No",
                  "Sat",
                  "Dinner",
                  "2"
                ],
                [
                  "28",
                  "21.7",
                  "4.3",
                  "Male",
                  "No",
                  "Sat",
                  "Dinner",
                  "2"
                ],
                [
                  "29",
                  "19.65",
                  "3.0",
                  "Female",
                  "No",
                  "Sat",
                  "Dinner",
                  "2"
                ],
                [
                  "30",
                  "9.55",
                  "1.45",
                  "Male",
                  "No",
                  "Sat",
                  "Dinner",
                  "2"
                ],
                [
                  "31",
                  "18.35",
                  "2.5",
                  "Male",
                  "No",
                  "Sat",
                  "Dinner",
                  "4"
                ],
                [
                  "32",
                  "15.06",
                  "3.0",
                  "Female",
                  "No",
                  "Sat",
                  "Dinner",
                  "2"
                ],
                [
                  "33",
                  "20.69",
                  "2.45",
                  "Female",
                  "No",
                  "Sat",
                  "Dinner",
                  "4"
                ],
                [
                  "34",
                  "17.78",
                  "3.27",
                  "Male",
                  "No",
                  "Sat",
                  "Dinner",
                  "2"
                ],
                [
                  "35",
                  "24.06",
                  "3.6",
                  "Male",
                  "No",
                  "Sat",
                  "Dinner",
                  "3"
                ],
                [
                  "36",
                  "16.31",
                  "2.0",
                  "Male",
                  "No",
                  "Sat",
                  "Dinner",
                  "3"
                ],
                [
                  "37",
                  "16.93",
                  "3.07",
                  "Female",
                  "No",
                  "Sat",
                  "Dinner",
                  "3"
                ],
                [
                  "38",
                  "18.69",
                  "2.31",
                  "Male",
                  "No",
                  "Sat",
                  "Dinner",
                  "3"
                ],
                [
                  "39",
                  "31.27",
                  "5.0",
                  "Male",
                  "No",
                  "Sat",
                  "Dinner",
                  "3"
                ],
                [
                  "40",
                  "16.04",
                  "2.24",
                  "Male",
                  "No",
                  "Sat",
                  "Dinner",
                  "3"
                ],
                [
                  "41",
                  "17.46",
                  "2.54",
                  "Male",
                  "No",
                  "Sun",
                  "Dinner",
                  "2"
                ],
                [
                  "42",
                  "13.94",
                  "3.06",
                  "Male",
                  "No",
                  "Sun",
                  "Dinner",
                  "2"
                ],
                [
                  "43",
                  "9.68",
                  "1.32",
                  "Male",
                  "No",
                  "Sun",
                  "Dinner",
                  "2"
                ],
                [
                  "44",
                  "30.4",
                  "5.6",
                  "Male",
                  "No",
                  "Sun",
                  "Dinner",
                  "4"
                ],
                [
                  "45",
                  "18.29",
                  "3.0",
                  "Male",
                  "No",
                  "Sun",
                  "Dinner",
                  "2"
                ],
                [
                  "46",
                  "22.23",
                  "5.0",
                  "Male",
                  "No",
                  "Sun",
                  "Dinner",
                  "2"
                ],
                [
                  "47",
                  "32.4",
                  "6.0",
                  "Male",
                  "No",
                  "Sun",
                  "Dinner",
                  "4"
                ],
                [
                  "48",
                  "28.55",
                  "2.05",
                  "Male",
                  "No",
                  "Sun",
                  "Dinner",
                  "3"
                ],
                [
                  "49",
                  "18.04",
                  "3.0",
                  "Male",
                  "No",
                  "Sun",
                  "Dinner",
                  "2"
                ]
              ],
              "shape": {
                "columns": 7,
                "rows": 244
              }
            },
            "text/html": [
              "<div>\n",
              "<style scoped>\n",
              "    .dataframe tbody tr th:only-of-type {\n",
              "        vertical-align: middle;\n",
              "    }\n",
              "\n",
              "    .dataframe tbody tr th {\n",
              "        vertical-align: top;\n",
              "    }\n",
              "\n",
              "    .dataframe thead th {\n",
              "        text-align: right;\n",
              "    }\n",
              "</style>\n",
              "<table border=\"1\" class=\"dataframe\">\n",
              "  <thead>\n",
              "    <tr style=\"text-align: right;\">\n",
              "      <th></th>\n",
              "      <th>total_bill</th>\n",
              "      <th>tip</th>\n",
              "      <th>sex</th>\n",
              "      <th>smoker</th>\n",
              "      <th>day</th>\n",
              "      <th>time</th>\n",
              "      <th>size</th>\n",
              "    </tr>\n",
              "  </thead>\n",
              "  <tbody>\n",
              "    <tr>\n",
              "      <th>0</th>\n",
              "      <td>16.99</td>\n",
              "      <td>1.01</td>\n",
              "      <td>Female</td>\n",
              "      <td>No</td>\n",
              "      <td>Sun</td>\n",
              "      <td>Dinner</td>\n",
              "      <td>2</td>\n",
              "    </tr>\n",
              "    <tr>\n",
              "      <th>1</th>\n",
              "      <td>10.34</td>\n",
              "      <td>1.66</td>\n",
              "      <td>Male</td>\n",
              "      <td>No</td>\n",
              "      <td>Sun</td>\n",
              "      <td>Dinner</td>\n",
              "      <td>3</td>\n",
              "    </tr>\n",
              "    <tr>\n",
              "      <th>2</th>\n",
              "      <td>21.01</td>\n",
              "      <td>3.50</td>\n",
              "      <td>Male</td>\n",
              "      <td>No</td>\n",
              "      <td>Sun</td>\n",
              "      <td>Dinner</td>\n",
              "      <td>3</td>\n",
              "    </tr>\n",
              "    <tr>\n",
              "      <th>3</th>\n",
              "      <td>23.68</td>\n",
              "      <td>3.31</td>\n",
              "      <td>Male</td>\n",
              "      <td>No</td>\n",
              "      <td>Sun</td>\n",
              "      <td>Dinner</td>\n",
              "      <td>2</td>\n",
              "    </tr>\n",
              "    <tr>\n",
              "      <th>4</th>\n",
              "      <td>24.59</td>\n",
              "      <td>3.61</td>\n",
              "      <td>Female</td>\n",
              "      <td>No</td>\n",
              "      <td>Sun</td>\n",
              "      <td>Dinner</td>\n",
              "      <td>4</td>\n",
              "    </tr>\n",
              "    <tr>\n",
              "      <th>...</th>\n",
              "      <td>...</td>\n",
              "      <td>...</td>\n",
              "      <td>...</td>\n",
              "      <td>...</td>\n",
              "      <td>...</td>\n",
              "      <td>...</td>\n",
              "      <td>...</td>\n",
              "    </tr>\n",
              "    <tr>\n",
              "      <th>239</th>\n",
              "      <td>29.03</td>\n",
              "      <td>5.92</td>\n",
              "      <td>Male</td>\n",
              "      <td>No</td>\n",
              "      <td>Sat</td>\n",
              "      <td>Dinner</td>\n",
              "      <td>3</td>\n",
              "    </tr>\n",
              "    <tr>\n",
              "      <th>240</th>\n",
              "      <td>27.18</td>\n",
              "      <td>2.00</td>\n",
              "      <td>Female</td>\n",
              "      <td>Yes</td>\n",
              "      <td>Sat</td>\n",
              "      <td>Dinner</td>\n",
              "      <td>2</td>\n",
              "    </tr>\n",
              "    <tr>\n",
              "      <th>241</th>\n",
              "      <td>22.67</td>\n",
              "      <td>2.00</td>\n",
              "      <td>Male</td>\n",
              "      <td>Yes</td>\n",
              "      <td>Sat</td>\n",
              "      <td>Dinner</td>\n",
              "      <td>2</td>\n",
              "    </tr>\n",
              "    <tr>\n",
              "      <th>242</th>\n",
              "      <td>17.82</td>\n",
              "      <td>1.75</td>\n",
              "      <td>Male</td>\n",
              "      <td>No</td>\n",
              "      <td>Sat</td>\n",
              "      <td>Dinner</td>\n",
              "      <td>2</td>\n",
              "    </tr>\n",
              "    <tr>\n",
              "      <th>243</th>\n",
              "      <td>18.78</td>\n",
              "      <td>3.00</td>\n",
              "      <td>Female</td>\n",
              "      <td>No</td>\n",
              "      <td>Thur</td>\n",
              "      <td>Dinner</td>\n",
              "      <td>2</td>\n",
              "    </tr>\n",
              "  </tbody>\n",
              "</table>\n",
              "<p>244 rows × 7 columns</p>\n",
              "</div>"
            ],
            "text/plain": [
              "     total_bill   tip     sex smoker   day    time  size\n",
              "0         16.99  1.01  Female     No   Sun  Dinner     2\n",
              "1         10.34  1.66    Male     No   Sun  Dinner     3\n",
              "2         21.01  3.50    Male     No   Sun  Dinner     3\n",
              "3         23.68  3.31    Male     No   Sun  Dinner     2\n",
              "4         24.59  3.61  Female     No   Sun  Dinner     4\n",
              "..          ...   ...     ...    ...   ...     ...   ...\n",
              "239       29.03  5.92    Male     No   Sat  Dinner     3\n",
              "240       27.18  2.00  Female    Yes   Sat  Dinner     2\n",
              "241       22.67  2.00    Male    Yes   Sat  Dinner     2\n",
              "242       17.82  1.75    Male     No   Sat  Dinner     2\n",
              "243       18.78  3.00  Female     No  Thur  Dinner     2\n",
              "\n",
              "[244 rows x 7 columns]"
            ]
          },
          "execution_count": 22,
          "metadata": {},
          "output_type": "execute_result"
        }
      ],
      "source": [
        "#ndf = sns.load_dataset('tips')\n",
        "ndf = pd.read_csv('Dataset/tips.csv')\n",
        "ndf"
      ]
    },
    {
      "cell_type": "code",
      "execution_count": 23,
      "metadata": {
        "colab": {
          "base_uri": "https://localhost:8080/",
          "height": 206
        },
        "id": "D2oDODgLE-j3",
        "outputId": "ad914e38-e2bd-41c6-8da2-31dad0a5c9c2"
      },
      "outputs": [
        {
          "data": {
            "application/vnd.microsoft.datawrangler.viewer.v0+json": {
              "columns": [
                {
                  "name": "index",
                  "rawType": "int64",
                  "type": "integer"
                },
                {
                  "name": "total_bill",
                  "rawType": "float64",
                  "type": "float"
                },
                {
                  "name": "tip",
                  "rawType": "float64",
                  "type": "float"
                },
                {
                  "name": "sex",
                  "rawType": "object",
                  "type": "string"
                },
                {
                  "name": "smoker",
                  "rawType": "object",
                  "type": "string"
                },
                {
                  "name": "day",
                  "rawType": "object",
                  "type": "string"
                },
                {
                  "name": "time",
                  "rawType": "object",
                  "type": "string"
                },
                {
                  "name": "size",
                  "rawType": "int64",
                  "type": "integer"
                }
              ],
              "conversionMethod": "pd.DataFrame",
              "ref": "38826982-c0bc-4b12-8d81-27e9f498a749",
              "rows": [
                [
                  "0",
                  "16.99",
                  "1.01",
                  "Female",
                  "No",
                  "Sun",
                  "Dinner",
                  "2"
                ],
                [
                  "1",
                  "10.34",
                  "1.66",
                  "Male",
                  "No",
                  "Sun",
                  "Dinner",
                  "3"
                ],
                [
                  "2",
                  "21.01",
                  "3.5",
                  "Male",
                  "No",
                  "Sun",
                  "Dinner",
                  "3"
                ],
                [
                  "3",
                  "23.68",
                  "3.31",
                  "Male",
                  "No",
                  "Sun",
                  "Dinner",
                  "2"
                ],
                [
                  "4",
                  "24.59",
                  "3.61",
                  "Female",
                  "No",
                  "Sun",
                  "Dinner",
                  "4"
                ]
              ],
              "shape": {
                "columns": 7,
                "rows": 5
              }
            },
            "text/html": [
              "<div>\n",
              "<style scoped>\n",
              "    .dataframe tbody tr th:only-of-type {\n",
              "        vertical-align: middle;\n",
              "    }\n",
              "\n",
              "    .dataframe tbody tr th {\n",
              "        vertical-align: top;\n",
              "    }\n",
              "\n",
              "    .dataframe thead th {\n",
              "        text-align: right;\n",
              "    }\n",
              "</style>\n",
              "<table border=\"1\" class=\"dataframe\">\n",
              "  <thead>\n",
              "    <tr style=\"text-align: right;\">\n",
              "      <th></th>\n",
              "      <th>total_bill</th>\n",
              "      <th>tip</th>\n",
              "      <th>sex</th>\n",
              "      <th>smoker</th>\n",
              "      <th>day</th>\n",
              "      <th>time</th>\n",
              "      <th>size</th>\n",
              "    </tr>\n",
              "  </thead>\n",
              "  <tbody>\n",
              "    <tr>\n",
              "      <th>0</th>\n",
              "      <td>16.99</td>\n",
              "      <td>1.01</td>\n",
              "      <td>Female</td>\n",
              "      <td>No</td>\n",
              "      <td>Sun</td>\n",
              "      <td>Dinner</td>\n",
              "      <td>2</td>\n",
              "    </tr>\n",
              "    <tr>\n",
              "      <th>1</th>\n",
              "      <td>10.34</td>\n",
              "      <td>1.66</td>\n",
              "      <td>Male</td>\n",
              "      <td>No</td>\n",
              "      <td>Sun</td>\n",
              "      <td>Dinner</td>\n",
              "      <td>3</td>\n",
              "    </tr>\n",
              "    <tr>\n",
              "      <th>2</th>\n",
              "      <td>21.01</td>\n",
              "      <td>3.50</td>\n",
              "      <td>Male</td>\n",
              "      <td>No</td>\n",
              "      <td>Sun</td>\n",
              "      <td>Dinner</td>\n",
              "      <td>3</td>\n",
              "    </tr>\n",
              "    <tr>\n",
              "      <th>3</th>\n",
              "      <td>23.68</td>\n",
              "      <td>3.31</td>\n",
              "      <td>Male</td>\n",
              "      <td>No</td>\n",
              "      <td>Sun</td>\n",
              "      <td>Dinner</td>\n",
              "      <td>2</td>\n",
              "    </tr>\n",
              "    <tr>\n",
              "      <th>4</th>\n",
              "      <td>24.59</td>\n",
              "      <td>3.61</td>\n",
              "      <td>Female</td>\n",
              "      <td>No</td>\n",
              "      <td>Sun</td>\n",
              "      <td>Dinner</td>\n",
              "      <td>4</td>\n",
              "    </tr>\n",
              "  </tbody>\n",
              "</table>\n",
              "</div>"
            ],
            "text/plain": [
              "   total_bill   tip     sex smoker  day    time  size\n",
              "0       16.99  1.01  Female     No  Sun  Dinner     2\n",
              "1       10.34  1.66    Male     No  Sun  Dinner     3\n",
              "2       21.01  3.50    Male     No  Sun  Dinner     3\n",
              "3       23.68  3.31    Male     No  Sun  Dinner     2\n",
              "4       24.59  3.61  Female     No  Sun  Dinner     4"
            ]
          },
          "execution_count": 23,
          "metadata": {},
          "output_type": "execute_result"
        }
      ],
      "source": [
        "ndf.head()"
      ]
    },
    {
      "cell_type": "code",
      "execution_count": 24,
      "metadata": {
        "colab": {
          "base_uri": "https://localhost:8080/",
          "height": 206
        },
        "id": "PXleAaBhFCF-",
        "outputId": "fd1a0af1-a350-47a2-a28c-894538ec065f"
      },
      "outputs": [
        {
          "data": {
            "application/vnd.microsoft.datawrangler.viewer.v0+json": {
              "columns": [
                {
                  "name": "index",
                  "rawType": "int64",
                  "type": "integer"
                },
                {
                  "name": "total_bill",
                  "rawType": "float64",
                  "type": "float"
                },
                {
                  "name": "tip",
                  "rawType": "float64",
                  "type": "float"
                },
                {
                  "name": "sex",
                  "rawType": "object",
                  "type": "string"
                },
                {
                  "name": "smoker",
                  "rawType": "object",
                  "type": "string"
                },
                {
                  "name": "day",
                  "rawType": "object",
                  "type": "string"
                },
                {
                  "name": "time",
                  "rawType": "object",
                  "type": "string"
                },
                {
                  "name": "size",
                  "rawType": "int64",
                  "type": "integer"
                }
              ],
              "conversionMethod": "pd.DataFrame",
              "ref": "15ae3464-a283-4616-bc0b-9039513de075",
              "rows": [
                [
                  "239",
                  "29.03",
                  "5.92",
                  "Male",
                  "No",
                  "Sat",
                  "Dinner",
                  "3"
                ],
                [
                  "240",
                  "27.18",
                  "2.0",
                  "Female",
                  "Yes",
                  "Sat",
                  "Dinner",
                  "2"
                ],
                [
                  "241",
                  "22.67",
                  "2.0",
                  "Male",
                  "Yes",
                  "Sat",
                  "Dinner",
                  "2"
                ],
                [
                  "242",
                  "17.82",
                  "1.75",
                  "Male",
                  "No",
                  "Sat",
                  "Dinner",
                  "2"
                ],
                [
                  "243",
                  "18.78",
                  "3.0",
                  "Female",
                  "No",
                  "Thur",
                  "Dinner",
                  "2"
                ]
              ],
              "shape": {
                "columns": 7,
                "rows": 5
              }
            },
            "text/html": [
              "<div>\n",
              "<style scoped>\n",
              "    .dataframe tbody tr th:only-of-type {\n",
              "        vertical-align: middle;\n",
              "    }\n",
              "\n",
              "    .dataframe tbody tr th {\n",
              "        vertical-align: top;\n",
              "    }\n",
              "\n",
              "    .dataframe thead th {\n",
              "        text-align: right;\n",
              "    }\n",
              "</style>\n",
              "<table border=\"1\" class=\"dataframe\">\n",
              "  <thead>\n",
              "    <tr style=\"text-align: right;\">\n",
              "      <th></th>\n",
              "      <th>total_bill</th>\n",
              "      <th>tip</th>\n",
              "      <th>sex</th>\n",
              "      <th>smoker</th>\n",
              "      <th>day</th>\n",
              "      <th>time</th>\n",
              "      <th>size</th>\n",
              "    </tr>\n",
              "  </thead>\n",
              "  <tbody>\n",
              "    <tr>\n",
              "      <th>239</th>\n",
              "      <td>29.03</td>\n",
              "      <td>5.92</td>\n",
              "      <td>Male</td>\n",
              "      <td>No</td>\n",
              "      <td>Sat</td>\n",
              "      <td>Dinner</td>\n",
              "      <td>3</td>\n",
              "    </tr>\n",
              "    <tr>\n",
              "      <th>240</th>\n",
              "      <td>27.18</td>\n",
              "      <td>2.00</td>\n",
              "      <td>Female</td>\n",
              "      <td>Yes</td>\n",
              "      <td>Sat</td>\n",
              "      <td>Dinner</td>\n",
              "      <td>2</td>\n",
              "    </tr>\n",
              "    <tr>\n",
              "      <th>241</th>\n",
              "      <td>22.67</td>\n",
              "      <td>2.00</td>\n",
              "      <td>Male</td>\n",
              "      <td>Yes</td>\n",
              "      <td>Sat</td>\n",
              "      <td>Dinner</td>\n",
              "      <td>2</td>\n",
              "    </tr>\n",
              "    <tr>\n",
              "      <th>242</th>\n",
              "      <td>17.82</td>\n",
              "      <td>1.75</td>\n",
              "      <td>Male</td>\n",
              "      <td>No</td>\n",
              "      <td>Sat</td>\n",
              "      <td>Dinner</td>\n",
              "      <td>2</td>\n",
              "    </tr>\n",
              "    <tr>\n",
              "      <th>243</th>\n",
              "      <td>18.78</td>\n",
              "      <td>3.00</td>\n",
              "      <td>Female</td>\n",
              "      <td>No</td>\n",
              "      <td>Thur</td>\n",
              "      <td>Dinner</td>\n",
              "      <td>2</td>\n",
              "    </tr>\n",
              "  </tbody>\n",
              "</table>\n",
              "</div>"
            ],
            "text/plain": [
              "     total_bill   tip     sex smoker   day    time  size\n",
              "239       29.03  5.92    Male     No   Sat  Dinner     3\n",
              "240       27.18  2.00  Female    Yes   Sat  Dinner     2\n",
              "241       22.67  2.00    Male    Yes   Sat  Dinner     2\n",
              "242       17.82  1.75    Male     No   Sat  Dinner     2\n",
              "243       18.78  3.00  Female     No  Thur  Dinner     2"
            ]
          },
          "execution_count": 24,
          "metadata": {},
          "output_type": "execute_result"
        }
      ],
      "source": [
        "ndf.tail()"
      ]
    },
    {
      "cell_type": "code",
      "execution_count": 25,
      "metadata": {
        "colab": {
          "base_uri": "https://localhost:8080/",
          "height": 300
        },
        "id": "6n3FOKdEFEaI",
        "outputId": "304af185-2448-474d-8346-6c6f0e36a5e3"
      },
      "outputs": [
        {
          "data": {
            "application/vnd.microsoft.datawrangler.viewer.v0+json": {
              "columns": [
                {
                  "name": "index",
                  "rawType": "object",
                  "type": "string"
                },
                {
                  "name": "total_bill",
                  "rawType": "float64",
                  "type": "float"
                },
                {
                  "name": "tip",
                  "rawType": "float64",
                  "type": "float"
                },
                {
                  "name": "size",
                  "rawType": "float64",
                  "type": "float"
                }
              ],
              "conversionMethod": "pd.DataFrame",
              "ref": "b145e0c0-999f-4bf5-8f60-4244062753f1",
              "rows": [
                [
                  "count",
                  "244.0",
                  "244.0",
                  "244.0"
                ],
                [
                  "mean",
                  "19.78594262295082",
                  "2.99827868852459",
                  "2.569672131147541"
                ],
                [
                  "std",
                  "8.902411954856856",
                  "1.3836381890011822",
                  "0.9510998047322344"
                ],
                [
                  "min",
                  "3.07",
                  "1.0",
                  "1.0"
                ],
                [
                  "25%",
                  "13.3475",
                  "2.0",
                  "2.0"
                ],
                [
                  "50%",
                  "17.795",
                  "2.9",
                  "2.0"
                ],
                [
                  "75%",
                  "24.127499999999998",
                  "3.5625",
                  "3.0"
                ],
                [
                  "max",
                  "50.81",
                  "10.0",
                  "6.0"
                ]
              ],
              "shape": {
                "columns": 3,
                "rows": 8
              }
            },
            "text/html": [
              "<div>\n",
              "<style scoped>\n",
              "    .dataframe tbody tr th:only-of-type {\n",
              "        vertical-align: middle;\n",
              "    }\n",
              "\n",
              "    .dataframe tbody tr th {\n",
              "        vertical-align: top;\n",
              "    }\n",
              "\n",
              "    .dataframe thead th {\n",
              "        text-align: right;\n",
              "    }\n",
              "</style>\n",
              "<table border=\"1\" class=\"dataframe\">\n",
              "  <thead>\n",
              "    <tr style=\"text-align: right;\">\n",
              "      <th></th>\n",
              "      <th>total_bill</th>\n",
              "      <th>tip</th>\n",
              "      <th>size</th>\n",
              "    </tr>\n",
              "  </thead>\n",
              "  <tbody>\n",
              "    <tr>\n",
              "      <th>count</th>\n",
              "      <td>244.000000</td>\n",
              "      <td>244.000000</td>\n",
              "      <td>244.000000</td>\n",
              "    </tr>\n",
              "    <tr>\n",
              "      <th>mean</th>\n",
              "      <td>19.785943</td>\n",
              "      <td>2.998279</td>\n",
              "      <td>2.569672</td>\n",
              "    </tr>\n",
              "    <tr>\n",
              "      <th>std</th>\n",
              "      <td>8.902412</td>\n",
              "      <td>1.383638</td>\n",
              "      <td>0.951100</td>\n",
              "    </tr>\n",
              "    <tr>\n",
              "      <th>min</th>\n",
              "      <td>3.070000</td>\n",
              "      <td>1.000000</td>\n",
              "      <td>1.000000</td>\n",
              "    </tr>\n",
              "    <tr>\n",
              "      <th>25%</th>\n",
              "      <td>13.347500</td>\n",
              "      <td>2.000000</td>\n",
              "      <td>2.000000</td>\n",
              "    </tr>\n",
              "    <tr>\n",
              "      <th>50%</th>\n",
              "      <td>17.795000</td>\n",
              "      <td>2.900000</td>\n",
              "      <td>2.000000</td>\n",
              "    </tr>\n",
              "    <tr>\n",
              "      <th>75%</th>\n",
              "      <td>24.127500</td>\n",
              "      <td>3.562500</td>\n",
              "      <td>3.000000</td>\n",
              "    </tr>\n",
              "    <tr>\n",
              "      <th>max</th>\n",
              "      <td>50.810000</td>\n",
              "      <td>10.000000</td>\n",
              "      <td>6.000000</td>\n",
              "    </tr>\n",
              "  </tbody>\n",
              "</table>\n",
              "</div>"
            ],
            "text/plain": [
              "       total_bill         tip        size\n",
              "count  244.000000  244.000000  244.000000\n",
              "mean    19.785943    2.998279    2.569672\n",
              "std      8.902412    1.383638    0.951100\n",
              "min      3.070000    1.000000    1.000000\n",
              "25%     13.347500    2.000000    2.000000\n",
              "50%     17.795000    2.900000    2.000000\n",
              "75%     24.127500    3.562500    3.000000\n",
              "max     50.810000   10.000000    6.000000"
            ]
          },
          "execution_count": 25,
          "metadata": {},
          "output_type": "execute_result"
        }
      ],
      "source": [
        "ndf.describe()"
      ]
    },
    {
      "cell_type": "code",
      "execution_count": 26,
      "metadata": {
        "colab": {
          "base_uri": "https://localhost:8080/"
        },
        "id": "qsgWfKbeFHMA",
        "outputId": "0ce6f197-f574-43b8-809d-e9941aa5fa42"
      },
      "outputs": [
        {
          "name": "stdout",
          "output_type": "stream",
          "text": [
            "<class 'pandas.core.frame.DataFrame'>\n",
            "RangeIndex: 244 entries, 0 to 243\n",
            "Data columns (total 7 columns):\n",
            " #   Column      Non-Null Count  Dtype  \n",
            "---  ------      --------------  -----  \n",
            " 0   total_bill  244 non-null    float64\n",
            " 1   tip         244 non-null    float64\n",
            " 2   sex         244 non-null    object \n",
            " 3   smoker      244 non-null    object \n",
            " 4   day         244 non-null    object \n",
            " 5   time        244 non-null    object \n",
            " 6   size        244 non-null    int64  \n",
            "dtypes: float64(2), int64(1), object(4)\n",
            "memory usage: 13.5+ KB\n"
          ]
        }
      ],
      "source": [
        "ndf.info()"
      ]
    },
    {
      "cell_type": "code",
      "execution_count": 27,
      "metadata": {
        "colab": {
          "base_uri": "https://localhost:8080/"
        },
        "id": "OkEUMS61FJpP",
        "outputId": "fe29a70b-233c-4b83-ddc0-a1c921452c05"
      },
      "outputs": [
        {
          "data": {
            "text/plain": [
              "(244, 7)"
            ]
          },
          "execution_count": 27,
          "metadata": {},
          "output_type": "execute_result"
        }
      ],
      "source": [
        "ndf.shape"
      ]
    },
    {
      "cell_type": "code",
      "execution_count": 28,
      "metadata": {
        "colab": {
          "base_uri": "https://localhost:8080/",
          "height": 303
        },
        "id": "MOR_CmuuFLnn",
        "outputId": "99e4182b-17ef-49a7-e62e-4e601bd3f3a5"
      },
      "outputs": [
        {
          "data": {
            "text/plain": [
              "total_bill    float64\n",
              "tip           float64\n",
              "sex            object\n",
              "smoker         object\n",
              "day            object\n",
              "time           object\n",
              "size            int64\n",
              "dtype: object"
            ]
          },
          "execution_count": 28,
          "metadata": {},
          "output_type": "execute_result"
        }
      ],
      "source": [
        "ndf.dtypes"
      ]
    },
    {
      "cell_type": "code",
      "execution_count": 29,
      "metadata": {
        "colab": {
          "base_uri": "https://localhost:8080/"
        },
        "id": "qr0jSv8P956z",
        "outputId": "d8707514-1e47-4fd4-d46d-5013818b20d2"
      },
      "outputs": [
        {
          "name": "stdout",
          "output_type": "stream",
          "text": [
            "       total_bill                                     tip                   \\\n",
            "             mean median       std   min    max      mean median       std   \n",
            "sex                                                                          \n",
            "Female  18.056897  16.40  8.009209  3.07  44.30  2.833448   2.75  1.159495   \n",
            "Male    20.744076  18.35  9.246469  7.25  50.81  3.089618   3.00  1.489102   \n",
            "\n",
            "                       size                           \n",
            "        min   max      mean median       std min max  \n",
            "sex                                                   \n",
            "Female  1.0   6.5  2.459770    2.0  0.937644   1   6  \n",
            "Male    1.0  10.0  2.630573    2.0  0.955997   1   6  \n"
          ]
        }
      ],
      "source": [
        "group_summary_tips = ndf.groupby('sex')[['total_bill','tip','size']].agg(['mean','median','std','min','max'])\n",
        "print(group_summary_tips)\n",
        "\n",
        "# Groups the dataset by the sex column (Male or Female). Calculates descriptive stats for each of the numeric variables: total_bill ,tip ,size"
      ]
    },
    {
      "cell_type": "code",
      "execution_count": 30,
      "metadata": {
        "colab": {
          "base_uri": "https://localhost:8080/"
        },
        "id": "5CU9BTv299mG",
        "outputId": "f0e8da88-f78d-43b0-cb92-229bcbaba961"
      },
      "outputs": [
        {
          "name": "stdout",
          "output_type": "stream",
          "text": [
            "       total_bill         tip        size\n",
            "count  157.000000  157.000000  157.000000\n",
            "mean    20.744076    3.089618    2.630573\n",
            "std      9.246469    1.489102    0.955997\n",
            "min      7.250000    1.000000    1.000000\n",
            "25%     14.000000    2.000000    2.000000\n",
            "50%     18.350000    3.000000    2.000000\n",
            "75%     24.710000    3.760000    3.000000\n",
            "max     50.810000   10.000000    6.000000\n"
          ]
        }
      ],
      "source": [
        "male = ndf[ndf['sex']=='Male'].describe()\n",
        "print(male)\n",
        "\n",
        "# Filters Male and Female rows separately. Calls describe() on each, giving mean, std, min, etc. for each group."
      ]
    },
    {
      "cell_type": "code",
      "execution_count": 31,
      "metadata": {
        "colab": {
          "base_uri": "https://localhost:8080/"
        },
        "id": "7cJ1OPQm-Dbn",
        "outputId": "5c6b166a-0558-4ba4-9a92-416ee95398e0"
      },
      "outputs": [
        {
          "name": "stdout",
          "output_type": "stream",
          "text": [
            "       total_bill        tip       size\n",
            "count   87.000000  87.000000  87.000000\n",
            "mean    18.056897   2.833448   2.459770\n",
            "std      8.009209   1.159495   0.937644\n",
            "min      3.070000   1.000000   1.000000\n",
            "25%     12.750000   2.000000   2.000000\n",
            "50%     16.400000   2.750000   2.000000\n",
            "75%     21.520000   3.500000   3.000000\n",
            "max     44.300000   6.500000   6.000000\n"
          ]
        }
      ],
      "source": [
        "female = ndf[ndf['sex']=='Female'].describe()\n",
        "print(female)\n",
        "\n",
        "# Filters Male and Female rows separately. Calls describe() on each, giving mean, std, min, etc. for each group."
      ]
    },
    {
      "cell_type": "code",
      "execution_count": 32,
      "metadata": {
        "colab": {
          "base_uri": "https://localhost:8080/",
          "height": 648
        },
        "id": "_OaB4HaH-Gdo",
        "outputId": "f0345543-bcbf-4927-f1a5-6d5b1d32be08"
      },
      "outputs": [
        {
          "name": "stderr",
          "output_type": "stream",
          "text": [
            "C:\\Users\\adity\\AppData\\Local\\Temp\\ipykernel_23828\\1404446793.py:2: FutureWarning: \n",
            "\n",
            "Passing `palette` without assigning `hue` is deprecated and will be removed in v0.14.0. Assign the `x` variable to `hue` and set `legend=False` for the same effect.\n",
            "\n",
            "  sns.boxplot(data=ndf,x='sex',y='tip',palette=\"Set2\")\n"
          ]
        },
        {
          "data": {
            "image/png": "[encoded data removed]",
            "text/plain": [
              "<Figure size 1000x800 with 1 Axes>"
            ]
          },
          "metadata": {},
          "output_type": "display_data"
        }
      ],
      "source": [
        "plt.figure(figsize=(10,8))\n",
        "sns.boxplot(data=ndf,x='sex',y='tip',palette=\"Set2\")\n",
        "plt.title(\"boxplot for tips\")\n",
        "plt.show()\n",
        "\n",
        "# Boxplot is used to visualize the distribution of tips for Male vs Female. Box shows: Median (center line), Interquartile range (box), Outliers (dots outside the whiskers), Helps visually compare variability and central tendency of tips by gender."
      ]
    }
  ],
  "metadata": {
    "colab": {
      "provenance": []
    },
    "kernelspec": {
      "display_name": "Python 3",
      "name": "python3"
    },
    "language_info": {
      "codemirror_mode": {
        "name": "ipython",
        "version": 3
      },
      "file_extension": ".py",
      "mimetype": "text/x-python",
      "name": "python",
      "nbconvert_exporter": "python",
      "pygments_lexer": "ipython3",
      "version": "3.11.9"
    }
  },
  "nbformat": 4,
  "nbformat_minor": 0
}
