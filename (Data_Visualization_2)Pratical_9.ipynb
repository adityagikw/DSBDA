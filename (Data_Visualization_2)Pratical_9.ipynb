{
  "cells": [
    {
      "cell_type": "markdown",
      "metadata": {
        "id": "CUV4S3IBVPko"
      },
      "source": [
        "Data Visualization II\n",
        "\n",
        "1. Use the inbuilt dataset 'titanic' as used in the above problem. Plot a box plot for distribution\n",
        "of age with respect to each gender along with the information about whether they survived\n",
        "or not. (Column names : 'sex' and 'age')\n",
        "2. Write observations on the inference from the above statistics."
      ]
    },
    {
      "cell_type": "code",
      "execution_count": 1,
      "metadata": {
        "id": "T3vm8PBnVJxn"
      },
      "outputs": [],
      "source": [
        "import pandas as pd\n",
        "import numpy as np\n",
        "import seaborn as sns\n",
        "import matplotlib.pyplot as plt"
      ]
    },
    {
      "cell_type": "code",
      "execution_count": 2,
      "metadata": {
        "colab": {
          "base_uri": "https://localhost:8080/",
          "height": 443
        },
        "id": "7vNmcUF-VZxw",
        "outputId": "5a32ffa2-600f-47ea-8c3f-adf86a82734c"
      },
      "outputs": [
        {
          "data": {
            "application/vnd.microsoft.datawrangler.viewer.v0+json": {
              "columns": [
                {
                  "name": "index",
                  "rawType": "int64",
                  "type": "integer"
                },
                {
                  "name": "survived",
                  "rawType": "int64",
                  "type": "integer"
                },
                {
                  "name": "pclass",
                  "rawType": "int64",
                  "type": "integer"
                },
                {
                  "name": "sex",
                  "rawType": "object",
                  "type": "string"
                },
                {
                  "name": "age",
                  "rawType": "float64",
                  "type": "float"
                },
                {
                  "name": "sibsp",
                  "rawType": "int64",
                  "type": "integer"
                },
                {
                  "name": "parch",
                  "rawType": "int64",
                  "type": "integer"
                },
                {
                  "name": "fare",
                  "rawType": "float64",
                  "type": "float"
                },
                {
                  "name": "embarked",
                  "rawType": "object",
                  "type": "unknown"
                },
                {
                  "name": "class",
                  "rawType": "object",
                  "type": "string"
                },
                {
                  "name": "who",
                  "rawType": "object",
                  "type": "string"
                },
                {
                  "name": "adult_male",
                  "rawType": "bool",
                  "type": "boolean"
                },
                {
                  "name": "deck",
                  "rawType": "object",
                  "type": "unknown"
                },
                {
                  "name": "embark_town",
                  "rawType": "object",
                  "type": "unknown"
                },
                {
                  "name": "alive",
                  "rawType": "object",
                  "type": "string"
                },
                {
                  "name": "alone",
                  "rawType": "bool",
                  "type": "boolean"
                }
              ],
              "conversionMethod": "pd.DataFrame",
              "ref": "6a33aefb-9cca-426e-8d4b-db0c27eb8e81",
              "rows": [
                [
                  "0",
                  "0",
                  "3",
                  "male",
                  "22.0",
                  "1",
                  "0",
                  "7.25",
                  "S",
                  "Third",
                  "man",
                  "True",
                  null,
                  "Southampton",
                  "no",
                  "False"
                ],
                [
                  "1",
                  "1",
                  "1",
                  "female",
                  "38.0",
                  "1",
                  "0",
                  "71.2833",
                  "C",
                  "First",
                  "woman",
                  "False",
                  "C",
                  "Cherbourg",
                  "yes",
                  "False"
                ],
                [
                  "2",
                  "1",
                  "3",
                  "female",
                  "26.0",
                  "0",
                  "0",
                  "7.925",
                  "S",
                  "Third",
                  "woman",
                  "False",
                  null,
                  "Southampton",
                  "yes",
                  "True"
                ],
                [
                  "3",
                  "1",
                  "1",
                  "female",
                  "35.0",
                  "1",
                  "0",
                  "53.1",
                  "S",
                  "First",
                  "woman",
                  "False",
                  "C",
                  "Southampton",
                  "yes",
                  "False"
                ],
                [
                  "4",
                  "0",
                  "3",
                  "male",
                  "35.0",
                  "0",
                  "0",
                  "8.05",
                  "S",
                  "Third",
                  "man",
                  "True",
                  null,
                  "Southampton",
                  "no",
                  "True"
                ],
                [
                  "5",
                  "0",
                  "3",
                  "male",
                  null,
                  "0",
                  "0",
                  "8.4583",
                  "Q",
                  "Third",
                  "man",
                  "True",
                  null,
                  "Queenstown",
                  "no",
                  "True"
                ],
                [
                  "6",
                  "0",
                  "1",
                  "male",
                  "54.0",
                  "0",
                  "0",
                  "51.8625",
                  "S",
                  "First",
                  "man",
                  "True",
                  "E",
                  "Southampton",
                  "no",
                  "True"
                ],
                [
                  "7",
                  "0",
                  "3",
                  "male",
                  "2.0",
                  "3",
                  "1",
                  "21.075",
                  "S",
                  "Third",
                  "child",
                  "False",
                  null,
                  "Southampton",
                  "no",
                  "False"
                ],
                [
                  "8",
                  "1",
                  "3",
                  "female",
                  "27.0",
                  "0",
                  "2",
                  "11.1333",
                  "S",
                  "Third",
                  "woman",
                  "False",
                  null,
                  "Southampton",
                  "yes",
                  "False"
                ],
                [
                  "9",
                  "1",
                  "2",
                  "female",
                  "14.0",
                  "1",
                  "0",
                  "30.0708",
                  "C",
                  "Second",
                  "child",
                  "False",
                  null,
                  "Cherbourg",
                  "yes",
                  "False"
                ],
                [
                  "10",
                  "1",
                  "3",
                  "female",
                  "4.0",
                  "1",
                  "1",
                  "16.7",
                  "S",
                  "Third",
                  "child",
                  "False",
                  "G",
                  "Southampton",
                  "yes",
                  "False"
                ],
                [
                  "11",
                  "1",
                  "1",
                  "female",
                  "58.0",
                  "0",
                  "0",
                  "26.55",
                  "S",
                  "First",
                  "woman",
                  "False",
                  "C",
                  "Southampton",
                  "yes",
                  "True"
                ],
                [
                  "12",
                  "0",
                  "3",
                  "male",
                  "20.0",
                  "0",
                  "0",
                  "8.05",
                  "S",
                  "Third",
                  "man",
                  "True",
                  null,
                  "Southampton",
                  "no",
                  "True"
                ],
                [
                  "13",
                  "0",
                  "3",
                  "male",
                  "39.0",
                  "1",
                  "5",
                  "31.275",
                  "S",
                  "Third",
                  "man",
                  "True",
                  null,
                  "Southampton",
                  "no",
                  "False"
                ],
                [
                  "14",
                  "0",
                  "3",
                  "female",
                  "14.0",
                  "0",
                  "0",
                  "7.8542",
                  "S",
                  "Third",
                  "child",
                  "False",
                  null,
                  "Southampton",
                  "no",
                  "True"
                ],
                [
                  "15",
                  "1",
                  "2",
                  "female",
                  "55.0",
                  "0",
                  "0",
                  "16.0",
                  "S",
                  "Second",
                  "woman",
                  "False",
                  null,
                  "Southampton",
                  "yes",
                  "True"
                ],
                [
                  "16",
                  "0",
                  "3",
                  "male",
                  "2.0",
                  "4",
                  "1",
                  "29.125",
                  "Q",
                  "Third",
                  "child",
                  "False",
                  null,
                  "Queenstown",
                  "no",
                  "False"
                ],
                [
                  "17",
                  "1",
                  "2",
                  "male",
                  null,
                  "0",
                  "0",
                  "13.0",
                  "S",
                  "Second",
                  "man",
                  "True",
                  null,
                  "Southampton",
                  "yes",
                  "True"
                ],
                [
                  "18",
                  "0",
                  "3",
                  "female",
                  "31.0",
                  "1",
                  "0",
                  "18.0",
                  "S",
                  "Third",
                  "woman",
                  "False",
                  null,
                  "Southampton",
                  "no",
                  "False"
                ],
                [
                  "19",
                  "1",
                  "3",
                  "female",
                  null,
                  "0",
                  "0",
                  "7.225",
                  "C",
                  "Third",
                  "woman",
                  "False",
                  null,
                  "Cherbourg",
                  "yes",
                  "True"
                ],
                [
                  "20",
                  "0",
                  "2",
                  "male",
                  "35.0",
                  "0",
                  "0",
                  "26.0",
                  "S",
                  "Second",
                  "man",
                  "True",
                  null,
                  "Southampton",
                  "no",
                  "True"
                ],
                [
                  "21",
                  "1",
                  "2",
                  "male",
                  "34.0",
                  "0",
                  "0",
                  "13.0",
                  "S",
                  "Second",
                  "man",
                  "True",
                  "D",
                  "Southampton",
                  "yes",
                  "True"
                ],
                [
                  "22",
                  "1",
                  "3",
                  "female",
                  "15.0",
                  "0",
                  "0",
                  "8.0292",
                  "Q",
                  "Third",
                  "child",
                  "False",
                  null,
                  "Queenstown",
                  "yes",
                  "True"
                ],
                [
                  "23",
                  "1",
                  "1",
                  "male",
                  "28.0",
                  "0",
                  "0",
                  "35.5",
                  "S",
                  "First",
                  "man",
                  "True",
                  "A",
                  "Southampton",
                  "yes",
                  "True"
                ],
                [
                  "24",
                  "0",
                  "3",
                  "female",
                  "8.0",
                  "3",
                  "1",
                  "21.075",
                  "S",
                  "Third",
                  "child",
                  "False",
                  null,
                  "Southampton",
                  "no",
                  "False"
                ],
                [
                  "25",
                  "1",
                  "3",
                  "female",
                  "38.0",
                  "1",
                  "5",
                  "31.3875",
                  "S",
                  "Third",
                  "woman",
                  "False",
                  null,
                  "Southampton",
                  "yes",
                  "False"
                ],
                [
                  "26",
                  "0",
                  "3",
                  "male",
                  null,
                  "0",
                  "0",
                  "7.225",
                  "C",
                  "Third",
                  "man",
                  "True",
                  null,
                  "Cherbourg",
                  "no",
                  "True"
                ],
                [
                  "27",
                  "0",
                  "1",
                  "male",
                  "19.0",
                  "3",
                  "2",
                  "263.0",
                  "S",
                  "First",
                  "man",
                  "True",
                  "C",
                  "Southampton",
                  "no",
                  "False"
                ],
                [
                  "28",
                  "1",
                  "3",
                  "female",
                  null,
                  "0",
                  "0",
                  "7.8792",
                  "Q",
                  "Third",
                  "woman",
                  "False",
                  null,
                  "Queenstown",
                  "yes",
                  "True"
                ],
                [
                  "29",
                  "0",
                  "3",
                  "male",
                  null,
                  "0",
                  "0",
                  "7.8958",
                  "S",
                  "Third",
                  "man",
                  "True",
                  null,
                  "Southampton",
                  "no",
                  "True"
                ],
                [
                  "30",
                  "0",
                  "1",
                  "male",
                  "40.0",
                  "0",
                  "0",
                  "27.7208",
                  "C",
                  "First",
                  "man",
                  "True",
                  null,
                  "Cherbourg",
                  "no",
                  "True"
                ],
                [
                  "31",
                  "1",
                  "1",
                  "female",
                  null,
                  "1",
                  "0",
                  "146.5208",
                  "C",
                  "First",
                  "woman",
                  "False",
                  "B",
                  "Cherbourg",
                  "yes",
                  "False"
                ],
                [
                  "32",
                  "1",
                  "3",
                  "female",
                  null,
                  "0",
                  "0",
                  "7.75",
                  "Q",
                  "Third",
                  "woman",
                  "False",
                  null,
                  "Queenstown",
                  "yes",
                  "True"
                ],
                [
                  "33",
                  "0",
                  "2",
                  "male",
                  "66.0",
                  "0",
                  "0",
                  "10.5",
                  "S",
                  "Second",
                  "man",
                  "True",
                  null,
                  "Southampton",
                  "no",
                  "True"
                ],
                [
                  "34",
                  "0",
                  "1",
                  "male",
                  "28.0",
                  "1",
                  "0",
                  "82.1708",
                  "C",
                  "First",
                  "man",
                  "True",
                  null,
                  "Cherbourg",
                  "no",
                  "False"
                ],
                [
                  "35",
                  "0",
                  "1",
                  "male",
                  "42.0",
                  "1",
                  "0",
                  "52.0",
                  "S",
                  "First",
                  "man",
                  "True",
                  null,
                  "Southampton",
                  "no",
                  "False"
                ],
                [
                  "36",
                  "1",
                  "3",
                  "male",
                  null,
                  "0",
                  "0",
                  "7.2292",
                  "C",
                  "Third",
                  "man",
                  "True",
                  null,
                  "Cherbourg",
                  "yes",
                  "True"
                ],
                [
                  "37",
                  "0",
                  "3",
                  "male",
                  "21.0",
                  "0",
                  "0",
                  "8.05",
                  "S",
                  "Third",
                  "man",
                  "True",
                  null,
                  "Southampton",
                  "no",
                  "True"
                ],
                [
                  "38",
                  "0",
                  "3",
                  "female",
                  "18.0",
                  "2",
                  "0",
                  "18.0",
                  "S",
                  "Third",
                  "woman",
                  "False",
                  null,
                  "Southampton",
                  "no",
                  "False"
                ],
                [
                  "39",
                  "1",
                  "3",
                  "female",
                  "14.0",
                  "1",
                  "0",
                  "11.2417",
                  "C",
                  "Third",
                  "child",
                  "False",
                  null,
                  "Cherbourg",
                  "yes",
                  "False"
                ],
                [
                  "40",
                  "0",
                  "3",
                  "female",
                  "40.0",
                  "1",
                  "0",
                  "9.475",
                  "S",
                  "Third",
                  "woman",
                  "False",
                  null,
                  "Southampton",
                  "no",
                  "False"
                ],
                [
                  "41",
                  "0",
                  "2",
                  "female",
                  "27.0",
                  "1",
                  "0",
                  "21.0",
                  "S",
                  "Second",
                  "woman",
                  "False",
                  null,
                  "Southampton",
                  "no",
                  "False"
                ],
                [
                  "42",
                  "0",
                  "3",
                  "male",
                  null,
                  "0",
                  "0",
                  "7.8958",
                  "C",
                  "Third",
                  "man",
                  "True",
                  null,
                  "Cherbourg",
                  "no",
                  "True"
                ],
                [
                  "43",
                  "1",
                  "2",
                  "female",
                  "3.0",
                  "1",
                  "2",
                  "41.5792",
                  "C",
                  "Second",
                  "child",
                  "False",
                  null,
                  "Cherbourg",
                  "yes",
                  "False"
                ],
                [
                  "44",
                  "1",
                  "3",
                  "female",
                  "19.0",
                  "0",
                  "0",
                  "7.8792",
                  "Q",
                  "Third",
                  "woman",
                  "False",
                  null,
                  "Queenstown",
                  "yes",
                  "True"
                ],
                [
                  "45",
                  "0",
                  "3",
                  "male",
                  null,
                  "0",
                  "0",
                  "8.05",
                  "S",
                  "Third",
                  "man",
                  "True",
                  null,
                  "Southampton",
                  "no",
                  "True"
                ],
                [
                  "46",
                  "0",
                  "3",
                  "male",
                  null,
                  "1",
                  "0",
                  "15.5",
                  "Q",
                  "Third",
                  "man",
                  "True",
                  null,
                  "Queenstown",
                  "no",
                  "False"
                ],
                [
                  "47",
                  "1",
                  "3",
                  "female",
                  null,
                  "0",
                  "0",
                  "7.75",
                  "Q",
                  "Third",
                  "woman",
                  "False",
                  null,
                  "Queenstown",
                  "yes",
                  "True"
                ],
                [
                  "48",
                  "0",
                  "3",
                  "male",
                  null,
                  "2",
                  "0",
                  "21.6792",
                  "C",
                  "Third",
                  "man",
                  "True",
                  null,
                  "Cherbourg",
                  "no",
                  "False"
                ],
                [
                  "49",
                  "0",
                  "3",
                  "female",
                  "18.0",
                  "1",
                  "0",
                  "17.8",
                  "S",
                  "Third",
                  "woman",
                  "False",
                  null,
                  "Southampton",
                  "no",
                  "False"
                ]
              ],
              "shape": {
                "columns": 15,
                "rows": 891
              }
            },
            "text/html": [
              "<div>\n",
              "<style scoped>\n",
              "    .dataframe tbody tr th:only-of-type {\n",
              "        vertical-align: middle;\n",
              "    }\n",
              "\n",
              "    .dataframe tbody tr th {\n",
              "        vertical-align: top;\n",
              "    }\n",
              "\n",
              "    .dataframe thead th {\n",
              "        text-align: right;\n",
              "    }\n",
              "</style>\n",
              "<table border=\"1\" class=\"dataframe\">\n",
              "  <thead>\n",
              "    <tr style=\"text-align: right;\">\n",
              "      <th></th>\n",
              "      <th>survived</th>\n",
              "      <th>pclass</th>\n",
              "      <th>sex</th>\n",
              "      <th>age</th>\n",
              "      <th>sibsp</th>\n",
              "      <th>parch</th>\n",
              "      <th>fare</th>\n",
              "      <th>embarked</th>\n",
              "      <th>class</th>\n",
              "      <th>who</th>\n",
              "      <th>adult_male</th>\n",
              "      <th>deck</th>\n",
              "      <th>embark_town</th>\n",
              "      <th>alive</th>\n",
              "      <th>alone</th>\n",
              "    </tr>\n",
              "  </thead>\n",
              "  <tbody>\n",
              "    <tr>\n",
              "      <th>0</th>\n",
              "      <td>0</td>\n",
              "      <td>3</td>\n",
              "      <td>male</td>\n",
              "      <td>22.0</td>\n",
              "      <td>1</td>\n",
              "      <td>0</td>\n",
              "      <td>7.2500</td>\n",
              "      <td>S</td>\n",
              "      <td>Third</td>\n",
              "      <td>man</td>\n",
              "      <td>True</td>\n",
              "      <td>NaN</td>\n",
              "      <td>Southampton</td>\n",
              "      <td>no</td>\n",
              "      <td>False</td>\n",
              "    </tr>\n",
              "    <tr>\n",
              "      <th>1</th>\n",
              "      <td>1</td>\n",
              "      <td>1</td>\n",
              "      <td>female</td>\n",
              "      <td>38.0</td>\n",
              "      <td>1</td>\n",
              "      <td>0</td>\n",
              "      <td>71.2833</td>\n",
              "      <td>C</td>\n",
              "      <td>First</td>\n",
              "      <td>woman</td>\n",
              "      <td>False</td>\n",
              "      <td>C</td>\n",
              "      <td>Cherbourg</td>\n",
              "      <td>yes</td>\n",
              "      <td>False</td>\n",
              "    </tr>\n",
              "    <tr>\n",
              "      <th>2</th>\n",
              "      <td>1</td>\n",
              "      <td>3</td>\n",
              "      <td>female</td>\n",
              "      <td>26.0</td>\n",
              "      <td>0</td>\n",
              "      <td>0</td>\n",
              "      <td>7.9250</td>\n",
              "      <td>S</td>\n",
              "      <td>Third</td>\n",
              "      <td>woman</td>\n",
              "      <td>False</td>\n",
              "      <td>NaN</td>\n",
              "      <td>Southampton</td>\n",
              "      <td>yes</td>\n",
              "      <td>True</td>\n",
              "    </tr>\n",
              "    <tr>\n",
              "      <th>3</th>\n",
              "      <td>1</td>\n",
              "      <td>1</td>\n",
              "      <td>female</td>\n",
              "      <td>35.0</td>\n",
              "      <td>1</td>\n",
              "      <td>0</td>\n",
              "      <td>53.1000</td>\n",
              "      <td>S</td>\n",
              "      <td>First</td>\n",
              "      <td>woman</td>\n",
              "      <td>False</td>\n",
              "      <td>C</td>\n",
              "      <td>Southampton</td>\n",
              "      <td>yes</td>\n",
              "      <td>False</td>\n",
              "    </tr>\n",
              "    <tr>\n",
              "      <th>4</th>\n",
              "      <td>0</td>\n",
              "      <td>3</td>\n",
              "      <td>male</td>\n",
              "      <td>35.0</td>\n",
              "      <td>0</td>\n",
              "      <td>0</td>\n",
              "      <td>8.0500</td>\n",
              "      <td>S</td>\n",
              "      <td>Third</td>\n",
              "      <td>man</td>\n",
              "      <td>True</td>\n",
              "      <td>NaN</td>\n",
              "      <td>Southampton</td>\n",
              "      <td>no</td>\n",
              "      <td>True</td>\n",
              "    </tr>\n",
              "    <tr>\n",
              "      <th>...</th>\n",
              "      <td>...</td>\n",
              "      <td>...</td>\n",
              "      <td>...</td>\n",
              "      <td>...</td>\n",
              "      <td>...</td>\n",
              "      <td>...</td>\n",
              "      <td>...</td>\n",
              "      <td>...</td>\n",
              "      <td>...</td>\n",
              "      <td>...</td>\n",
              "      <td>...</td>\n",
              "      <td>...</td>\n",
              "      <td>...</td>\n",
              "      <td>...</td>\n",
              "      <td>...</td>\n",
              "    </tr>\n",
              "    <tr>\n",
              "      <th>886</th>\n",
              "      <td>0</td>\n",
              "      <td>2</td>\n",
              "      <td>male</td>\n",
              "      <td>27.0</td>\n",
              "      <td>0</td>\n",
              "      <td>0</td>\n",
              "      <td>13.0000</td>\n",
              "      <td>S</td>\n",
              "      <td>Second</td>\n",
              "      <td>man</td>\n",
              "      <td>True</td>\n",
              "      <td>NaN</td>\n",
              "      <td>Southampton</td>\n",
              "      <td>no</td>\n",
              "      <td>True</td>\n",
              "    </tr>\n",
              "    <tr>\n",
              "      <th>887</th>\n",
              "      <td>1</td>\n",
              "      <td>1</td>\n",
              "      <td>female</td>\n",
              "      <td>19.0</td>\n",
              "      <td>0</td>\n",
              "      <td>0</td>\n",
              "      <td>30.0000</td>\n",
              "      <td>S</td>\n",
              "      <td>First</td>\n",
              "      <td>woman</td>\n",
              "      <td>False</td>\n",
              "      <td>B</td>\n",
              "      <td>Southampton</td>\n",
              "      <td>yes</td>\n",
              "      <td>True</td>\n",
              "    </tr>\n",
              "    <tr>\n",
              "      <th>888</th>\n",
              "      <td>0</td>\n",
              "      <td>3</td>\n",
              "      <td>female</td>\n",
              "      <td>NaN</td>\n",
              "      <td>1</td>\n",
              "      <td>2</td>\n",
              "      <td>23.4500</td>\n",
              "      <td>S</td>\n",
              "      <td>Third</td>\n",
              "      <td>woman</td>\n",
              "      <td>False</td>\n",
              "      <td>NaN</td>\n",
              "      <td>Southampton</td>\n",
              "      <td>no</td>\n",
              "      <td>False</td>\n",
              "    </tr>\n",
              "    <tr>\n",
              "      <th>889</th>\n",
              "      <td>1</td>\n",
              "      <td>1</td>\n",
              "      <td>male</td>\n",
              "      <td>26.0</td>\n",
              "      <td>0</td>\n",
              "      <td>0</td>\n",
              "      <td>30.0000</td>\n",
              "      <td>C</td>\n",
              "      <td>First</td>\n",
              "      <td>man</td>\n",
              "      <td>True</td>\n",
              "      <td>C</td>\n",
              "      <td>Cherbourg</td>\n",
              "      <td>yes</td>\n",
              "      <td>True</td>\n",
              "    </tr>\n",
              "    <tr>\n",
              "      <th>890</th>\n",
              "      <td>0</td>\n",
              "      <td>3</td>\n",
              "      <td>male</td>\n",
              "      <td>32.0</td>\n",
              "      <td>0</td>\n",
              "      <td>0</td>\n",
              "      <td>7.7500</td>\n",
              "      <td>Q</td>\n",
              "      <td>Third</td>\n",
              "      <td>man</td>\n",
              "      <td>True</td>\n",
              "      <td>NaN</td>\n",
              "      <td>Queenstown</td>\n",
              "      <td>no</td>\n",
              "      <td>True</td>\n",
              "    </tr>\n",
              "  </tbody>\n",
              "</table>\n",
              "<p>891 rows × 15 columns</p>\n",
              "</div>"
            ],
            "text/plain": [
              "     survived  pclass     sex   age  sibsp  parch     fare embarked   class  \\\n",
              "0           0       3    male  22.0      1      0   7.2500        S   Third   \n",
              "1           1       1  female  38.0      1      0  71.2833        C   First   \n",
              "2           1       3  female  26.0      0      0   7.9250        S   Third   \n",
              "3           1       1  female  35.0      1      0  53.1000        S   First   \n",
              "4           0       3    male  35.0      0      0   8.0500        S   Third   \n",
              "..        ...     ...     ...   ...    ...    ...      ...      ...     ...   \n",
              "886         0       2    male  27.0      0      0  13.0000        S  Second   \n",
              "887         1       1  female  19.0      0      0  30.0000        S   First   \n",
              "888         0       3  female   NaN      1      2  23.4500        S   Third   \n",
              "889         1       1    male  26.0      0      0  30.0000        C   First   \n",
              "890         0       3    male  32.0      0      0   7.7500        Q   Third   \n",
              "\n",
              "       who  adult_male deck  embark_town alive  alone  \n",
              "0      man        True  NaN  Southampton    no  False  \n",
              "1    woman       False    C    Cherbourg   yes  False  \n",
              "2    woman       False  NaN  Southampton   yes   True  \n",
              "3    woman       False    C  Southampton   yes  False  \n",
              "4      man        True  NaN  Southampton    no   True  \n",
              "..     ...         ...  ...          ...   ...    ...  \n",
              "886    man        True  NaN  Southampton    no   True  \n",
              "887  woman       False    B  Southampton   yes   True  \n",
              "888  woman       False  NaN  Southampton    no  False  \n",
              "889    man        True    C    Cherbourg   yes   True  \n",
              "890    man        True  NaN   Queenstown    no   True  \n",
              "\n",
              "[891 rows x 15 columns]"
            ]
          },
          "execution_count": 2,
          "metadata": {},
          "output_type": "execute_result"
        }
      ],
      "source": [
        "df = pd.read_csv('Dataset/titanic.csv')\n",
        "df"
      ]
    },
    {
      "cell_type": "code",
      "execution_count": 3,
      "metadata": {
        "colab": {
          "base_uri": "https://localhost:8080/",
          "height": 226
        },
        "id": "mZ5FdeXsHfzY",
        "outputId": "6bad46b8-19d2-4e09-8430-13d98215f92e"
      },
      "outputs": [
        {
          "data": {
            "application/vnd.microsoft.datawrangler.viewer.v0+json": {
              "columns": [
                {
                  "name": "index",
                  "rawType": "int64",
                  "type": "integer"
                },
                {
                  "name": "survived",
                  "rawType": "int64",
                  "type": "integer"
                },
                {
                  "name": "pclass",
                  "rawType": "int64",
                  "type": "integer"
                },
                {
                  "name": "sex",
                  "rawType": "object",
                  "type": "string"
                },
                {
                  "name": "age",
                  "rawType": "float64",
                  "type": "float"
                },
                {
                  "name": "sibsp",
                  "rawType": "int64",
                  "type": "integer"
                },
                {
                  "name": "parch",
                  "rawType": "int64",
                  "type": "integer"
                },
                {
                  "name": "fare",
                  "rawType": "float64",
                  "type": "float"
                },
                {
                  "name": "embarked",
                  "rawType": "object",
                  "type": "string"
                },
                {
                  "name": "class",
                  "rawType": "object",
                  "type": "string"
                },
                {
                  "name": "who",
                  "rawType": "object",
                  "type": "string"
                },
                {
                  "name": "adult_male",
                  "rawType": "bool",
                  "type": "boolean"
                },
                {
                  "name": "deck",
                  "rawType": "object",
                  "type": "unknown"
                },
                {
                  "name": "embark_town",
                  "rawType": "object",
                  "type": "string"
                },
                {
                  "name": "alive",
                  "rawType": "object",
                  "type": "string"
                },
                {
                  "name": "alone",
                  "rawType": "bool",
                  "type": "boolean"
                }
              ],
              "conversionMethod": "pd.DataFrame",
              "ref": "e6a6a230-48cc-4106-9902-8bd150f3891b",
              "rows": [
                [
                  "0",
                  "0",
                  "3",
                  "male",
                  "22.0",
                  "1",
                  "0",
                  "7.25",
                  "S",
                  "Third",
                  "man",
                  "True",
                  null,
                  "Southampton",
                  "no",
                  "False"
                ],
                [
                  "1",
                  "1",
                  "1",
                  "female",
                  "38.0",
                  "1",
                  "0",
                  "71.2833",
                  "C",
                  "First",
                  "woman",
                  "False",
                  "C",
                  "Cherbourg",
                  "yes",
                  "False"
                ],
                [
                  "2",
                  "1",
                  "3",
                  "female",
                  "26.0",
                  "0",
                  "0",
                  "7.925",
                  "S",
                  "Third",
                  "woman",
                  "False",
                  null,
                  "Southampton",
                  "yes",
                  "True"
                ],
                [
                  "3",
                  "1",
                  "1",
                  "female",
                  "35.0",
                  "1",
                  "0",
                  "53.1",
                  "S",
                  "First",
                  "woman",
                  "False",
                  "C",
                  "Southampton",
                  "yes",
                  "False"
                ],
                [
                  "4",
                  "0",
                  "3",
                  "male",
                  "35.0",
                  "0",
                  "0",
                  "8.05",
                  "S",
                  "Third",
                  "man",
                  "True",
                  null,
                  "Southampton",
                  "no",
                  "True"
                ]
              ],
              "shape": {
                "columns": 15,
                "rows": 5
              }
            },
            "text/html": [
              "<div>\n",
              "<style scoped>\n",
              "    .dataframe tbody tr th:only-of-type {\n",
              "        vertical-align: middle;\n",
              "    }\n",
              "\n",
              "    .dataframe tbody tr th {\n",
              "        vertical-align: top;\n",
              "    }\n",
              "\n",
              "    .dataframe thead th {\n",
              "        text-align: right;\n",
              "    }\n",
              "</style>\n",
              "<table border=\"1\" class=\"dataframe\">\n",
              "  <thead>\n",
              "    <tr style=\"text-align: right;\">\n",
              "      <th></th>\n",
              "      <th>survived</th>\n",
              "      <th>pclass</th>\n",
              "      <th>sex</th>\n",
              "      <th>age</th>\n",
              "      <th>sibsp</th>\n",
              "      <th>parch</th>\n",
              "      <th>fare</th>\n",
              "      <th>embarked</th>\n",
              "      <th>class</th>\n",
              "      <th>who</th>\n",
              "      <th>adult_male</th>\n",
              "      <th>deck</th>\n",
              "      <th>embark_town</th>\n",
              "      <th>alive</th>\n",
              "      <th>alone</th>\n",
              "    </tr>\n",
              "  </thead>\n",
              "  <tbody>\n",
              "    <tr>\n",
              "      <th>0</th>\n",
              "      <td>0</td>\n",
              "      <td>3</td>\n",
              "      <td>male</td>\n",
              "      <td>22.0</td>\n",
              "      <td>1</td>\n",
              "      <td>0</td>\n",
              "      <td>7.2500</td>\n",
              "      <td>S</td>\n",
              "      <td>Third</td>\n",
              "      <td>man</td>\n",
              "      <td>True</td>\n",
              "      <td>NaN</td>\n",
              "      <td>Southampton</td>\n",
              "      <td>no</td>\n",
              "      <td>False</td>\n",
              "    </tr>\n",
              "    <tr>\n",
              "      <th>1</th>\n",
              "      <td>1</td>\n",
              "      <td>1</td>\n",
              "      <td>female</td>\n",
              "      <td>38.0</td>\n",
              "      <td>1</td>\n",
              "      <td>0</td>\n",
              "      <td>71.2833</td>\n",
              "      <td>C</td>\n",
              "      <td>First</td>\n",
              "      <td>woman</td>\n",
              "      <td>False</td>\n",
              "      <td>C</td>\n",
              "      <td>Cherbourg</td>\n",
              "      <td>yes</td>\n",
              "      <td>False</td>\n",
              "    </tr>\n",
              "    <tr>\n",
              "      <th>2</th>\n",
              "      <td>1</td>\n",
              "      <td>3</td>\n",
              "      <td>female</td>\n",
              "      <td>26.0</td>\n",
              "      <td>0</td>\n",
              "      <td>0</td>\n",
              "      <td>7.9250</td>\n",
              "      <td>S</td>\n",
              "      <td>Third</td>\n",
              "      <td>woman</td>\n",
              "      <td>False</td>\n",
              "      <td>NaN</td>\n",
              "      <td>Southampton</td>\n",
              "      <td>yes</td>\n",
              "      <td>True</td>\n",
              "    </tr>\n",
              "    <tr>\n",
              "      <th>3</th>\n",
              "      <td>1</td>\n",
              "      <td>1</td>\n",
              "      <td>female</td>\n",
              "      <td>35.0</td>\n",
              "      <td>1</td>\n",
              "      <td>0</td>\n",
              "      <td>53.1000</td>\n",
              "      <td>S</td>\n",
              "      <td>First</td>\n",
              "      <td>woman</td>\n",
              "      <td>False</td>\n",
              "      <td>C</td>\n",
              "      <td>Southampton</td>\n",
              "      <td>yes</td>\n",
              "      <td>False</td>\n",
              "    </tr>\n",
              "    <tr>\n",
              "      <th>4</th>\n",
              "      <td>0</td>\n",
              "      <td>3</td>\n",
              "      <td>male</td>\n",
              "      <td>35.0</td>\n",
              "      <td>0</td>\n",
              "      <td>0</td>\n",
              "      <td>8.0500</td>\n",
              "      <td>S</td>\n",
              "      <td>Third</td>\n",
              "      <td>man</td>\n",
              "      <td>True</td>\n",
              "      <td>NaN</td>\n",
              "      <td>Southampton</td>\n",
              "      <td>no</td>\n",
              "      <td>True</td>\n",
              "    </tr>\n",
              "  </tbody>\n",
              "</table>\n",
              "</div>"
            ],
            "text/plain": [
              "   survived  pclass     sex   age  sibsp  parch     fare embarked  class  \\\n",
              "0         0       3    male  22.0      1      0   7.2500        S  Third   \n",
              "1         1       1  female  38.0      1      0  71.2833        C  First   \n",
              "2         1       3  female  26.0      0      0   7.9250        S  Third   \n",
              "3         1       1  female  35.0      1      0  53.1000        S  First   \n",
              "4         0       3    male  35.0      0      0   8.0500        S  Third   \n",
              "\n",
              "     who  adult_male deck  embark_town alive  alone  \n",
              "0    man        True  NaN  Southampton    no  False  \n",
              "1  woman       False    C    Cherbourg   yes  False  \n",
              "2  woman       False  NaN  Southampton   yes   True  \n",
              "3  woman       False    C  Southampton   yes  False  \n",
              "4    man        True  NaN  Southampton    no   True  "
            ]
          },
          "execution_count": 3,
          "metadata": {},
          "output_type": "execute_result"
        }
      ],
      "source": [
        "df.head()"
      ]
    },
    {
      "cell_type": "code",
      "execution_count": 4,
      "metadata": {
        "colab": {
          "base_uri": "https://localhost:8080/",
          "height": 226
        },
        "id": "yMPSDOq3Hh1V",
        "outputId": "f6f68b74-f5da-430c-805a-f88c0a88c638"
      },
      "outputs": [
        {
          "data": {
            "application/vnd.microsoft.datawrangler.viewer.v0+json": {
              "columns": [
                {
                  "name": "index",
                  "rawType": "int64",
                  "type": "integer"
                },
                {
                  "name": "survived",
                  "rawType": "int64",
                  "type": "integer"
                },
                {
                  "name": "pclass",
                  "rawType": "int64",
                  "type": "integer"
                },
                {
                  "name": "sex",
                  "rawType": "object",
                  "type": "string"
                },
                {
                  "name": "age",
                  "rawType": "float64",
                  "type": "float"
                },
                {
                  "name": "sibsp",
                  "rawType": "int64",
                  "type": "integer"
                },
                {
                  "name": "parch",
                  "rawType": "int64",
                  "type": "integer"
                },
                {
                  "name": "fare",
                  "rawType": "float64",
                  "type": "float"
                },
                {
                  "name": "embarked",
                  "rawType": "object",
                  "type": "string"
                },
                {
                  "name": "class",
                  "rawType": "object",
                  "type": "string"
                },
                {
                  "name": "who",
                  "rawType": "object",
                  "type": "string"
                },
                {
                  "name": "adult_male",
                  "rawType": "bool",
                  "type": "boolean"
                },
                {
                  "name": "deck",
                  "rawType": "object",
                  "type": "unknown"
                },
                {
                  "name": "embark_town",
                  "rawType": "object",
                  "type": "string"
                },
                {
                  "name": "alive",
                  "rawType": "object",
                  "type": "string"
                },
                {
                  "name": "alone",
                  "rawType": "bool",
                  "type": "boolean"
                }
              ],
              "conversionMethod": "pd.DataFrame",
              "ref": "35e1561a-b07e-48a5-b2e2-d3cfb7ffa1a2",
              "rows": [
                [
                  "886",
                  "0",
                  "2",
                  "male",
                  "27.0",
                  "0",
                  "0",
                  "13.0",
                  "S",
                  "Second",
                  "man",
                  "True",
                  null,
                  "Southampton",
                  "no",
                  "True"
                ],
                [
                  "887",
                  "1",
                  "1",
                  "female",
                  "19.0",
                  "0",
                  "0",
                  "30.0",
                  "S",
                  "First",
                  "woman",
                  "False",
                  "B",
                  "Southampton",
                  "yes",
                  "True"
                ],
                [
                  "888",
                  "0",
                  "3",
                  "female",
                  null,
                  "1",
                  "2",
                  "23.45",
                  "S",
                  "Third",
                  "woman",
                  "False",
                  null,
                  "Southampton",
                  "no",
                  "False"
                ],
                [
                  "889",
                  "1",
                  "1",
                  "male",
                  "26.0",
                  "0",
                  "0",
                  "30.0",
                  "C",
                  "First",
                  "man",
                  "True",
                  "C",
                  "Cherbourg",
                  "yes",
                  "True"
                ],
                [
                  "890",
                  "0",
                  "3",
                  "male",
                  "32.0",
                  "0",
                  "0",
                  "7.75",
                  "Q",
                  "Third",
                  "man",
                  "True",
                  null,
                  "Queenstown",
                  "no",
                  "True"
                ]
              ],
              "shape": {
                "columns": 15,
                "rows": 5
              }
            },
            "text/html": [
              "<div>\n",
              "<style scoped>\n",
              "    .dataframe tbody tr th:only-of-type {\n",
              "        vertical-align: middle;\n",
              "    }\n",
              "\n",
              "    .dataframe tbody tr th {\n",
              "        vertical-align: top;\n",
              "    }\n",
              "\n",
              "    .dataframe thead th {\n",
              "        text-align: right;\n",
              "    }\n",
              "</style>\n",
              "<table border=\"1\" class=\"dataframe\">\n",
              "  <thead>\n",
              "    <tr style=\"text-align: right;\">\n",
              "      <th></th>\n",
              "      <th>survived</th>\n",
              "      <th>pclass</th>\n",
              "      <th>sex</th>\n",
              "      <th>age</th>\n",
              "      <th>sibsp</th>\n",
              "      <th>parch</th>\n",
              "      <th>fare</th>\n",
              "      <th>embarked</th>\n",
              "      <th>class</th>\n",
              "      <th>who</th>\n",
              "      <th>adult_male</th>\n",
              "      <th>deck</th>\n",
              "      <th>embark_town</th>\n",
              "      <th>alive</th>\n",
              "      <th>alone</th>\n",
              "    </tr>\n",
              "  </thead>\n",
              "  <tbody>\n",
              "    <tr>\n",
              "      <th>886</th>\n",
              "      <td>0</td>\n",
              "      <td>2</td>\n",
              "      <td>male</td>\n",
              "      <td>27.0</td>\n",
              "      <td>0</td>\n",
              "      <td>0</td>\n",
              "      <td>13.00</td>\n",
              "      <td>S</td>\n",
              "      <td>Second</td>\n",
              "      <td>man</td>\n",
              "      <td>True</td>\n",
              "      <td>NaN</td>\n",
              "      <td>Southampton</td>\n",
              "      <td>no</td>\n",
              "      <td>True</td>\n",
              "    </tr>\n",
              "    <tr>\n",
              "      <th>887</th>\n",
              "      <td>1</td>\n",
              "      <td>1</td>\n",
              "      <td>female</td>\n",
              "      <td>19.0</td>\n",
              "      <td>0</td>\n",
              "      <td>0</td>\n",
              "      <td>30.00</td>\n",
              "      <td>S</td>\n",
              "      <td>First</td>\n",
              "      <td>woman</td>\n",
              "      <td>False</td>\n",
              "      <td>B</td>\n",
              "      <td>Southampton</td>\n",
              "      <td>yes</td>\n",
              "      <td>True</td>\n",
              "    </tr>\n",
              "    <tr>\n",
              "      <th>888</th>\n",
              "      <td>0</td>\n",
              "      <td>3</td>\n",
              "      <td>female</td>\n",
              "      <td>NaN</td>\n",
              "      <td>1</td>\n",
              "      <td>2</td>\n",
              "      <td>23.45</td>\n",
              "      <td>S</td>\n",
              "      <td>Third</td>\n",
              "      <td>woman</td>\n",
              "      <td>False</td>\n",
              "      <td>NaN</td>\n",
              "      <td>Southampton</td>\n",
              "      <td>no</td>\n",
              "      <td>False</td>\n",
              "    </tr>\n",
              "    <tr>\n",
              "      <th>889</th>\n",
              "      <td>1</td>\n",
              "      <td>1</td>\n",
              "      <td>male</td>\n",
              "      <td>26.0</td>\n",
              "      <td>0</td>\n",
              "      <td>0</td>\n",
              "      <td>30.00</td>\n",
              "      <td>C</td>\n",
              "      <td>First</td>\n",
              "      <td>man</td>\n",
              "      <td>True</td>\n",
              "      <td>C</td>\n",
              "      <td>Cherbourg</td>\n",
              "      <td>yes</td>\n",
              "      <td>True</td>\n",
              "    </tr>\n",
              "    <tr>\n",
              "      <th>890</th>\n",
              "      <td>0</td>\n",
              "      <td>3</td>\n",
              "      <td>male</td>\n",
              "      <td>32.0</td>\n",
              "      <td>0</td>\n",
              "      <td>0</td>\n",
              "      <td>7.75</td>\n",
              "      <td>Q</td>\n",
              "      <td>Third</td>\n",
              "      <td>man</td>\n",
              "      <td>True</td>\n",
              "      <td>NaN</td>\n",
              "      <td>Queenstown</td>\n",
              "      <td>no</td>\n",
              "      <td>True</td>\n",
              "    </tr>\n",
              "  </tbody>\n",
              "</table>\n",
              "</div>"
            ],
            "text/plain": [
              "     survived  pclass     sex   age  sibsp  parch   fare embarked   class  \\\n",
              "886         0       2    male  27.0      0      0  13.00        S  Second   \n",
              "887         1       1  female  19.0      0      0  30.00        S   First   \n",
              "888         0       3  female   NaN      1      2  23.45        S   Third   \n",
              "889         1       1    male  26.0      0      0  30.00        C   First   \n",
              "890         0       3    male  32.0      0      0   7.75        Q   Third   \n",
              "\n",
              "       who  adult_male deck  embark_town alive  alone  \n",
              "886    man        True  NaN  Southampton    no   True  \n",
              "887  woman       False    B  Southampton   yes   True  \n",
              "888  woman       False  NaN  Southampton    no  False  \n",
              "889    man        True    C    Cherbourg   yes   True  \n",
              "890    man        True  NaN   Queenstown    no   True  "
            ]
          },
          "execution_count": 4,
          "metadata": {},
          "output_type": "execute_result"
        }
      ],
      "source": [
        "df.tail()"
      ]
    },
    {
      "cell_type": "code",
      "execution_count": 5,
      "metadata": {
        "colab": {
          "base_uri": "https://localhost:8080/",
          "height": 320
        },
        "id": "m9tcREuHHkfO",
        "outputId": "3ab33b6d-63b4-432f-b218-5ed550ee8f76"
      },
      "outputs": [
        {
          "data": {
            "application/vnd.microsoft.datawrangler.viewer.v0+json": {
              "columns": [
                {
                  "name": "index",
                  "rawType": "object",
                  "type": "string"
                },
                {
                  "name": "survived",
                  "rawType": "float64",
                  "type": "float"
                },
                {
                  "name": "pclass",
                  "rawType": "float64",
                  "type": "float"
                },
                {
                  "name": "age",
                  "rawType": "float64",
                  "type": "float"
                },
                {
                  "name": "sibsp",
                  "rawType": "float64",
                  "type": "float"
                },
                {
                  "name": "parch",
                  "rawType": "float64",
                  "type": "float"
                },
                {
                  "name": "fare",
                  "rawType": "float64",
                  "type": "float"
                }
              ],
              "conversionMethod": "pd.DataFrame",
              "ref": "5316bc9c-7644-499f-a71a-750bc7630659",
              "rows": [
                [
                  "count",
                  "891.0",
                  "891.0",
                  "714.0",
                  "891.0",
                  "891.0",
                  "891.0"
                ],
                [
                  "mean",
                  "0.3838383838383838",
                  "2.308641975308642",
                  "29.69911764705882",
                  "0.5230078563411896",
                  "0.38159371492704824",
                  "32.204207968574636"
                ],
                [
                  "std",
                  "0.4865924542648575",
                  "0.836071240977049",
                  "14.526497332334042",
                  "1.1027434322934317",
                  "0.8060572211299483",
                  "49.6934285971809"
                ],
                [
                  "min",
                  "0.0",
                  "1.0",
                  "0.42",
                  "0.0",
                  "0.0",
                  "0.0"
                ],
                [
                  "25%",
                  "0.0",
                  "2.0",
                  "20.125",
                  "0.0",
                  "0.0",
                  "7.9104"
                ],
                [
                  "50%",
                  "0.0",
                  "3.0",
                  "28.0",
                  "0.0",
                  "0.0",
                  "14.4542"
                ],
                [
                  "75%",
                  "1.0",
                  "3.0",
                  "38.0",
                  "1.0",
                  "0.0",
                  "31.0"
                ],
                [
                  "max",
                  "1.0",
                  "3.0",
                  "80.0",
                  "8.0",
                  "6.0",
                  "512.3292"
                ]
              ],
              "shape": {
                "columns": 6,
                "rows": 8
              }
            },
            "text/html": [
              "<div>\n",
              "<style scoped>\n",
              "    .dataframe tbody tr th:only-of-type {\n",
              "        vertical-align: middle;\n",
              "    }\n",
              "\n",
              "    .dataframe tbody tr th {\n",
              "        vertical-align: top;\n",
              "    }\n",
              "\n",
              "    .dataframe thead th {\n",
              "        text-align: right;\n",
              "    }\n",
              "</style>\n",
              "<table border=\"1\" class=\"dataframe\">\n",
              "  <thead>\n",
              "    <tr style=\"text-align: right;\">\n",
              "      <th></th>\n",
              "      <th>survived</th>\n",
              "      <th>pclass</th>\n",
              "      <th>age</th>\n",
              "      <th>sibsp</th>\n",
              "      <th>parch</th>\n",
              "      <th>fare</th>\n",
              "    </tr>\n",
              "  </thead>\n",
              "  <tbody>\n",
              "    <tr>\n",
              "      <th>count</th>\n",
              "      <td>891.000000</td>\n",
              "      <td>891.000000</td>\n",
              "      <td>714.000000</td>\n",
              "      <td>891.000000</td>\n",
              "      <td>891.000000</td>\n",
              "      <td>891.000000</td>\n",
              "    </tr>\n",
              "    <tr>\n",
              "      <th>mean</th>\n",
              "      <td>0.383838</td>\n",
              "      <td>2.308642</td>\n",
              "      <td>29.699118</td>\n",
              "      <td>0.523008</td>\n",
              "      <td>0.381594</td>\n",
              "      <td>32.204208</td>\n",
              "    </tr>\n",
              "    <tr>\n",
              "      <th>std</th>\n",
              "      <td>0.486592</td>\n",
              "      <td>0.836071</td>\n",
              "      <td>14.526497</td>\n",
              "      <td>1.102743</td>\n",
              "      <td>0.806057</td>\n",
              "      <td>49.693429</td>\n",
              "    </tr>\n",
              "    <tr>\n",
              "      <th>min</th>\n",
              "      <td>0.000000</td>\n",
              "      <td>1.000000</td>\n",
              "      <td>0.420000</td>\n",
              "      <td>0.000000</td>\n",
              "      <td>0.000000</td>\n",
              "      <td>0.000000</td>\n",
              "    </tr>\n",
              "    <tr>\n",
              "      <th>25%</th>\n",
              "      <td>0.000000</td>\n",
              "      <td>2.000000</td>\n",
              "      <td>20.125000</td>\n",
              "      <td>0.000000</td>\n",
              "      <td>0.000000</td>\n",
              "      <td>7.910400</td>\n",
              "    </tr>\n",
              "    <tr>\n",
              "      <th>50%</th>\n",
              "      <td>0.000000</td>\n",
              "      <td>3.000000</td>\n",
              "      <td>28.000000</td>\n",
              "      <td>0.000000</td>\n",
              "      <td>0.000000</td>\n",
              "      <td>14.454200</td>\n",
              "    </tr>\n",
              "    <tr>\n",
              "      <th>75%</th>\n",
              "      <td>1.000000</td>\n",
              "      <td>3.000000</td>\n",
              "      <td>38.000000</td>\n",
              "      <td>1.000000</td>\n",
              "      <td>0.000000</td>\n",
              "      <td>31.000000</td>\n",
              "    </tr>\n",
              "    <tr>\n",
              "      <th>max</th>\n",
              "      <td>1.000000</td>\n",
              "      <td>3.000000</td>\n",
              "      <td>80.000000</td>\n",
              "      <td>8.000000</td>\n",
              "      <td>6.000000</td>\n",
              "      <td>512.329200</td>\n",
              "    </tr>\n",
              "  </tbody>\n",
              "</table>\n",
              "</div>"
            ],
            "text/plain": [
              "         survived      pclass         age       sibsp       parch        fare\n",
              "count  891.000000  891.000000  714.000000  891.000000  891.000000  891.000000\n",
              "mean     0.383838    2.308642   29.699118    0.523008    0.381594   32.204208\n",
              "std      0.486592    0.836071   14.526497    1.102743    0.806057   49.693429\n",
              "min      0.000000    1.000000    0.420000    0.000000    0.000000    0.000000\n",
              "25%      0.000000    2.000000   20.125000    0.000000    0.000000    7.910400\n",
              "50%      0.000000    3.000000   28.000000    0.000000    0.000000   14.454200\n",
              "75%      1.000000    3.000000   38.000000    1.000000    0.000000   31.000000\n",
              "max      1.000000    3.000000   80.000000    8.000000    6.000000  512.329200"
            ]
          },
          "execution_count": 5,
          "metadata": {},
          "output_type": "execute_result"
        }
      ],
      "source": [
        "df.describe()"
      ]
    },
    {
      "cell_type": "code",
      "execution_count": 6,
      "metadata": {
        "colab": {
          "base_uri": "https://localhost:8080/"
        },
        "id": "pj0k90zqHm7A",
        "outputId": "84aa851f-b713-4aeb-bd46-6bfac7776a5a"
      },
      "outputs": [
        {
          "name": "stdout",
          "output_type": "stream",
          "text": [
            "<class 'pandas.core.frame.DataFrame'>\n",
            "RangeIndex: 891 entries, 0 to 890\n",
            "Data columns (total 15 columns):\n",
            " #   Column       Non-Null Count  Dtype  \n",
            "---  ------       --------------  -----  \n",
            " 0   survived     891 non-null    int64  \n",
            " 1   pclass       891 non-null    int64  \n",
            " 2   sex          891 non-null    object \n",
            " 3   age          714 non-null    float64\n",
            " 4   sibsp        891 non-null    int64  \n",
            " 5   parch        891 non-null    int64  \n",
            " 6   fare         891 non-null    float64\n",
            " 7   embarked     889 non-null    object \n",
            " 8   class        891 non-null    object \n",
            " 9   who          891 non-null    object \n",
            " 10  adult_male   891 non-null    bool   \n",
            " 11  deck         203 non-null    object \n",
            " 12  embark_town  889 non-null    object \n",
            " 13  alive        891 non-null    object \n",
            " 14  alone        891 non-null    bool   \n",
            "dtypes: bool(2), float64(2), int64(4), object(7)\n",
            "memory usage: 92.4+ KB\n"
          ]
        }
      ],
      "source": [
        "df.info()"
      ]
    },
    {
      "cell_type": "code",
      "execution_count": 7,
      "metadata": {
        "colab": {
          "base_uri": "https://localhost:8080/"
        },
        "id": "kE_lCLRBHp0G",
        "outputId": "93c2552d-6095-4510-93e2-220d28f2c9f8"
      },
      "outputs": [
        {
          "data": {
            "text/plain": [
              "(891, 15)"
            ]
          },
          "execution_count": 7,
          "metadata": {},
          "output_type": "execute_result"
        }
      ],
      "source": [
        "df.shape"
      ]
    },
    {
      "cell_type": "code",
      "execution_count": 8,
      "metadata": {
        "colab": {
          "base_uri": "https://localhost:8080/",
          "height": 554
        },
        "id": "EtGn6UouHrjH",
        "outputId": "fe44b30c-1e0a-40c6-870d-8709da05646d"
      },
      "outputs": [
        {
          "data": {
            "text/plain": [
              "survived         int64\n",
              "pclass           int64\n",
              "sex             object\n",
              "age            float64\n",
              "sibsp            int64\n",
              "parch            int64\n",
              "fare           float64\n",
              "embarked        object\n",
              "class           object\n",
              "who             object\n",
              "adult_male        bool\n",
              "deck            object\n",
              "embark_town     object\n",
              "alive           object\n",
              "alone             bool\n",
              "dtype: object"
            ]
          },
          "execution_count": 8,
          "metadata": {},
          "output_type": "execute_result"
        }
      ],
      "source": [
        "df.dtypes"
      ]
    },
    {
      "cell_type": "code",
      "execution_count": 9,
      "metadata": {
        "colab": {
          "base_uri": "https://localhost:8080/",
          "height": 423
        },
        "id": "fCoU1RMHVn5S",
        "outputId": "c76b1a21-c4b4-4287-9d20-3e84f04c94d7"
      },
      "outputs": [
        {
          "data": {
            "application/vnd.microsoft.datawrangler.viewer.v0+json": {
              "columns": [
                {
                  "name": "index",
                  "rawType": "int64",
                  "type": "integer"
                },
                {
                  "name": "age",
                  "rawType": "float64",
                  "type": "float"
                },
                {
                  "name": "sex",
                  "rawType": "object",
                  "type": "string"
                },
                {
                  "name": "alive",
                  "rawType": "object",
                  "type": "string"
                }
              ],
              "conversionMethod": "pd.DataFrame",
              "ref": "a3e855ac-aa72-470b-9d26-c0c3c51f57b4",
              "rows": [
                [
                  "0",
                  "22.0",
                  "male",
                  "no"
                ],
                [
                  "1",
                  "38.0",
                  "female",
                  "yes"
                ],
                [
                  "2",
                  "26.0",
                  "female",
                  "yes"
                ],
                [
                  "3",
                  "35.0",
                  "female",
                  "yes"
                ],
                [
                  "4",
                  "35.0",
                  "male",
                  "no"
                ],
                [
                  "5",
                  null,
                  "male",
                  "no"
                ],
                [
                  "6",
                  "54.0",
                  "male",
                  "no"
                ],
                [
                  "7",
                  "2.0",
                  "male",
                  "no"
                ],
                [
                  "8",
                  "27.0",
                  "female",
                  "yes"
                ],
                [
                  "9",
                  "14.0",
                  "female",
                  "yes"
                ],
                [
                  "10",
                  "4.0",
                  "female",
                  "yes"
                ],
                [
                  "11",
                  "58.0",
                  "female",
                  "yes"
                ],
                [
                  "12",
                  "20.0",
                  "male",
                  "no"
                ],
                [
                  "13",
                  "39.0",
                  "male",
                  "no"
                ],
                [
                  "14",
                  "14.0",
                  "female",
                  "no"
                ],
                [
                  "15",
                  "55.0",
                  "female",
                  "yes"
                ],
                [
                  "16",
                  "2.0",
                  "male",
                  "no"
                ],
                [
                  "17",
                  null,
                  "male",
                  "yes"
                ],
                [
                  "18",
                  "31.0",
                  "female",
                  "no"
                ],
                [
                  "19",
                  null,
                  "female",
                  "yes"
                ],
                [
                  "20",
                  "35.0",
                  "male",
                  "no"
                ],
                [
                  "21",
                  "34.0",
                  "male",
                  "yes"
                ],
                [
                  "22",
                  "15.0",
                  "female",
                  "yes"
                ],
                [
                  "23",
                  "28.0",
                  "male",
                  "yes"
                ],
                [
                  "24",
                  "8.0",
                  "female",
                  "no"
                ],
                [
                  "25",
                  "38.0",
                  "female",
                  "yes"
                ],
                [
                  "26",
                  null,
                  "male",
                  "no"
                ],
                [
                  "27",
                  "19.0",
                  "male",
                  "no"
                ],
                [
                  "28",
                  null,
                  "female",
                  "yes"
                ],
                [
                  "29",
                  null,
                  "male",
                  "no"
                ],
                [
                  "30",
                  "40.0",
                  "male",
                  "no"
                ],
                [
                  "31",
                  null,
                  "female",
                  "yes"
                ],
                [
                  "32",
                  null,
                  "female",
                  "yes"
                ],
                [
                  "33",
                  "66.0",
                  "male",
                  "no"
                ],
                [
                  "34",
                  "28.0",
                  "male",
                  "no"
                ],
                [
                  "35",
                  "42.0",
                  "male",
                  "no"
                ],
                [
                  "36",
                  null,
                  "male",
                  "yes"
                ],
                [
                  "37",
                  "21.0",
                  "male",
                  "no"
                ],
                [
                  "38",
                  "18.0",
                  "female",
                  "no"
                ],
                [
                  "39",
                  "14.0",
                  "female",
                  "yes"
                ],
                [
                  "40",
                  "40.0",
                  "female",
                  "no"
                ],
                [
                  "41",
                  "27.0",
                  "female",
                  "no"
                ],
                [
                  "42",
                  null,
                  "male",
                  "no"
                ],
                [
                  "43",
                  "3.0",
                  "female",
                  "yes"
                ],
                [
                  "44",
                  "19.0",
                  "female",
                  "yes"
                ],
                [
                  "45",
                  null,
                  "male",
                  "no"
                ],
                [
                  "46",
                  null,
                  "male",
                  "no"
                ],
                [
                  "47",
                  null,
                  "female",
                  "yes"
                ],
                [
                  "48",
                  null,
                  "male",
                  "no"
                ],
                [
                  "49",
                  "18.0",
                  "female",
                  "no"
                ]
              ],
              "shape": {
                "columns": 3,
                "rows": 891
              }
            },
            "text/html": [
              "<div>\n",
              "<style scoped>\n",
              "    .dataframe tbody tr th:only-of-type {\n",
              "        vertical-align: middle;\n",
              "    }\n",
              "\n",
              "    .dataframe tbody tr th {\n",
              "        vertical-align: top;\n",
              "    }\n",
              "\n",
              "    .dataframe thead th {\n",
              "        text-align: right;\n",
              "    }\n",
              "</style>\n",
              "<table border=\"1\" class=\"dataframe\">\n",
              "  <thead>\n",
              "    <tr style=\"text-align: right;\">\n",
              "      <th></th>\n",
              "      <th>age</th>\n",
              "      <th>sex</th>\n",
              "      <th>alive</th>\n",
              "    </tr>\n",
              "  </thead>\n",
              "  <tbody>\n",
              "    <tr>\n",
              "      <th>0</th>\n",
              "      <td>22.0</td>\n",
              "      <td>male</td>\n",
              "      <td>no</td>\n",
              "    </tr>\n",
              "    <tr>\n",
              "      <th>1</th>\n",
              "      <td>38.0</td>\n",
              "      <td>female</td>\n",
              "      <td>yes</td>\n",
              "    </tr>\n",
              "    <tr>\n",
              "      <th>2</th>\n",
              "      <td>26.0</td>\n",
              "      <td>female</td>\n",
              "      <td>yes</td>\n",
              "    </tr>\n",
              "    <tr>\n",
              "      <th>3</th>\n",
              "      <td>35.0</td>\n",
              "      <td>female</td>\n",
              "      <td>yes</td>\n",
              "    </tr>\n",
              "    <tr>\n",
              "      <th>4</th>\n",
              "      <td>35.0</td>\n",
              "      <td>male</td>\n",
              "      <td>no</td>\n",
              "    </tr>\n",
              "    <tr>\n",
              "      <th>...</th>\n",
              "      <td>...</td>\n",
              "      <td>...</td>\n",
              "      <td>...</td>\n",
              "    </tr>\n",
              "    <tr>\n",
              "      <th>886</th>\n",
              "      <td>27.0</td>\n",
              "      <td>male</td>\n",
              "      <td>no</td>\n",
              "    </tr>\n",
              "    <tr>\n",
              "      <th>887</th>\n",
              "      <td>19.0</td>\n",
              "      <td>female</td>\n",
              "      <td>yes</td>\n",
              "    </tr>\n",
              "    <tr>\n",
              "      <th>888</th>\n",
              "      <td>NaN</td>\n",
              "      <td>female</td>\n",
              "      <td>no</td>\n",
              "    </tr>\n",
              "    <tr>\n",
              "      <th>889</th>\n",
              "      <td>26.0</td>\n",
              "      <td>male</td>\n",
              "      <td>yes</td>\n",
              "    </tr>\n",
              "    <tr>\n",
              "      <th>890</th>\n",
              "      <td>32.0</td>\n",
              "      <td>male</td>\n",
              "      <td>no</td>\n",
              "    </tr>\n",
              "  </tbody>\n",
              "</table>\n",
              "<p>891 rows × 3 columns</p>\n",
              "</div>"
            ],
            "text/plain": [
              "      age     sex alive\n",
              "0    22.0    male    no\n",
              "1    38.0  female   yes\n",
              "2    26.0  female   yes\n",
              "3    35.0  female   yes\n",
              "4    35.0    male    no\n",
              "..    ...     ...   ...\n",
              "886  27.0    male    no\n",
              "887  19.0  female   yes\n",
              "888   NaN  female    no\n",
              "889  26.0    male   yes\n",
              "890  32.0    male    no\n",
              "\n",
              "[891 rows x 3 columns]"
            ]
          },
          "execution_count": 9,
          "metadata": {},
          "output_type": "execute_result"
        }
      ],
      "source": [
        "ndf = df[['age',\"sex\",\"alive\"]]\n",
        "ndf\n",
        "\n",
        "# Creates a new DataFrame ndf with only the necessary columns: 'age' – numeric (passenger's age), 'sex' – categorical (male, female), 'alive' – categorical (yes, no) indicating if the passenger survived."
      ]
    },
    {
      "cell_type": "code",
      "execution_count": 10,
      "metadata": {
        "colab": {
          "base_uri": "https://localhost:8080/",
          "height": 392
        },
        "id": "TnJNeaOtVq4m",
        "outputId": "d2f15081-4c93-4c80-806b-210c2a02c7fc"
      },
      "outputs": [
        {
          "data": {
            "image/png": "[encoded data removed]",
            "text/plain": [
              "<Figure size 1000x600 with 1 Axes>"
            ]
          },
          "metadata": {},
          "output_type": "display_data"
        }
      ],
      "source": [
        "plt.figure(figsize=(10,6)) # Initializes a new figure with custom size — 10 inches wide, 6 inches tall.\n",
        "sns.boxplot(data=df,x='sex',y=\"age\",hue='alive',palette=\"Set1\")\n",
        "# sns.boxplot(): Plots a box plot where: x='sex' — X-axis represents gender (male, female). y='age' — Y-axis represents age distribution. hue='alive' — Color-codes the plot by survival (yes = survived, no = died). palette=\"Set1\" — Uses a predefined Seaborn color palette.\n",
        "\n",
        "plt.title(\"survived or not\") # Sets the title of the plot.\n",
        "plt.xlabel(\"gender\") # Labels the X-axis as gender.\n",
        "plt.ylabel(\"age\") # Labels the Y-axis as age.\n",
        "plt.tight_layout() # Automatically adjusts spacing to prevent label overlap.\n",
        "plt.show() # Displays the complete plot."
      ]
    },
    {
      "cell_type": "code",
      "execution_count": 11,
      "metadata": {
        "colab": {
          "base_uri": "https://localhost:8080/",
          "height": 447
        },
        "id": "Lj99hNPPVtTe",
        "outputId": "2f74b00d-e11e-4ddd-a9b1-496bfe51ee84"
      },
      "outputs": [
        {
          "data": {
            "text/plain": [
              "<Axes: >"
            ]
          },
          "execution_count": 11,
          "metadata": {},
          "output_type": "execute_result"
        },
        {
          "data": {
            "image/png": "[encoded data removed]",
            "text/plain": [
              "<Figure size 640x480 with 1 Axes>"
            ]
          },
          "metadata": {},
          "output_type": "display_data"
        }
      ],
      "source": [
        "df.boxplot() # This creates a basic boxplot of all numeric columns in the dataset. It’s a quick way to visualize statistical spread, but not specific to gender or survival.\n"
      ]
    }
  ],
  "metadata": {
    "colab": {
      "provenance": []
    },
    "kernelspec": {
      "display_name": "Python 3",
      "name": "python3"
    },
    "language_info": {
      "codemirror_mode": {
        "name": "ipython",
        "version": 3
      },
      "file_extension": ".py",
      "mimetype": "text/x-python",
      "name": "python",
      "nbconvert_exporter": "python",
      "pygments_lexer": "ipython3",
      "version": "3.11.9"
    }
  },
  "nbformat": 4,
  "nbformat_minor": 0
}
