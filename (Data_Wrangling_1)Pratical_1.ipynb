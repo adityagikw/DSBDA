{
  "cells": [
    {
      "cell_type": "markdown",
      "metadata": {
        "id": "dbSDdIFwCXiJ"
      },
      "source": [
        "Data Wrangling, I\n",
        "Perform the following operations using Python on any open source dataset (e.g., data.csv)\n",
        "1. Import all the required Python Libraries.\n",
        "2. Locate an open source data from the web (e.g., https://www.kaggle.com). Provide a clear\n",
        " description of the data and its source (i.e., URL of the web site).\n",
        "3. Load the Dataset into pandas dataframe.\n",
        "4. Data Preprocessing: check for missing values in the data using pandas isnull(), describe()\n",
        "function to get some initial statistics. Provide variable descriptions. Types of variables etc.\n",
        "Check the dimensions of the data frame.\n",
        "5. Data Formatting and Data Normalization: Summarize the types of variables by checking\n",
        "the data types (i.e., character, numeric, integer, factor, and logical) of the variables in the\n",
        "data set. If variables are not in the correct data type, apply proper type conversions.\n",
        "6. Turn categorical variables into quantitative variables in Python.\n",
        "In addition to the codes and outputs, explain every operation that you do in the above steps and\n",
        "explain everything that you do to import/read/scrape the data set.\n"
      ]
    },
    {
      "cell_type": "code",
      "execution_count": 2,
      "metadata": {
        "id": "mTxy9FB8zn03"
      },
      "outputs": [],
      "source": [
        "#import required libaries\n",
        "import pandas as pd   # data manipulation and analysis\n",
        "import numpy as np    # supports numerical operations\n",
        "import seaborn as sns   # used for data visualization\n",
        "import matplotlib.pyplot as plt    # used for data visualization"
      ]
    },
    {
      "cell_type": "code",
      "execution_count": 3,
      "metadata": {
        "colab": {
          "base_uri": "https://localhost:8080/"
        },
        "id": "LPzlbdYDEAjN",
        "outputId": "0ead4c20-2194-4a12-cb49-c3d4e22b793a"
      },
      "outputs": [
        {
          "name": "stdout",
          "output_type": "stream",
          "text": [
            "      Id  SepalLengthCm  SepalWidthCm  PetalLengthCm  PetalWidthCm  \\\n",
            "0      1            5.1           3.5            1.4           0.2   \n",
            "1      2            4.9           3.0            1.4           0.2   \n",
            "2      3            4.7           3.2            1.3           0.2   \n",
            "3      4            4.6           3.1            1.5           0.2   \n",
            "4      5            5.0           3.6            1.4           0.2   \n",
            "..   ...            ...           ...            ...           ...   \n",
            "145  146            6.7           3.0            5.2           2.3   \n",
            "146  147            6.3           2.5            5.0           1.9   \n",
            "147  148            6.5           3.0            5.2           2.0   \n",
            "148  149            6.2           3.4            5.4           2.3   \n",
            "149  150            5.9           3.0            5.1           1.8   \n",
            "\n",
            "            Species  \n",
            "0       Iris-setosa  \n",
            "1       Iris-setosa  \n",
            "2       Iris-setosa  \n",
            "3       Iris-setosa  \n",
            "4       Iris-setosa  \n",
            "..              ...  \n",
            "145  Iris-virginica  \n",
            "146  Iris-virginica  \n",
            "147  Iris-virginica  \n",
            "148  Iris-virginica  \n",
            "149  Iris-virginica  \n",
            "\n",
            "[150 rows x 6 columns]\n"
          ]
        }
      ],
      "source": [
        "# Dataset: Iris Flower Dataset\n",
        "# Source: https://www.kaggle.com/datasets/uciml/iris\n",
        "# Description: Contains 150 samples with sepal and petal measurements for 3 iris species.\n",
        "\n",
        "#load dataset\n",
        "#df = sns.load_dataset('iris')\n",
        "\n",
        "df =pd.read_csv('Dataset/Iris.csv')      # read_csv function loads dataset\n",
        "print(df)      # display dataframe"
      ]
    },
    {
      "cell_type": "markdown",
      "metadata": {
        "id": "fpzhuxkwM4xz"
      },
      "source": [
        "Data Preprocessing Begins"
      ]
    },
    {
      "cell_type": "code",
      "execution_count": 4,
      "metadata": {
        "colab": {
          "base_uri": "https://localhost:8080/",
          "height": 206
        },
        "id": "7JqjJat-Dsb6",
        "outputId": "170134dc-3206-4c38-e69c-80754d2d85eb"
      },
      "outputs": [
        {
          "data": {
            "application/vnd.microsoft.datawrangler.viewer.v0+json": {
              "columns": [
                {
                  "name": "index",
                  "rawType": "int64",
                  "type": "integer"
                },
                {
                  "name": "Id",
                  "rawType": "int64",
                  "type": "integer"
                },
                {
                  "name": "SepalLengthCm",
                  "rawType": "float64",
                  "type": "float"
                },
                {
                  "name": "SepalWidthCm",
                  "rawType": "float64",
                  "type": "float"
                },
                {
                  "name": "PetalLengthCm",
                  "rawType": "float64",
                  "type": "float"
                },
                {
                  "name": "PetalWidthCm",
                  "rawType": "float64",
                  "type": "float"
                },
                {
                  "name": "Species",
                  "rawType": "object",
                  "type": "string"
                }
              ],
              "conversionMethod": "pd.DataFrame",
              "ref": "50c78c77-5d28-4f08-bf86-19a2ddb8dfbe",
              "rows": [
                [
                  "0",
                  "1",
                  "5.1",
                  "3.5",
                  "1.4",
                  "0.2",
                  "Iris-setosa"
                ],
                [
                  "1",
                  "2",
                  "4.9",
                  "3.0",
                  "1.4",
                  "0.2",
                  "Iris-setosa"
                ],
                [
                  "2",
                  "3",
                  "4.7",
                  "3.2",
                  "1.3",
                  "0.2",
                  "Iris-setosa"
                ],
                [
                  "3",
                  "4",
                  "4.6",
                  "3.1",
                  "1.5",
                  "0.2",
                  "Iris-setosa"
                ],
                [
                  "4",
                  "5",
                  "5.0",
                  "3.6",
                  "1.4",
                  "0.2",
                  "Iris-setosa"
                ]
              ],
              "shape": {
                "columns": 6,
                "rows": 5
              }
            },
            "text/html": [
              "<div>\n",
              "<style scoped>\n",
              "    .dataframe tbody tr th:only-of-type {\n",
              "        vertical-align: middle;\n",
              "    }\n",
              "\n",
              "    .dataframe tbody tr th {\n",
              "        vertical-align: top;\n",
              "    }\n",
              "\n",
              "    .dataframe thead th {\n",
              "        text-align: right;\n",
              "    }\n",
              "</style>\n",
              "<table border=\"1\" class=\"dataframe\">\n",
              "  <thead>\n",
              "    <tr style=\"text-align: right;\">\n",
              "      <th></th>\n",
              "      <th>Id</th>\n",
              "      <th>SepalLengthCm</th>\n",
              "      <th>SepalWidthCm</th>\n",
              "      <th>PetalLengthCm</th>\n",
              "      <th>PetalWidthCm</th>\n",
              "      <th>Species</th>\n",
              "    </tr>\n",
              "  </thead>\n",
              "  <tbody>\n",
              "    <tr>\n",
              "      <th>0</th>\n",
              "      <td>1</td>\n",
              "      <td>5.1</td>\n",
              "      <td>3.5</td>\n",
              "      <td>1.4</td>\n",
              "      <td>0.2</td>\n",
              "      <td>Iris-setosa</td>\n",
              "    </tr>\n",
              "    <tr>\n",
              "      <th>1</th>\n",
              "      <td>2</td>\n",
              "      <td>4.9</td>\n",
              "      <td>3.0</td>\n",
              "      <td>1.4</td>\n",
              "      <td>0.2</td>\n",
              "      <td>Iris-setosa</td>\n",
              "    </tr>\n",
              "    <tr>\n",
              "      <th>2</th>\n",
              "      <td>3</td>\n",
              "      <td>4.7</td>\n",
              "      <td>3.2</td>\n",
              "      <td>1.3</td>\n",
              "      <td>0.2</td>\n",
              "      <td>Iris-setosa</td>\n",
              "    </tr>\n",
              "    <tr>\n",
              "      <th>3</th>\n",
              "      <td>4</td>\n",
              "      <td>4.6</td>\n",
              "      <td>3.1</td>\n",
              "      <td>1.5</td>\n",
              "      <td>0.2</td>\n",
              "      <td>Iris-setosa</td>\n",
              "    </tr>\n",
              "    <tr>\n",
              "      <th>4</th>\n",
              "      <td>5</td>\n",
              "      <td>5.0</td>\n",
              "      <td>3.6</td>\n",
              "      <td>1.4</td>\n",
              "      <td>0.2</td>\n",
              "      <td>Iris-setosa</td>\n",
              "    </tr>\n",
              "  </tbody>\n",
              "</table>\n",
              "</div>"
            ],
            "text/plain": [
              "   Id  SepalLengthCm  SepalWidthCm  PetalLengthCm  PetalWidthCm      Species\n",
              "0   1            5.1           3.5            1.4           0.2  Iris-setosa\n",
              "1   2            4.9           3.0            1.4           0.2  Iris-setosa\n",
              "2   3            4.7           3.2            1.3           0.2  Iris-setosa\n",
              "3   4            4.6           3.1            1.5           0.2  Iris-setosa\n",
              "4   5            5.0           3.6            1.4           0.2  Iris-setosa"
            ]
          },
          "execution_count": 4,
          "metadata": {},
          "output_type": "execute_result"
        }
      ],
      "source": [
        "df.head()"
      ]
    },
    {
      "cell_type": "code",
      "execution_count": 5,
      "metadata": {
        "colab": {
          "base_uri": "https://localhost:8080/",
          "height": 206
        },
        "id": "Y-J8PzXID5Wo",
        "outputId": "3c99d7c9-75f9-4ba9-e510-a71c30b910e7"
      },
      "outputs": [
        {
          "data": {
            "application/vnd.microsoft.datawrangler.viewer.v0+json": {
              "columns": [
                {
                  "name": "index",
                  "rawType": "int64",
                  "type": "integer"
                },
                {
                  "name": "Id",
                  "rawType": "int64",
                  "type": "integer"
                },
                {
                  "name": "SepalLengthCm",
                  "rawType": "float64",
                  "type": "float"
                },
                {
                  "name": "SepalWidthCm",
                  "rawType": "float64",
                  "type": "float"
                },
                {
                  "name": "PetalLengthCm",
                  "rawType": "float64",
                  "type": "float"
                },
                {
                  "name": "PetalWidthCm",
                  "rawType": "float64",
                  "type": "float"
                },
                {
                  "name": "Species",
                  "rawType": "object",
                  "type": "string"
                }
              ],
              "conversionMethod": "pd.DataFrame",
              "ref": "ae0bd8b5-ec2f-4ce6-a7b2-34d52dafafca",
              "rows": [
                [
                  "145",
                  "146",
                  "6.7",
                  "3.0",
                  "5.2",
                  "2.3",
                  "Iris-virginica"
                ],
                [
                  "146",
                  "147",
                  "6.3",
                  "2.5",
                  "5.0",
                  "1.9",
                  "Iris-virginica"
                ],
                [
                  "147",
                  "148",
                  "6.5",
                  "3.0",
                  "5.2",
                  "2.0",
                  "Iris-virginica"
                ],
                [
                  "148",
                  "149",
                  "6.2",
                  "3.4",
                  "5.4",
                  "2.3",
                  "Iris-virginica"
                ],
                [
                  "149",
                  "150",
                  "5.9",
                  "3.0",
                  "5.1",
                  "1.8",
                  "Iris-virginica"
                ]
              ],
              "shape": {
                "columns": 6,
                "rows": 5
              }
            },
            "text/html": [
              "<div>\n",
              "<style scoped>\n",
              "    .dataframe tbody tr th:only-of-type {\n",
              "        vertical-align: middle;\n",
              "    }\n",
              "\n",
              "    .dataframe tbody tr th {\n",
              "        vertical-align: top;\n",
              "    }\n",
              "\n",
              "    .dataframe thead th {\n",
              "        text-align: right;\n",
              "    }\n",
              "</style>\n",
              "<table border=\"1\" class=\"dataframe\">\n",
              "  <thead>\n",
              "    <tr style=\"text-align: right;\">\n",
              "      <th></th>\n",
              "      <th>Id</th>\n",
              "      <th>SepalLengthCm</th>\n",
              "      <th>SepalWidthCm</th>\n",
              "      <th>PetalLengthCm</th>\n",
              "      <th>PetalWidthCm</th>\n",
              "      <th>Species</th>\n",
              "    </tr>\n",
              "  </thead>\n",
              "  <tbody>\n",
              "    <tr>\n",
              "      <th>145</th>\n",
              "      <td>146</td>\n",
              "      <td>6.7</td>\n",
              "      <td>3.0</td>\n",
              "      <td>5.2</td>\n",
              "      <td>2.3</td>\n",
              "      <td>Iris-virginica</td>\n",
              "    </tr>\n",
              "    <tr>\n",
              "      <th>146</th>\n",
              "      <td>147</td>\n",
              "      <td>6.3</td>\n",
              "      <td>2.5</td>\n",
              "      <td>5.0</td>\n",
              "      <td>1.9</td>\n",
              "      <td>Iris-virginica</td>\n",
              "    </tr>\n",
              "    <tr>\n",
              "      <th>147</th>\n",
              "      <td>148</td>\n",
              "      <td>6.5</td>\n",
              "      <td>3.0</td>\n",
              "      <td>5.2</td>\n",
              "      <td>2.0</td>\n",
              "      <td>Iris-virginica</td>\n",
              "    </tr>\n",
              "    <tr>\n",
              "      <th>148</th>\n",
              "      <td>149</td>\n",
              "      <td>6.2</td>\n",
              "      <td>3.4</td>\n",
              "      <td>5.4</td>\n",
              "      <td>2.3</td>\n",
              "      <td>Iris-virginica</td>\n",
              "    </tr>\n",
              "    <tr>\n",
              "      <th>149</th>\n",
              "      <td>150</td>\n",
              "      <td>5.9</td>\n",
              "      <td>3.0</td>\n",
              "      <td>5.1</td>\n",
              "      <td>1.8</td>\n",
              "      <td>Iris-virginica</td>\n",
              "    </tr>\n",
              "  </tbody>\n",
              "</table>\n",
              "</div>"
            ],
            "text/plain": [
              "      Id  SepalLengthCm  SepalWidthCm  PetalLengthCm  PetalWidthCm  \\\n",
              "145  146            6.7           3.0            5.2           2.3   \n",
              "146  147            6.3           2.5            5.0           1.9   \n",
              "147  148            6.5           3.0            5.2           2.0   \n",
              "148  149            6.2           3.4            5.4           2.3   \n",
              "149  150            5.9           3.0            5.1           1.8   \n",
              "\n",
              "            Species  \n",
              "145  Iris-virginica  \n",
              "146  Iris-virginica  \n",
              "147  Iris-virginica  \n",
              "148  Iris-virginica  \n",
              "149  Iris-virginica  "
            ]
          },
          "execution_count": 5,
          "metadata": {},
          "output_type": "execute_result"
        }
      ],
      "source": [
        "df.tail()"
      ]
    },
    {
      "cell_type": "code",
      "execution_count": 6,
      "metadata": {
        "colab": {
          "base_uri": "https://localhost:8080/"
        },
        "id": "TqqUED1jF-PK",
        "outputId": "3f4d7566-7094-4f1d-9486-88a56ab60028"
      },
      "outputs": [
        {
          "name": "stdout",
          "output_type": "stream",
          "text": [
            "<class 'pandas.core.frame.DataFrame'>\n",
            "RangeIndex: 150 entries, 0 to 149\n",
            "Data columns (total 6 columns):\n",
            " #   Column         Non-Null Count  Dtype  \n",
            "---  ------         --------------  -----  \n",
            " 0   Id             150 non-null    int64  \n",
            " 1   SepalLengthCm  150 non-null    float64\n",
            " 2   SepalWidthCm   150 non-null    float64\n",
            " 3   PetalLengthCm  150 non-null    float64\n",
            " 4   PetalWidthCm   150 non-null    float64\n",
            " 5   Species        150 non-null    object \n",
            "dtypes: float64(4), int64(1), object(1)\n",
            "memory usage: 7.2+ KB\n"
          ]
        }
      ],
      "source": [
        "#cehck basic information\n",
        "df.info()   #Displays the number of non-null entries, column names, and data types."
      ]
    },
    {
      "cell_type": "code",
      "execution_count": 7,
      "metadata": {
        "colab": {
          "base_uri": "https://localhost:8080/"
        },
        "id": "8qr-I-fKLuCF",
        "outputId": "b7dff088-0483-4a69-d65c-159012b8ac64"
      },
      "outputs": [
        {
          "data": {
            "text/plain": [
              "(150, 6)"
            ]
          },
          "execution_count": 7,
          "metadata": {},
          "output_type": "execute_result"
        }
      ],
      "source": [
        "#check dimensions of dataset\n",
        "df.shape"
      ]
    },
    {
      "cell_type": "code",
      "execution_count": 8,
      "metadata": {
        "colab": {
          "base_uri": "https://localhost:8080/",
          "height": 300
        },
        "id": "iqfUBzMUHWUy",
        "outputId": "29b6774a-26bc-41de-e3ee-9c5f658bfc50"
      },
      "outputs": [
        {
          "data": {
            "application/vnd.microsoft.datawrangler.viewer.v0+json": {
              "columns": [
                {
                  "name": "index",
                  "rawType": "object",
                  "type": "string"
                },
                {
                  "name": "Id",
                  "rawType": "float64",
                  "type": "float"
                },
                {
                  "name": "SepalLengthCm",
                  "rawType": "float64",
                  "type": "float"
                },
                {
                  "name": "SepalWidthCm",
                  "rawType": "float64",
                  "type": "float"
                },
                {
                  "name": "PetalLengthCm",
                  "rawType": "float64",
                  "type": "float"
                },
                {
                  "name": "PetalWidthCm",
                  "rawType": "float64",
                  "type": "float"
                }
              ],
              "conversionMethod": "pd.DataFrame",
              "ref": "f504ef94-5aae-403b-aa84-8657733628f6",
              "rows": [
                [
                  "count",
                  "150.0",
                  "150.0",
                  "150.0",
                  "150.0",
                  "150.0"
                ],
                [
                  "mean",
                  "75.5",
                  "5.843333333333334",
                  "3.0540000000000003",
                  "3.758666666666666",
                  "1.1986666666666668"
                ],
                [
                  "std",
                  "43.445367992456916",
                  "0.828066127977863",
                  "0.4335943113621737",
                  "1.7644204199522626",
                  "0.7631607417008411"
                ],
                [
                  "min",
                  "1.0",
                  "4.3",
                  "2.0",
                  "1.0",
                  "0.1"
                ],
                [
                  "25%",
                  "38.25",
                  "5.1",
                  "2.8",
                  "1.6",
                  "0.3"
                ],
                [
                  "50%",
                  "75.5",
                  "5.8",
                  "3.0",
                  "4.35",
                  "1.3"
                ],
                [
                  "75%",
                  "112.75",
                  "6.4",
                  "3.3",
                  "5.1",
                  "1.8"
                ],
                [
                  "max",
                  "150.0",
                  "7.9",
                  "4.4",
                  "6.9",
                  "2.5"
                ]
              ],
              "shape": {
                "columns": 5,
                "rows": 8
              }
            },
            "text/html": [
              "<div>\n",
              "<style scoped>\n",
              "    .dataframe tbody tr th:only-of-type {\n",
              "        vertical-align: middle;\n",
              "    }\n",
              "\n",
              "    .dataframe tbody tr th {\n",
              "        vertical-align: top;\n",
              "    }\n",
              "\n",
              "    .dataframe thead th {\n",
              "        text-align: right;\n",
              "    }\n",
              "</style>\n",
              "<table border=\"1\" class=\"dataframe\">\n",
              "  <thead>\n",
              "    <tr style=\"text-align: right;\">\n",
              "      <th></th>\n",
              "      <th>Id</th>\n",
              "      <th>SepalLengthCm</th>\n",
              "      <th>SepalWidthCm</th>\n",
              "      <th>PetalLengthCm</th>\n",
              "      <th>PetalWidthCm</th>\n",
              "    </tr>\n",
              "  </thead>\n",
              "  <tbody>\n",
              "    <tr>\n",
              "      <th>count</th>\n",
              "      <td>150.000000</td>\n",
              "      <td>150.000000</td>\n",
              "      <td>150.000000</td>\n",
              "      <td>150.000000</td>\n",
              "      <td>150.000000</td>\n",
              "    </tr>\n",
              "    <tr>\n",
              "      <th>mean</th>\n",
              "      <td>75.500000</td>\n",
              "      <td>5.843333</td>\n",
              "      <td>3.054000</td>\n",
              "      <td>3.758667</td>\n",
              "      <td>1.198667</td>\n",
              "    </tr>\n",
              "    <tr>\n",
              "      <th>std</th>\n",
              "      <td>43.445368</td>\n",
              "      <td>0.828066</td>\n",
              "      <td>0.433594</td>\n",
              "      <td>1.764420</td>\n",
              "      <td>0.763161</td>\n",
              "    </tr>\n",
              "    <tr>\n",
              "      <th>min</th>\n",
              "      <td>1.000000</td>\n",
              "      <td>4.300000</td>\n",
              "      <td>2.000000</td>\n",
              "      <td>1.000000</td>\n",
              "      <td>0.100000</td>\n",
              "    </tr>\n",
              "    <tr>\n",
              "      <th>25%</th>\n",
              "      <td>38.250000</td>\n",
              "      <td>5.100000</td>\n",
              "      <td>2.800000</td>\n",
              "      <td>1.600000</td>\n",
              "      <td>0.300000</td>\n",
              "    </tr>\n",
              "    <tr>\n",
              "      <th>50%</th>\n",
              "      <td>75.500000</td>\n",
              "      <td>5.800000</td>\n",
              "      <td>3.000000</td>\n",
              "      <td>4.350000</td>\n",
              "      <td>1.300000</td>\n",
              "    </tr>\n",
              "    <tr>\n",
              "      <th>75%</th>\n",
              "      <td>112.750000</td>\n",
              "      <td>6.400000</td>\n",
              "      <td>3.300000</td>\n",
              "      <td>5.100000</td>\n",
              "      <td>1.800000</td>\n",
              "    </tr>\n",
              "    <tr>\n",
              "      <th>max</th>\n",
              "      <td>150.000000</td>\n",
              "      <td>7.900000</td>\n",
              "      <td>4.400000</td>\n",
              "      <td>6.900000</td>\n",
              "      <td>2.500000</td>\n",
              "    </tr>\n",
              "  </tbody>\n",
              "</table>\n",
              "</div>"
            ],
            "text/plain": [
              "               Id  SepalLengthCm  SepalWidthCm  PetalLengthCm  PetalWidthCm\n",
              "count  150.000000     150.000000    150.000000     150.000000    150.000000\n",
              "mean    75.500000       5.843333      3.054000       3.758667      1.198667\n",
              "std     43.445368       0.828066      0.433594       1.764420      0.763161\n",
              "min      1.000000       4.300000      2.000000       1.000000      0.100000\n",
              "25%     38.250000       5.100000      2.800000       1.600000      0.300000\n",
              "50%     75.500000       5.800000      3.000000       4.350000      1.300000\n",
              "75%    112.750000       6.400000      3.300000       5.100000      1.800000\n",
              "max    150.000000       7.900000      4.400000       6.900000      2.500000"
            ]
          },
          "execution_count": 8,
          "metadata": {},
          "output_type": "execute_result"
        }
      ],
      "source": [
        "#summary statistics\n",
        "df.describe()  # Gives statistical summaries of numeric columns"
      ]
    },
    {
      "cell_type": "code",
      "execution_count": 9,
      "metadata": {
        "colab": {
          "base_uri": "https://localhost:8080/",
          "height": 272
        },
        "id": "jx670j5FJrea",
        "outputId": "9c66ff4b-8137-434e-9c4f-8bd04b6c0d14"
      },
      "outputs": [
        {
          "data": {
            "text/plain": [
              "Id               0\n",
              "SepalLengthCm    0\n",
              "SepalWidthCm     0\n",
              "PetalLengthCm    0\n",
              "PetalWidthCm     0\n",
              "Species          0\n",
              "dtype: int64"
            ]
          },
          "execution_count": 9,
          "metadata": {},
          "output_type": "execute_result"
        }
      ],
      "source": [
        "# check for missing values\n",
        "df.isnull().sum()   #Checks for missing values in each column and returns the count of nulls per column."
      ]
    },
    {
      "cell_type": "markdown",
      "metadata": {
        "id": "eeOAI1U_MzSW"
      },
      "source": [
        "Data preprocessing ends"
      ]
    },
    {
      "cell_type": "code",
      "execution_count": 10,
      "metadata": {
        "colab": {
          "base_uri": "https://localhost:8080/",
          "height": 272
        },
        "id": "6aOMQgp_HjRd",
        "outputId": "3affa31e-8263-4fa4-a071-76830e68965c"
      },
      "outputs": [
        {
          "data": {
            "text/plain": [
              "Id                 int64\n",
              "SepalLengthCm    float64\n",
              "SepalWidthCm     float64\n",
              "PetalLengthCm    float64\n",
              "PetalWidthCm     float64\n",
              "Species           object\n",
              "dtype: object"
            ]
          },
          "execution_count": 10,
          "metadata": {},
          "output_type": "execute_result"
        }
      ],
      "source": [
        "#Check data types\n",
        "df.dtypes"
      ]
    },
    {
      "cell_type": "code",
      "execution_count": 11,
      "metadata": {
        "id": "HEgnDvqTHl4p"
      },
      "outputs": [],
      "source": [
        "#Convert 'Species' to categorical if not already\n",
        "df['Species'] = df['Species'].astype('category')"
      ]
    },
    {
      "cell_type": "code",
      "execution_count": 12,
      "metadata": {
        "colab": {
          "base_uri": "https://localhost:8080/",
          "height": 272
        },
        "id": "SP9RdBmzIC7k",
        "outputId": "e6bc8165-73de-4c43-aa34-073af461f072"
      },
      "outputs": [
        {
          "data": {
            "text/plain": [
              "Id                  int64\n",
              "SepalLengthCm     float64\n",
              "SepalWidthCm      float64\n",
              "PetalLengthCm     float64\n",
              "PetalWidthCm      float64\n",
              "Species          category\n",
              "dtype: object"
            ]
          },
          "execution_count": 12,
          "metadata": {},
          "output_type": "execute_result"
        }
      ],
      "source": [
        "df.dtypes"
      ]
    },
    {
      "cell_type": "code",
      "execution_count": 13,
      "metadata": {
        "id": "LaTS-IWUIKEu"
      },
      "outputs": [],
      "source": [
        "# all dataset convert to common scale\n",
        "from sklearn.preprocessing import MinMaxScaler\n",
        "scalar = MinMaxScaler()\n",
        "df[['SepalLengthCm', 'SepalWidthCm', 'PetalLengthCm', 'PetalWidthCm']] = scalar.fit_transform(df[['SepalLengthCm', 'SepalWidthCm', 'PetalLengthCm', 'PetalWidthCm']])\n",
        "\n",
        "#Imports MinMaxScaler to normalize values between 0 and 1. Applies scaling to all numeric feature columns. This ensures that all features are on the same scale, which is important for many ML algorithms."
      ]
    },
    {
      "cell_type": "code",
      "execution_count": 14,
      "metadata": {
        "colab": {
          "base_uri": "https://localhost:8080/"
        },
        "id": "23StV6GeJL0G",
        "outputId": "ee0f8033-59f3-40d7-9c6e-4a8d25059240"
      },
      "outputs": [
        {
          "name": "stdout",
          "output_type": "stream",
          "text": [
            "      Id  SepalLengthCm  SepalWidthCm  PetalLengthCm  PetalWidthCm  \\\n",
            "0      1       0.222222      0.625000       0.067797      0.041667   \n",
            "1      2       0.166667      0.416667       0.067797      0.041667   \n",
            "2      3       0.111111      0.500000       0.050847      0.041667   \n",
            "3      4       0.083333      0.458333       0.084746      0.041667   \n",
            "4      5       0.194444      0.666667       0.067797      0.041667   \n",
            "..   ...            ...           ...            ...           ...   \n",
            "145  146       0.666667      0.416667       0.711864      0.916667   \n",
            "146  147       0.555556      0.208333       0.677966      0.750000   \n",
            "147  148       0.611111      0.416667       0.711864      0.791667   \n",
            "148  149       0.527778      0.583333       0.745763      0.916667   \n",
            "149  150       0.444444      0.416667       0.694915      0.708333   \n",
            "\n",
            "            Species  \n",
            "0       Iris-setosa  \n",
            "1       Iris-setosa  \n",
            "2       Iris-setosa  \n",
            "3       Iris-setosa  \n",
            "4       Iris-setosa  \n",
            "..              ...  \n",
            "145  Iris-virginica  \n",
            "146  Iris-virginica  \n",
            "147  Iris-virginica  \n",
            "148  Iris-virginica  \n",
            "149  Iris-virginica  \n",
            "\n",
            "[150 rows x 6 columns]\n"
          ]
        }
      ],
      "source": [
        "print(df)"
      ]
    },
    {
      "cell_type": "code",
      "execution_count": 15,
      "metadata": {
        "colab": {
          "base_uri": "https://localhost:8080/",
          "height": 313
        },
        "id": "K0dB_6jZJRCG",
        "outputId": "5b0f7dc8-4dba-410f-a287-1a281c6d97c4"
      },
      "outputs": [
        {
          "data": {
            "application/vnd.microsoft.datawrangler.viewer.v0+json": {
              "columns": [
                {
                  "name": "index",
                  "rawType": "int64",
                  "type": "integer"
                },
                {
                  "name": "Id",
                  "rawType": "int64",
                  "type": "integer"
                },
                {
                  "name": "SepalLengthCm",
                  "rawType": "float64",
                  "type": "float"
                },
                {
                  "name": "SepalWidthCm",
                  "rawType": "float64",
                  "type": "float"
                },
                {
                  "name": "PetalLengthCm",
                  "rawType": "float64",
                  "type": "float"
                },
                {
                  "name": "PetalWidthCm",
                  "rawType": "float64",
                  "type": "float"
                },
                {
                  "name": "Species",
                  "rawType": "category",
                  "type": "unknown"
                },
                {
                  "name": "encoded_species",
                  "rawType": "int8",
                  "type": "integer"
                }
              ],
              "conversionMethod": "pd.DataFrame",
              "ref": "36cd8326-c299-45e9-9731-40d02994e94e",
              "rows": [
                [
                  "0",
                  "1",
                  "0.2222222222222221",
                  "0.625",
                  "0.06779661016949151",
                  "0.04166666666666667",
                  "Iris-setosa",
                  "0"
                ],
                [
                  "1",
                  "2",
                  "0.16666666666666674",
                  "0.41666666666666674",
                  "0.06779661016949151",
                  "0.04166666666666667",
                  "Iris-setosa",
                  "0"
                ],
                [
                  "2",
                  "3",
                  "0.11111111111111116",
                  "0.5",
                  "0.05084745762711865",
                  "0.04166666666666667",
                  "Iris-setosa",
                  "0"
                ],
                [
                  "3",
                  "4",
                  "0.08333333333333326",
                  "0.45833333333333326",
                  "0.0847457627118644",
                  "0.04166666666666667",
                  "Iris-setosa",
                  "0"
                ],
                [
                  "4",
                  "5",
                  "0.19444444444444442",
                  "0.6666666666666667",
                  "0.06779661016949151",
                  "0.04166666666666667",
                  "Iris-setosa",
                  "0"
                ]
              ],
              "shape": {
                "columns": 7,
                "rows": 5
              }
            },
            "text/html": [
              "<div>\n",
              "<style scoped>\n",
              "    .dataframe tbody tr th:only-of-type {\n",
              "        vertical-align: middle;\n",
              "    }\n",
              "\n",
              "    .dataframe tbody tr th {\n",
              "        vertical-align: top;\n",
              "    }\n",
              "\n",
              "    .dataframe thead th {\n",
              "        text-align: right;\n",
              "    }\n",
              "</style>\n",
              "<table border=\"1\" class=\"dataframe\">\n",
              "  <thead>\n",
              "    <tr style=\"text-align: right;\">\n",
              "      <th></th>\n",
              "      <th>Id</th>\n",
              "      <th>SepalLengthCm</th>\n",
              "      <th>SepalWidthCm</th>\n",
              "      <th>PetalLengthCm</th>\n",
              "      <th>PetalWidthCm</th>\n",
              "      <th>Species</th>\n",
              "      <th>encoded_species</th>\n",
              "    </tr>\n",
              "  </thead>\n",
              "  <tbody>\n",
              "    <tr>\n",
              "      <th>0</th>\n",
              "      <td>1</td>\n",
              "      <td>0.222222</td>\n",
              "      <td>0.625000</td>\n",
              "      <td>0.067797</td>\n",
              "      <td>0.041667</td>\n",
              "      <td>Iris-setosa</td>\n",
              "      <td>0</td>\n",
              "    </tr>\n",
              "    <tr>\n",
              "      <th>1</th>\n",
              "      <td>2</td>\n",
              "      <td>0.166667</td>\n",
              "      <td>0.416667</td>\n",
              "      <td>0.067797</td>\n",
              "      <td>0.041667</td>\n",
              "      <td>Iris-setosa</td>\n",
              "      <td>0</td>\n",
              "    </tr>\n",
              "    <tr>\n",
              "      <th>2</th>\n",
              "      <td>3</td>\n",
              "      <td>0.111111</td>\n",
              "      <td>0.500000</td>\n",
              "      <td>0.050847</td>\n",
              "      <td>0.041667</td>\n",
              "      <td>Iris-setosa</td>\n",
              "      <td>0</td>\n",
              "    </tr>\n",
              "    <tr>\n",
              "      <th>3</th>\n",
              "      <td>4</td>\n",
              "      <td>0.083333</td>\n",
              "      <td>0.458333</td>\n",
              "      <td>0.084746</td>\n",
              "      <td>0.041667</td>\n",
              "      <td>Iris-setosa</td>\n",
              "      <td>0</td>\n",
              "    </tr>\n",
              "    <tr>\n",
              "      <th>4</th>\n",
              "      <td>5</td>\n",
              "      <td>0.194444</td>\n",
              "      <td>0.666667</td>\n",
              "      <td>0.067797</td>\n",
              "      <td>0.041667</td>\n",
              "      <td>Iris-setosa</td>\n",
              "      <td>0</td>\n",
              "    </tr>\n",
              "  </tbody>\n",
              "</table>\n",
              "</div>"
            ],
            "text/plain": [
              "   Id  SepalLengthCm  SepalWidthCm  PetalLengthCm  PetalWidthCm      Species  \\\n",
              "0   1       0.222222      0.625000       0.067797      0.041667  Iris-setosa   \n",
              "1   2       0.166667      0.416667       0.067797      0.041667  Iris-setosa   \n",
              "2   3       0.111111      0.500000       0.050847      0.041667  Iris-setosa   \n",
              "3   4       0.083333      0.458333       0.084746      0.041667  Iris-setosa   \n",
              "4   5       0.194444      0.666667       0.067797      0.041667  Iris-setosa   \n",
              "\n",
              "   encoded_species  \n",
              "0                0  \n",
              "1                0  \n",
              "2                0  \n",
              "3                0  \n",
              "4                0  "
            ]
          },
          "execution_count": 15,
          "metadata": {},
          "output_type": "execute_result"
        }
      ],
      "source": [
        "#Convert 'spcies' to numerical codes (turn categorical variable into quantitative variable)\n",
        "df['encoded_species'] = df['Species'].cat.codes\n",
        "df.head()"
      ]
    },
    {
      "cell_type": "code",
      "execution_count": 16,
      "metadata": {
        "colab": {
          "base_uri": "https://localhost:8080/",
          "height": 313
        },
        "id": "irA1dUK2Jlrk",
        "outputId": "968f55b9-c1d6-4da9-ca55-ebeb1d40e237"
      },
      "outputs": [
        {
          "data": {
            "application/vnd.microsoft.datawrangler.viewer.v0+json": {
              "columns": [
                {
                  "name": "index",
                  "rawType": "int64",
                  "type": "integer"
                },
                {
                  "name": "Id",
                  "rawType": "int64",
                  "type": "integer"
                },
                {
                  "name": "SepalLengthCm",
                  "rawType": "float64",
                  "type": "float"
                },
                {
                  "name": "SepalWidthCm",
                  "rawType": "float64",
                  "type": "float"
                },
                {
                  "name": "PetalLengthCm",
                  "rawType": "float64",
                  "type": "float"
                },
                {
                  "name": "PetalWidthCm",
                  "rawType": "float64",
                  "type": "float"
                },
                {
                  "name": "Species",
                  "rawType": "category",
                  "type": "unknown"
                },
                {
                  "name": "encoded_species",
                  "rawType": "int8",
                  "type": "integer"
                }
              ],
              "conversionMethod": "pd.DataFrame",
              "ref": "6026cb92-aba3-4ff2-8dc6-615dc9e04b58",
              "rows": [
                [
                  "145",
                  "146",
                  "0.6666666666666667",
                  "0.41666666666666674",
                  "0.711864406779661",
                  "0.9166666666666666",
                  "Iris-virginica",
                  "2"
                ],
                [
                  "146",
                  "147",
                  "0.5555555555555556",
                  "0.20833333333333326",
                  "0.6779661016949152",
                  "0.75",
                  "Iris-virginica",
                  "2"
                ],
                [
                  "147",
                  "148",
                  "0.6111111111111112",
                  "0.41666666666666674",
                  "0.711864406779661",
                  "0.7916666666666667",
                  "Iris-virginica",
                  "2"
                ],
                [
                  "148",
                  "149",
                  "0.5277777777777779",
                  "0.5833333333333333",
                  "0.7457627118644068",
                  "0.9166666666666666",
                  "Iris-virginica",
                  "2"
                ],
                [
                  "149",
                  "150",
                  "0.44444444444444464",
                  "0.41666666666666674",
                  "0.6949152542372881",
                  "0.7083333333333334",
                  "Iris-virginica",
                  "2"
                ]
              ],
              "shape": {
                "columns": 7,
                "rows": 5
              }
            },
            "text/html": [
              "<div>\n",
              "<style scoped>\n",
              "    .dataframe tbody tr th:only-of-type {\n",
              "        vertical-align: middle;\n",
              "    }\n",
              "\n",
              "    .dataframe tbody tr th {\n",
              "        vertical-align: top;\n",
              "    }\n",
              "\n",
              "    .dataframe thead th {\n",
              "        text-align: right;\n",
              "    }\n",
              "</style>\n",
              "<table border=\"1\" class=\"dataframe\">\n",
              "  <thead>\n",
              "    <tr style=\"text-align: right;\">\n",
              "      <th></th>\n",
              "      <th>Id</th>\n",
              "      <th>SepalLengthCm</th>\n",
              "      <th>SepalWidthCm</th>\n",
              "      <th>PetalLengthCm</th>\n",
              "      <th>PetalWidthCm</th>\n",
              "      <th>Species</th>\n",
              "      <th>encoded_species</th>\n",
              "    </tr>\n",
              "  </thead>\n",
              "  <tbody>\n",
              "    <tr>\n",
              "      <th>145</th>\n",
              "      <td>146</td>\n",
              "      <td>0.666667</td>\n",
              "      <td>0.416667</td>\n",
              "      <td>0.711864</td>\n",
              "      <td>0.916667</td>\n",
              "      <td>Iris-virginica</td>\n",
              "      <td>2</td>\n",
              "    </tr>\n",
              "    <tr>\n",
              "      <th>146</th>\n",
              "      <td>147</td>\n",
              "      <td>0.555556</td>\n",
              "      <td>0.208333</td>\n",
              "      <td>0.677966</td>\n",
              "      <td>0.750000</td>\n",
              "      <td>Iris-virginica</td>\n",
              "      <td>2</td>\n",
              "    </tr>\n",
              "    <tr>\n",
              "      <th>147</th>\n",
              "      <td>148</td>\n",
              "      <td>0.611111</td>\n",
              "      <td>0.416667</td>\n",
              "      <td>0.711864</td>\n",
              "      <td>0.791667</td>\n",
              "      <td>Iris-virginica</td>\n",
              "      <td>2</td>\n",
              "    </tr>\n",
              "    <tr>\n",
              "      <th>148</th>\n",
              "      <td>149</td>\n",
              "      <td>0.527778</td>\n",
              "      <td>0.583333</td>\n",
              "      <td>0.745763</td>\n",
              "      <td>0.916667</td>\n",
              "      <td>Iris-virginica</td>\n",
              "      <td>2</td>\n",
              "    </tr>\n",
              "    <tr>\n",
              "      <th>149</th>\n",
              "      <td>150</td>\n",
              "      <td>0.444444</td>\n",
              "      <td>0.416667</td>\n",
              "      <td>0.694915</td>\n",
              "      <td>0.708333</td>\n",
              "      <td>Iris-virginica</td>\n",
              "      <td>2</td>\n",
              "    </tr>\n",
              "  </tbody>\n",
              "</table>\n",
              "</div>"
            ],
            "text/plain": [
              "      Id  SepalLengthCm  SepalWidthCm  PetalLengthCm  PetalWidthCm  \\\n",
              "145  146       0.666667      0.416667       0.711864      0.916667   \n",
              "146  147       0.555556      0.208333       0.677966      0.750000   \n",
              "147  148       0.611111      0.416667       0.711864      0.791667   \n",
              "148  149       0.527778      0.583333       0.745763      0.916667   \n",
              "149  150       0.444444      0.416667       0.694915      0.708333   \n",
              "\n",
              "            Species  encoded_species  \n",
              "145  Iris-virginica                2  \n",
              "146  Iris-virginica                2  \n",
              "147  Iris-virginica                2  \n",
              "148  Iris-virginica                2  \n",
              "149  Iris-virginica                2  "
            ]
          },
          "execution_count": 16,
          "metadata": {},
          "output_type": "execute_result"
        }
      ],
      "source": [
        "df.tail()"
      ]
    },
    {
      "cell_type": "code",
      "execution_count": 17,
      "metadata": {
        "id": "maad75-9J7SB"
      },
      "outputs": [],
      "source": [
        "# converts categorical variables to binary code\n",
        "df = pd.get_dummies(df,columns = ['Species'])\n",
        "\n",
        "# Converts the Species column into multiple binary columns using one-hot encoding. For example: Species_setosa, Species_versicolor, Species_virginica."
      ]
    },
    {
      "cell_type": "code",
      "execution_count": 18,
      "metadata": {
        "colab": {
          "base_uri": "https://localhost:8080/",
          "height": 461
        },
        "id": "d1ZmLDVKKTiw",
        "outputId": "0d5413bc-78cc-4c83-8d29-a39efc0db5f4"
      },
      "outputs": [
        {
          "data": {
            "application/vnd.microsoft.datawrangler.viewer.v0+json": {
              "columns": [
                {
                  "name": "index",
                  "rawType": "int64",
                  "type": "integer"
                },
                {
                  "name": "Id",
                  "rawType": "int64",
                  "type": "integer"
                },
                {
                  "name": "SepalLengthCm",
                  "rawType": "float64",
                  "type": "float"
                },
                {
                  "name": "SepalWidthCm",
                  "rawType": "float64",
                  "type": "float"
                },
                {
                  "name": "PetalLengthCm",
                  "rawType": "float64",
                  "type": "float"
                },
                {
                  "name": "PetalWidthCm",
                  "rawType": "float64",
                  "type": "float"
                },
                {
                  "name": "encoded_species",
                  "rawType": "int8",
                  "type": "integer"
                },
                {
                  "name": "Species_Iris-setosa",
                  "rawType": "bool",
                  "type": "boolean"
                },
                {
                  "name": "Species_Iris-versicolor",
                  "rawType": "bool",
                  "type": "boolean"
                },
                {
                  "name": "Species_Iris-virginica",
                  "rawType": "bool",
                  "type": "boolean"
                }
              ],
              "conversionMethod": "pd.DataFrame",
              "ref": "10fbd3aa-037a-4700-9d62-4ff245c1d694",
              "rows": [
                [
                  "0",
                  "1",
                  "0.2222222222222221",
                  "0.625",
                  "0.06779661016949151",
                  "0.04166666666666667",
                  "0",
                  "True",
                  "False",
                  "False"
                ],
                [
                  "1",
                  "2",
                  "0.16666666666666674",
                  "0.41666666666666674",
                  "0.06779661016949151",
                  "0.04166666666666667",
                  "0",
                  "True",
                  "False",
                  "False"
                ],
                [
                  "2",
                  "3",
                  "0.11111111111111116",
                  "0.5",
                  "0.05084745762711865",
                  "0.04166666666666667",
                  "0",
                  "True",
                  "False",
                  "False"
                ],
                [
                  "3",
                  "4",
                  "0.08333333333333326",
                  "0.45833333333333326",
                  "0.0847457627118644",
                  "0.04166666666666667",
                  "0",
                  "True",
                  "False",
                  "False"
                ],
                [
                  "4",
                  "5",
                  "0.19444444444444442",
                  "0.6666666666666667",
                  "0.06779661016949151",
                  "0.04166666666666667",
                  "0",
                  "True",
                  "False",
                  "False"
                ],
                [
                  "5",
                  "6",
                  "0.3055555555555556",
                  "0.7916666666666665",
                  "0.11864406779661013",
                  "0.125",
                  "0",
                  "True",
                  "False",
                  "False"
                ],
                [
                  "6",
                  "7",
                  "0.08333333333333326",
                  "0.5833333333333333",
                  "0.06779661016949151",
                  "0.08333333333333333",
                  "0",
                  "True",
                  "False",
                  "False"
                ],
                [
                  "7",
                  "8",
                  "0.19444444444444442",
                  "0.5833333333333333",
                  "0.0847457627118644",
                  "0.04166666666666667",
                  "0",
                  "True",
                  "False",
                  "False"
                ],
                [
                  "8",
                  "9",
                  "0.0277777777777779",
                  "0.375",
                  "0.06779661016949151",
                  "0.04166666666666667",
                  "0",
                  "True",
                  "False",
                  "False"
                ],
                [
                  "9",
                  "10",
                  "0.16666666666666674",
                  "0.45833333333333326",
                  "0.0847457627118644",
                  "0.0",
                  "0",
                  "True",
                  "False",
                  "False"
                ],
                [
                  "10",
                  "11",
                  "0.3055555555555556",
                  "0.7083333333333333",
                  "0.0847457627118644",
                  "0.04166666666666667",
                  "0",
                  "True",
                  "False",
                  "False"
                ],
                [
                  "11",
                  "12",
                  "0.13888888888888884",
                  "0.5833333333333333",
                  "0.1016949152542373",
                  "0.04166666666666667",
                  "0",
                  "True",
                  "False",
                  "False"
                ],
                [
                  "12",
                  "13",
                  "0.13888888888888884",
                  "0.41666666666666674",
                  "0.06779661016949151",
                  "0.0",
                  "0",
                  "True",
                  "False",
                  "False"
                ],
                [
                  "13",
                  "14",
                  "0.0",
                  "0.41666666666666674",
                  "0.01694915254237289",
                  "0.0",
                  "0",
                  "True",
                  "False",
                  "False"
                ],
                [
                  "14",
                  "15",
                  "0.4166666666666665",
                  "0.8333333333333333",
                  "0.033898305084745756",
                  "0.04166666666666667",
                  "0",
                  "True",
                  "False",
                  "False"
                ],
                [
                  "15",
                  "16",
                  "0.38888888888888884",
                  "1.0",
                  "0.0847457627118644",
                  "0.125",
                  "0",
                  "True",
                  "False",
                  "False"
                ],
                [
                  "16",
                  "17",
                  "0.3055555555555556",
                  "0.7916666666666665",
                  "0.05084745762711865",
                  "0.125",
                  "0",
                  "True",
                  "False",
                  "False"
                ],
                [
                  "17",
                  "18",
                  "0.2222222222222221",
                  "0.625",
                  "0.06779661016949151",
                  "0.08333333333333333",
                  "0",
                  "True",
                  "False",
                  "False"
                ],
                [
                  "18",
                  "19",
                  "0.38888888888888884",
                  "0.7499999999999998",
                  "0.11864406779661013",
                  "0.08333333333333333",
                  "0",
                  "True",
                  "False",
                  "False"
                ],
                [
                  "19",
                  "20",
                  "0.2222222222222221",
                  "0.7499999999999998",
                  "0.0847457627118644",
                  "0.08333333333333333",
                  "0",
                  "True",
                  "False",
                  "False"
                ],
                [
                  "20",
                  "21",
                  "0.3055555555555556",
                  "0.5833333333333333",
                  "0.11864406779661013",
                  "0.04166666666666667",
                  "0",
                  "True",
                  "False",
                  "False"
                ],
                [
                  "21",
                  "22",
                  "0.2222222222222221",
                  "0.7083333333333333",
                  "0.0847457627118644",
                  "0.125",
                  "0",
                  "True",
                  "False",
                  "False"
                ],
                [
                  "22",
                  "23",
                  "0.08333333333333326",
                  "0.6666666666666667",
                  "0.0",
                  "0.04166666666666667",
                  "0",
                  "True",
                  "False",
                  "False"
                ],
                [
                  "23",
                  "24",
                  "0.2222222222222221",
                  "0.5416666666666665",
                  "0.11864406779661013",
                  "0.16666666666666669",
                  "0",
                  "True",
                  "False",
                  "False"
                ],
                [
                  "24",
                  "25",
                  "0.13888888888888884",
                  "0.5833333333333333",
                  "0.15254237288135591",
                  "0.04166666666666667",
                  "0",
                  "True",
                  "False",
                  "False"
                ],
                [
                  "25",
                  "26",
                  "0.19444444444444442",
                  "0.41666666666666674",
                  "0.1016949152542373",
                  "0.04166666666666667",
                  "0",
                  "True",
                  "False",
                  "False"
                ],
                [
                  "26",
                  "27",
                  "0.19444444444444442",
                  "0.5833333333333333",
                  "0.1016949152542373",
                  "0.125",
                  "0",
                  "True",
                  "False",
                  "False"
                ],
                [
                  "27",
                  "28",
                  "0.25",
                  "0.625",
                  "0.0847457627118644",
                  "0.04166666666666667",
                  "0",
                  "True",
                  "False",
                  "False"
                ],
                [
                  "28",
                  "29",
                  "0.25",
                  "0.5833333333333333",
                  "0.06779661016949151",
                  "0.04166666666666667",
                  "0",
                  "True",
                  "False",
                  "False"
                ],
                [
                  "29",
                  "30",
                  "0.11111111111111116",
                  "0.5",
                  "0.1016949152542373",
                  "0.04166666666666667",
                  "0",
                  "True",
                  "False",
                  "False"
                ],
                [
                  "30",
                  "31",
                  "0.13888888888888884",
                  "0.45833333333333326",
                  "0.1016949152542373",
                  "0.04166666666666667",
                  "0",
                  "True",
                  "False",
                  "False"
                ],
                [
                  "31",
                  "32",
                  "0.3055555555555556",
                  "0.5833333333333333",
                  "0.0847457627118644",
                  "0.125",
                  "0",
                  "True",
                  "False",
                  "False"
                ],
                [
                  "32",
                  "33",
                  "0.25",
                  "0.8749999999999998",
                  "0.0847457627118644",
                  "0.0",
                  "0",
                  "True",
                  "False",
                  "False"
                ],
                [
                  "33",
                  "34",
                  "0.33333333333333326",
                  "0.9166666666666667",
                  "0.06779661016949151",
                  "0.04166666666666667",
                  "0",
                  "True",
                  "False",
                  "False"
                ],
                [
                  "34",
                  "35",
                  "0.16666666666666674",
                  "0.45833333333333326",
                  "0.0847457627118644",
                  "0.0",
                  "0",
                  "True",
                  "False",
                  "False"
                ],
                [
                  "35",
                  "36",
                  "0.19444444444444442",
                  "0.5",
                  "0.033898305084745756",
                  "0.04166666666666667",
                  "0",
                  "True",
                  "False",
                  "False"
                ],
                [
                  "36",
                  "37",
                  "0.33333333333333326",
                  "0.625",
                  "0.05084745762711865",
                  "0.04166666666666667",
                  "0",
                  "True",
                  "False",
                  "False"
                ],
                [
                  "37",
                  "38",
                  "0.16666666666666674",
                  "0.45833333333333326",
                  "0.0847457627118644",
                  "0.0",
                  "0",
                  "True",
                  "False",
                  "False"
                ],
                [
                  "38",
                  "39",
                  "0.0277777777777779",
                  "0.41666666666666674",
                  "0.05084745762711865",
                  "0.04166666666666667",
                  "0",
                  "True",
                  "False",
                  "False"
                ],
                [
                  "39",
                  "40",
                  "0.2222222222222221",
                  "0.5833333333333333",
                  "0.0847457627118644",
                  "0.04166666666666667",
                  "0",
                  "True",
                  "False",
                  "False"
                ],
                [
                  "40",
                  "41",
                  "0.19444444444444442",
                  "0.625",
                  "0.05084745762711865",
                  "0.08333333333333333",
                  "0",
                  "True",
                  "False",
                  "False"
                ],
                [
                  "41",
                  "42",
                  "0.05555555555555558",
                  "0.12499999999999989",
                  "0.05084745762711865",
                  "0.08333333333333333",
                  "0",
                  "True",
                  "False",
                  "False"
                ],
                [
                  "42",
                  "43",
                  "0.0277777777777779",
                  "0.5",
                  "0.05084745762711865",
                  "0.04166666666666667",
                  "0",
                  "True",
                  "False",
                  "False"
                ],
                [
                  "43",
                  "44",
                  "0.19444444444444442",
                  "0.625",
                  "0.1016949152542373",
                  "0.20833333333333331",
                  "0",
                  "True",
                  "False",
                  "False"
                ],
                [
                  "44",
                  "45",
                  "0.2222222222222221",
                  "0.7499999999999998",
                  "0.15254237288135591",
                  "0.125",
                  "0",
                  "True",
                  "False",
                  "False"
                ],
                [
                  "45",
                  "46",
                  "0.13888888888888884",
                  "0.41666666666666674",
                  "0.06779661016949151",
                  "0.08333333333333333",
                  "0",
                  "True",
                  "False",
                  "False"
                ],
                [
                  "46",
                  "47",
                  "0.2222222222222221",
                  "0.7499999999999998",
                  "0.1016949152542373",
                  "0.04166666666666667",
                  "0",
                  "True",
                  "False",
                  "False"
                ],
                [
                  "47",
                  "48",
                  "0.08333333333333326",
                  "0.5",
                  "0.06779661016949151",
                  "0.04166666666666667",
                  "0",
                  "True",
                  "False",
                  "False"
                ],
                [
                  "48",
                  "49",
                  "0.2777777777777777",
                  "0.7083333333333333",
                  "0.0847457627118644",
                  "0.04166666666666667",
                  "0",
                  "True",
                  "False",
                  "False"
                ],
                [
                  "49",
                  "50",
                  "0.19444444444444442",
                  "0.5416666666666665",
                  "0.06779661016949151",
                  "0.04166666666666667",
                  "0",
                  "True",
                  "False",
                  "False"
                ]
              ],
              "shape": {
                "columns": 9,
                "rows": 150
              }
            },
            "text/html": [
              "<div>\n",
              "<style scoped>\n",
              "    .dataframe tbody tr th:only-of-type {\n",
              "        vertical-align: middle;\n",
              "    }\n",
              "\n",
              "    .dataframe tbody tr th {\n",
              "        vertical-align: top;\n",
              "    }\n",
              "\n",
              "    .dataframe thead th {\n",
              "        text-align: right;\n",
              "    }\n",
              "</style>\n",
              "<table border=\"1\" class=\"dataframe\">\n",
              "  <thead>\n",
              "    <tr style=\"text-align: right;\">\n",
              "      <th></th>\n",
              "      <th>Id</th>\n",
              "      <th>SepalLengthCm</th>\n",
              "      <th>SepalWidthCm</th>\n",
              "      <th>PetalLengthCm</th>\n",
              "      <th>PetalWidthCm</th>\n",
              "      <th>encoded_species</th>\n",
              "      <th>Species_Iris-setosa</th>\n",
              "      <th>Species_Iris-versicolor</th>\n",
              "      <th>Species_Iris-virginica</th>\n",
              "    </tr>\n",
              "  </thead>\n",
              "  <tbody>\n",
              "    <tr>\n",
              "      <th>0</th>\n",
              "      <td>1</td>\n",
              "      <td>0.222222</td>\n",
              "      <td>0.625000</td>\n",
              "      <td>0.067797</td>\n",
              "      <td>0.041667</td>\n",
              "      <td>0</td>\n",
              "      <td>True</td>\n",
              "      <td>False</td>\n",
              "      <td>False</td>\n",
              "    </tr>\n",
              "    <tr>\n",
              "      <th>1</th>\n",
              "      <td>2</td>\n",
              "      <td>0.166667</td>\n",
              "      <td>0.416667</td>\n",
              "      <td>0.067797</td>\n",
              "      <td>0.041667</td>\n",
              "      <td>0</td>\n",
              "      <td>True</td>\n",
              "      <td>False</td>\n",
              "      <td>False</td>\n",
              "    </tr>\n",
              "    <tr>\n",
              "      <th>2</th>\n",
              "      <td>3</td>\n",
              "      <td>0.111111</td>\n",
              "      <td>0.500000</td>\n",
              "      <td>0.050847</td>\n",
              "      <td>0.041667</td>\n",
              "      <td>0</td>\n",
              "      <td>True</td>\n",
              "      <td>False</td>\n",
              "      <td>False</td>\n",
              "    </tr>\n",
              "    <tr>\n",
              "      <th>3</th>\n",
              "      <td>4</td>\n",
              "      <td>0.083333</td>\n",
              "      <td>0.458333</td>\n",
              "      <td>0.084746</td>\n",
              "      <td>0.041667</td>\n",
              "      <td>0</td>\n",
              "      <td>True</td>\n",
              "      <td>False</td>\n",
              "      <td>False</td>\n",
              "    </tr>\n",
              "    <tr>\n",
              "      <th>4</th>\n",
              "      <td>5</td>\n",
              "      <td>0.194444</td>\n",
              "      <td>0.666667</td>\n",
              "      <td>0.067797</td>\n",
              "      <td>0.041667</td>\n",
              "      <td>0</td>\n",
              "      <td>True</td>\n",
              "      <td>False</td>\n",
              "      <td>False</td>\n",
              "    </tr>\n",
              "    <tr>\n",
              "      <th>...</th>\n",
              "      <td>...</td>\n",
              "      <td>...</td>\n",
              "      <td>...</td>\n",
              "      <td>...</td>\n",
              "      <td>...</td>\n",
              "      <td>...</td>\n",
              "      <td>...</td>\n",
              "      <td>...</td>\n",
              "      <td>...</td>\n",
              "    </tr>\n",
              "    <tr>\n",
              "      <th>145</th>\n",
              "      <td>146</td>\n",
              "      <td>0.666667</td>\n",
              "      <td>0.416667</td>\n",
              "      <td>0.711864</td>\n",
              "      <td>0.916667</td>\n",
              "      <td>2</td>\n",
              "      <td>False</td>\n",
              "      <td>False</td>\n",
              "      <td>True</td>\n",
              "    </tr>\n",
              "    <tr>\n",
              "      <th>146</th>\n",
              "      <td>147</td>\n",
              "      <td>0.555556</td>\n",
              "      <td>0.208333</td>\n",
              "      <td>0.677966</td>\n",
              "      <td>0.750000</td>\n",
              "      <td>2</td>\n",
              "      <td>False</td>\n",
              "      <td>False</td>\n",
              "      <td>True</td>\n",
              "    </tr>\n",
              "    <tr>\n",
              "      <th>147</th>\n",
              "      <td>148</td>\n",
              "      <td>0.611111</td>\n",
              "      <td>0.416667</td>\n",
              "      <td>0.711864</td>\n",
              "      <td>0.791667</td>\n",
              "      <td>2</td>\n",
              "      <td>False</td>\n",
              "      <td>False</td>\n",
              "      <td>True</td>\n",
              "    </tr>\n",
              "    <tr>\n",
              "      <th>148</th>\n",
              "      <td>149</td>\n",
              "      <td>0.527778</td>\n",
              "      <td>0.583333</td>\n",
              "      <td>0.745763</td>\n",
              "      <td>0.916667</td>\n",
              "      <td>2</td>\n",
              "      <td>False</td>\n",
              "      <td>False</td>\n",
              "      <td>True</td>\n",
              "    </tr>\n",
              "    <tr>\n",
              "      <th>149</th>\n",
              "      <td>150</td>\n",
              "      <td>0.444444</td>\n",
              "      <td>0.416667</td>\n",
              "      <td>0.694915</td>\n",
              "      <td>0.708333</td>\n",
              "      <td>2</td>\n",
              "      <td>False</td>\n",
              "      <td>False</td>\n",
              "      <td>True</td>\n",
              "    </tr>\n",
              "  </tbody>\n",
              "</table>\n",
              "<p>150 rows × 9 columns</p>\n",
              "</div>"
            ],
            "text/plain": [
              "      Id  SepalLengthCm  SepalWidthCm  PetalLengthCm  PetalWidthCm  \\\n",
              "0      1       0.222222      0.625000       0.067797      0.041667   \n",
              "1      2       0.166667      0.416667       0.067797      0.041667   \n",
              "2      3       0.111111      0.500000       0.050847      0.041667   \n",
              "3      4       0.083333      0.458333       0.084746      0.041667   \n",
              "4      5       0.194444      0.666667       0.067797      0.041667   \n",
              "..   ...            ...           ...            ...           ...   \n",
              "145  146       0.666667      0.416667       0.711864      0.916667   \n",
              "146  147       0.555556      0.208333       0.677966      0.750000   \n",
              "147  148       0.611111      0.416667       0.711864      0.791667   \n",
              "148  149       0.527778      0.583333       0.745763      0.916667   \n",
              "149  150       0.444444      0.416667       0.694915      0.708333   \n",
              "\n",
              "     encoded_species  Species_Iris-setosa  Species_Iris-versicolor  \\\n",
              "0                  0                 True                    False   \n",
              "1                  0                 True                    False   \n",
              "2                  0                 True                    False   \n",
              "3                  0                 True                    False   \n",
              "4                  0                 True                    False   \n",
              "..               ...                  ...                      ...   \n",
              "145                2                False                    False   \n",
              "146                2                False                    False   \n",
              "147                2                False                    False   \n",
              "148                2                False                    False   \n",
              "149                2                False                    False   \n",
              "\n",
              "     Species_Iris-virginica  \n",
              "0                     False  \n",
              "1                     False  \n",
              "2                     False  \n",
              "3                     False  \n",
              "4                     False  \n",
              "..                      ...  \n",
              "145                    True  \n",
              "146                    True  \n",
              "147                    True  \n",
              "148                    True  \n",
              "149                    True  \n",
              "\n",
              "[150 rows x 9 columns]"
            ]
          },
          "execution_count": 18,
          "metadata": {},
          "output_type": "execute_result"
        }
      ],
      "source": [
        "df"
      ]
    }
  ],
  "metadata": {
    "colab": {
      "provenance": []
    },
    "kernelspec": {
      "display_name": "Python 3",
      "name": "python3"
    },
    "language_info": {
      "codemirror_mode": {
        "name": "ipython",
        "version": 3
      },
      "file_extension": ".py",
      "mimetype": "text/x-python",
      "name": "python",
      "nbconvert_exporter": "python",
      "pygments_lexer": "ipython3",
      "version": "3.11.9"
    }
  },
  "nbformat": 4,
  "nbformat_minor": 0
}
